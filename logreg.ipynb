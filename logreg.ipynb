{
 "cells": [
  {
   "cell_type": "code",
   "execution_count": 1,
   "metadata": {},
   "outputs": [],
   "source": [
    "%matplotlib inline\n",
    "import pandas as pd\n",
    "import numpy as np \n",
    "import seaborn as sn\n",
    "import codecs\n",
    "import statsmodels as st\n",
    "import matplotlib.pyplot as plt\n",
    "import statsmodels.api as sm\n",
    "import statsmodels.formula.api as smf\n",
    "import scipy as sc\n",
    "from scipy import stats\n",
    "from patsy import dmatrices\n",
    "import matplotlib as mt\n",
    "from scipy import stats\n",
    "from statsmodels.formula.api import logit, probit, poisson, ols\n",
    "from statsmodels import stats\n",
    "import sklearn as sk\n",
    "from sklearn.linear_model import LogisticRegression"
   ]
  },
  {
   "cell_type": "markdown",
   "metadata": {},
   "source": [
    "\n",
    "# Logistic function\n",
    "\n",
    "\n",
    "Shown in the plot is how the logistic regression would, in this\n",
    "synthetic dataset, classify values as either 0 or 1,\n",
    "i.e. class one or two, using the logistic curve.\n",
    "\n",
    "\n"
   ]
  },
  {
   "cell_type": "code",
   "execution_count": 2,
   "metadata": {},
   "outputs": [],
   "source": [
    "%matplotlib inline"
   ]
  },
  {
   "cell_type": "code",
   "execution_count": 3,
   "metadata": {},
   "outputs": [],
   "source": [
    "mt.style.use('seaborn-paper')\n",
    "\n",
    "##ustawienie czcionki \n",
    "font = {'family' : 'Dejavu Sans',\n",
    "        'weight' : 'normal',\n",
    "        'size'   : 18}\n",
    "plt.rc('font', **font)\n",
    "\n"
   ]
  },
  {
   "cell_type": "code",
   "execution_count": 4,
   "metadata": {},
   "outputs": [
    {
     "data": {
      "image/png": "[encoded data removed]",
      "text/plain": [
       "<Figure size 216x72 with 1 Axes>"
      ]
     },
     "metadata": {},
     "output_type": "display_data"
    }
   ],
   "source": [
    "# setting palette\n",
    "pal = [\"#01A183\", \"#696969\", \"#4Cb5F5\"]\n",
    "sn.palplot(sn.color_palette(pal))"
   ]
  },
  {
   "cell_type": "code",
   "execution_count": 5,
   "metadata": {},
   "outputs": [],
   "source": [
    "#all = pd.read_excel(\"C:\\\\Users\\\\swidrak\\\\OneDrive\\\\python\\\\ultimatum2\\\\data\\\\allupdated.xlsx\")\n",
    "all = pd.read_excel(\"C:\\\\Users\\\\Justyna\\\\Python Scripts\\\\ultimatum2\\\\data\\\\ultimatum2.xlsx\")"
   ]
  },
  {
   "cell_type": "code",
   "execution_count": 6,
   "metadata": {},
   "outputs": [],
   "source": [
    "all = all[all[\"cut\"] == \"keep\"]\n",
    "all = all[all[\"cut2\"] == \"keep\"]"
   ]
  },
  {
   "cell_type": "code",
   "execution_count": 7,
   "metadata": {},
   "outputs": [],
   "source": [
    "#new columns\n",
    "all.loc[:,'name'] = all.loc[:,'agent'].apply(lambda x: \"low status\" if x == 0 else \"high status\")\n",
    "\n",
    "all['touch'] = all.loc[:,('touch')].apply(lambda x: 0 if x == 0.0 else 1)\n",
    "\n",
    "all['cult'] = all.loc[:,('country')].apply(lambda x: 1 if x == \"pl\" else 0)\n",
    "\n",
    "all['offerParC'] = all.loc[:,'offerPar'].apply(lambda x: \"unfair\" if x < 36 else (\"fair\" if x > 36 and x < 46 else \"generous\"))"
   ]
  },
  {
   "cell_type": "code",
   "execution_count": 8,
   "metadata": {},
   "outputs": [],
   "source": [
    "pro = all[all[\"parPro\"] == 1]\n",
    "res = all[all[\"parPro\"] == 0]\n",
    "\n",
    "pl = all[all[\"country\"] == \"pl\"]\n",
    "ca = all[all[\"country\"] == \"cat\"]\n",
    "\n",
    "plpro = pl[pl[\"parPro\"] == 1]\n",
    "capro = ca[ca[\"parPro\"] == 1]\n",
    "\n",
    "plres = pl[pl[\"parPro\"] == 0]\n",
    "cares = ca[ca[\"parPro\"] == 0]"
   ]
  },
  {
   "cell_type": "markdown",
   "metadata": {},
   "source": [
    "# CALCULATIONS"
   ]
  },
  {
   "cell_type": "markdown",
   "metadata": {},
   "source": [
    "## participant responder"
   ]
  },
  {
   "cell_type": "code",
   "execution_count": 9,
   "metadata": {},
   "outputs": [
    {
     "data": {
      "text/plain": [
       "offerParC  name         country\n",
       "fair       high status  cat         44.444444\n",
       "                        pl          46.666667\n",
       "           low status   cat         32.098765\n",
       "                        pl          33.333333\n",
       "generous   high status  cat         88.888889\n",
       "                        pl          76.000000\n",
       "           low status   cat        100.000000\n",
       "                        pl          84.000000\n",
       "unfair     high status  cat          7.407407\n",
       "                        pl          16.000000\n",
       "           low status   cat          9.259259\n",
       "                        pl          12.000000\n",
       "Name: accepted, dtype: float64"
      ]
     },
     "execution_count": 9,
     "metadata": {},
     "output_type": "execute_result"
    }
   ],
   "source": [
    "#acceptance rate by country and category\n",
    "res.groupby([\"offerParC\", \"name\", \"country\"])[\"accepted\"].mean()*100"
   ]
  },
  {
   "cell_type": "code",
   "execution_count": null,
   "metadata": {},
   "outputs": [],
   "source": []
  },
  {
   "cell_type": "code",
   "execution_count": 10,
   "metadata": {},
   "outputs": [
    {
     "name": "stdout",
     "output_type": "stream",
     "text": [
      "Optimization terminated successfully.\n",
      "         Current function value: 0.623291\n",
      "         Iterations 5\n",
      "                           Logit Regression Results                           \n",
      "==============================================================================\n",
      "Dep. Variable:               accepted   No. Observations:                  624\n",
      "Model:                          Logit   Df Residuals:                      616\n",
      "Method:                           MLE   Df Model:                            7\n",
      "Date:                Mon, 27 Aug 2018   Pseudo R-squ.:                 0.06015\n",
      "Time:                        10:10:47   Log-Likelihood:                -388.93\n",
      "converged:                       True   LL-Null:                       -413.82\n",
      "                                        LLR p-value:                 1.595e-08\n",
      "===============================================================================\n",
      "                  coef    std err          z      P>|z|      [0.025      0.975]\n",
      "-------------------------------------------------------------------------------\n",
      "Intercept      -1.1919      0.222     -5.372      0.000      -1.627      -0.757\n",
      "agent           0.5928      0.260      2.285      0.022       0.084       1.101\n",
      "touch           1.2007      0.254      4.722      0.000       0.702       1.699\n",
      "agent:touch    -0.6461      0.347     -1.860      0.063      -1.327       0.035\n",
      "cult           -0.1843      0.227     -0.811      0.418      -0.630       0.261\n",
      "Zstat           0.0340      0.090      0.378      0.705      -0.142       0.211\n",
      "Zatg            0.4559      0.120      3.812      0.000       0.221       0.690\n",
      "Zmras          -0.3875      0.114     -3.391      0.001      -0.612      -0.164\n",
      "===============================================================================\n",
      "                  chi2                  P>chi2  df constraint\n",
      "Intercept    28.854660   7.801795559316763e-08              1\n",
      "agent         5.219035    0.022340950657652674              1\n",
      "touch        22.296145   2.336752421217028e-06              1\n",
      "agent:touch   3.460615     0.06284693252045456              1\n",
      "cult          0.657112      0.4175814601332153              1\n",
      "Zstat         0.142959      0.7053569644945827              1\n",
      "Zatg         14.528337  0.00013806707573211428              1\n",
      "Zmras        11.496696   0.0006972000330496651              1\n"
     ]
    }
   ],
   "source": [
    "inf = logit(\"accepted ~  agent*touch + cult + Zstat + Zatg + Zmras\", res).fit()\n",
    "#workaround of the error \"AttributeError: module 'scipy.stats' has no attribute 'chisqprob'\"\n",
    "\n",
    "stats.chisqprob = lambda chisq, df: stats.chi2.sf(chisq, df)\n",
    "\n",
    "print(inf.summary())\n",
    "print(inf.wald_test_terms())"
   ]
  },
  {
   "cell_type": "code",
   "execution_count": 11,
   "metadata": {},
   "outputs": [
    {
     "name": "stdout",
     "output_type": "stream",
     "text": [
      "Optimization terminated successfully.\n",
      "         Current function value: 0.598626\n",
      "         Iterations 5\n",
      "                           Logit Regression Results                           \n",
      "==============================================================================\n",
      "Dep. Variable:               accepted   No. Observations:                  300\n",
      "Model:                          Logit   Df Residuals:                      293\n",
      "Method:                           MLE   Df Model:                            6\n",
      "Date:                Mon, 27 Aug 2018   Pseudo R-squ.:                 0.09854\n",
      "Time:                        10:10:47   Log-Likelihood:                -179.59\n",
      "converged:                       True   LL-Null:                       -199.22\n",
      "                                        LLR p-value:                 6.356e-07\n",
      "===============================================================================\n",
      "                  coef    std err          z      P>|z|      [0.025      0.975]\n",
      "-------------------------------------------------------------------------------\n",
      "Intercept      -1.7773      0.324     -5.491      0.000      -2.412      -1.143\n",
      "agent           0.8674      0.389      2.230      0.026       0.105       1.630\n",
      "touch           1.4615      0.385      3.799      0.000       0.708       2.216\n",
      "agent:touch    -0.9833      0.517     -1.902      0.057      -1.997       0.030\n",
      "Zstat          -0.1822      0.165     -1.103      0.270      -0.506       0.142\n",
      "Zatg            0.5726      0.142      4.026      0.000       0.294       0.851\n",
      "Zmras          -0.1046      0.173     -0.604      0.546      -0.444       0.235\n",
      "===============================================================================\n",
      "                  chi2                  P>chi2  df constraint\n",
      "Intercept    30.149973   3.998928121804687e-08              1\n",
      "agent         4.974488    0.025723811837827175              1\n",
      "touch        14.434484  0.00014512046806483572              1\n",
      "agent:touch   3.616250     0.05721770934637226              1\n",
      "Zstat         1.216594      0.2700301979572134              1\n",
      "Zatg         16.206305   5.680475356816682e-05              1\n",
      "Zmras         0.364376      0.5460858979105361              1\n"
     ]
    }
   ],
   "source": [
    "#POLAND\n",
    "\n",
    "inf = logit(\"accepted ~  agent*touch + Zstat + Zatg + Zmras\", plres).fit()\n",
    "#workaround of the error \"AttributeError: module 'scipy.stats' has no attribute 'chisqprob'\"\n",
    "\n",
    "stats.chisqprob = lambda chisq, df: stats.chi2.sf(chisq, df)\n",
    "\n",
    "print(inf.summary())\n",
    "print(inf.wald_test_terms())"
   ]
  },
  {
   "cell_type": "code",
   "execution_count": 12,
   "metadata": {},
   "outputs": [
    {
     "name": "stdout",
     "output_type": "stream",
     "text": [
      "Optimization terminated successfully.\n",
      "         Current function value: 0.620339\n",
      "         Iterations 5\n",
      "                           Logit Regression Results                           \n",
      "==============================================================================\n",
      "Dep. Variable:               accepted   No. Observations:                  324\n",
      "Model:                          Logit   Df Residuals:                      317\n",
      "Method:                           MLE   Df Model:                            6\n",
      "Date:                Mon, 27 Aug 2018   Pseudo R-squ.:                 0.06342\n",
      "Time:                        10:10:47   Log-Likelihood:                -200.99\n",
      "converged:                       True   LL-Null:                       -214.60\n",
      "                                        LLR p-value:                 0.0001317\n",
      "===============================================================================\n",
      "                  coef    std err          z      P>|z|      [0.025      0.975]\n",
      "-------------------------------------------------------------------------------\n",
      "Intercept      -1.5142      0.311     -4.865      0.000      -2.124      -0.904\n",
      "agent           0.3802      0.358      1.063      0.288      -0.321       1.081\n",
      "touch           1.0352      0.348      2.972      0.003       0.352       1.718\n",
      "agent:touch    -0.3802      0.482     -0.789      0.430      -1.324       0.564\n",
      "Zstat           0.1247      0.112      1.112      0.266      -0.095       0.344\n",
      "Zatg           -0.2197      0.275     -0.799      0.424      -0.759       0.319\n",
      "Zmras          -0.4891      0.173     -2.827      0.005      -0.828      -0.150\n",
      "===============================================================================\n",
      "                  chi2                  P>chi2  df constraint\n",
      "Intercept    23.669600  1.1437506141180694e-06              1\n",
      "agent         1.130657      0.2876351793322638              1\n",
      "touch         8.830562    0.002962271237860962              1\n",
      "agent:touch   0.623177      0.4298691070668026              1\n",
      "Zstat         1.236422     0.26616183324793313              1\n",
      "Zatg          0.638255     0.42434336575846565              1\n",
      "Zmras         7.990922    0.004701245954171766              1\n"
     ]
    }
   ],
   "source": [
    "# CATALONIA\n",
    "\n",
    "inf = logit(\"accepted ~  agent*touch + Zstat + Zatg + Zmras\", cares).fit()\n",
    "#workaround of the error \"AttributeError: module 'scipy.stats' has no attribute 'chisqprob'\"\n",
    "\n",
    "stats.chisqprob = lambda chisq, df: stats.chi2.sf(chisq, df)\n",
    "\n",
    "print(inf.summary())\n",
    "print(inf.wald_test_terms())"
   ]
  },
  {
   "cell_type": "markdown",
   "metadata": {},
   "source": [
    "## participant proposer"
   ]
  },
  {
   "cell_type": "code",
   "execution_count": 13,
   "metadata": {},
   "outputs": [
    {
     "name": "stderr",
     "output_type": "stream",
     "text": [
      "C:\\Users\\Justyna\\Anaconda3\\lib\\site-packages\\pandas\\core\\indexing.py:362: SettingWithCopyWarning: \n",
      "A value is trying to be set on a copy of a slice from a DataFrame.\n",
      "Try using .loc[row_indexer,col_indexer] = value instead\n",
      "\n",
      "See the caveats in the documentation: http://pandas.pydata.org/pandas-docs/stable/indexing.html#indexing-view-versus-copy\n",
      "  self.obj[key] = _infer_fill_value(value)\n",
      "C:\\Users\\Justyna\\Anaconda3\\lib\\site-packages\\pandas\\core\\indexing.py:543: SettingWithCopyWarning: \n",
      "A value is trying to be set on a copy of a slice from a DataFrame.\n",
      "Try using .loc[row_indexer,col_indexer] = value instead\n",
      "\n",
      "See the caveats in the documentation: http://pandas.pydata.org/pandas-docs/stable/indexing.html#indexing-view-versus-copy\n",
      "  self.obj[item] = s\n"
     ]
    }
   ],
   "source": [
    "#cutting into categories (into defined number of even categories or with defined bins)\n",
    "\n",
    "bins = pd.IntervalIndex.from_tuples(((0,10), (10,20), (20,30), (30,40), \n",
    "                                     (40,50), (50,60), (60,70), (70,80),\n",
    "                                    (80,90), (90,100)))\n",
    "\n",
    "pro.loc[:,\"offerAgC\"] = pd.cut(x = pro.loc[:,\"offerAg\"], bins = bins, labels = False)\n",
    "\n",
    "#pro.loc[:,(\"offerAgC\", \"offerAg\")]"
   ]
  },
  {
   "cell_type": "code",
   "execution_count": 14,
   "metadata": {},
   "outputs": [],
   "source": [
    "#pro[\"prevParPro\"]"
   ]
  },
  {
   "cell_type": "code",
   "execution_count": 15,
   "metadata": {},
   "outputs": [
    {
     "data": {
      "text/html": [
       "<div>\n",
       "<style scoped>\n",
       "    .dataframe tbody tr th:only-of-type {\n",
       "        vertical-align: middle;\n",
       "    }\n",
       "\n",
       "    .dataframe tbody tr th {\n",
       "        vertical-align: top;\n",
       "    }\n",
       "\n",
       "    .dataframe thead th {\n",
       "        text-align: right;\n",
       "    }\n",
       "</style>\n",
       "<table border=\"1\" class=\"dataframe\">\n",
       "  <thead>\n",
       "    <tr style=\"text-align: right;\">\n",
       "      <th></th>\n",
       "      <th></th>\n",
       "      <th>count</th>\n",
       "      <th>mean</th>\n",
       "      <th>std</th>\n",
       "      <th>min</th>\n",
       "      <th>25%</th>\n",
       "      <th>50%</th>\n",
       "      <th>75%</th>\n",
       "      <th>max</th>\n",
       "    </tr>\n",
       "    <tr>\n",
       "      <th>name</th>\n",
       "      <th>country</th>\n",
       "      <th></th>\n",
       "      <th></th>\n",
       "      <th></th>\n",
       "      <th></th>\n",
       "      <th></th>\n",
       "      <th></th>\n",
       "      <th></th>\n",
       "      <th></th>\n",
       "    </tr>\n",
       "  </thead>\n",
       "  <tbody>\n",
       "    <tr>\n",
       "      <th rowspan=\"2\" valign=\"top\">high status</th>\n",
       "      <th>cat</th>\n",
       "      <td>54.0</td>\n",
       "      <td>44.240741</td>\n",
       "      <td>10.013077</td>\n",
       "      <td>3.0</td>\n",
       "      <td>40.0</td>\n",
       "      <td>46.5</td>\n",
       "      <td>50.0</td>\n",
       "      <td>65.0</td>\n",
       "    </tr>\n",
       "    <tr>\n",
       "      <th>pl</th>\n",
       "      <td>50.0</td>\n",
       "      <td>44.140000</td>\n",
       "      <td>11.596991</td>\n",
       "      <td>1.0</td>\n",
       "      <td>40.0</td>\n",
       "      <td>45.0</td>\n",
       "      <td>50.0</td>\n",
       "      <td>90.0</td>\n",
       "    </tr>\n",
       "    <tr>\n",
       "      <th rowspan=\"2\" valign=\"top\">low status</th>\n",
       "      <th>cat</th>\n",
       "      <td>68.0</td>\n",
       "      <td>46.132353</td>\n",
       "      <td>7.845342</td>\n",
       "      <td>30.0</td>\n",
       "      <td>42.0</td>\n",
       "      <td>47.0</td>\n",
       "      <td>50.0</td>\n",
       "      <td>85.0</td>\n",
       "    </tr>\n",
       "    <tr>\n",
       "      <th>pl</th>\n",
       "      <td>63.0</td>\n",
       "      <td>43.190476</td>\n",
       "      <td>7.772692</td>\n",
       "      <td>10.0</td>\n",
       "      <td>40.0</td>\n",
       "      <td>45.0</td>\n",
       "      <td>50.0</td>\n",
       "      <td>55.0</td>\n",
       "    </tr>\n",
       "  </tbody>\n",
       "</table>\n",
       "</div>"
      ],
      "text/plain": [
       "                     count       mean        std   min   25%   50%   75%   max\n",
       "name        country                                                           \n",
       "high status cat       54.0  44.240741  10.013077   3.0  40.0  46.5  50.0  65.0\n",
       "            pl        50.0  44.140000  11.596991   1.0  40.0  45.0  50.0  90.0\n",
       "low status  cat       68.0  46.132353   7.845342  30.0  42.0  47.0  50.0  85.0\n",
       "            pl        63.0  43.190476   7.772692  10.0  40.0  45.0  50.0  55.0"
      ]
     },
     "execution_count": 15,
     "metadata": {},
     "output_type": "execute_result"
    }
   ],
   "source": [
    "# mean value of offers for agents by country\n",
    "pro[pro[\"prevParPro\"] == 0].groupby([\"name\", \"country\"])[\"offerAg\"].describe()"
   ]
  },
  {
   "cell_type": "code",
   "execution_count": 16,
   "metadata": {},
   "outputs": [
    {
     "data": {
      "text/html": [
       "<div>\n",
       "<style scoped>\n",
       "    .dataframe tbody tr th:only-of-type {\n",
       "        vertical-align: middle;\n",
       "    }\n",
       "\n",
       "    .dataframe tbody tr th {\n",
       "        vertical-align: top;\n",
       "    }\n",
       "\n",
       "    .dataframe thead th {\n",
       "        text-align: right;\n",
       "    }\n",
       "</style>\n",
       "<table border=\"1\" class=\"dataframe\">\n",
       "  <thead>\n",
       "    <tr style=\"text-align: right;\">\n",
       "      <th></th>\n",
       "      <th>offerAg</th>\n",
       "      <th>Zatg</th>\n",
       "      <th>Zstat</th>\n",
       "      <th>Zemb</th>\n",
       "      <th>ZsocPres</th>\n",
       "    </tr>\n",
       "  </thead>\n",
       "  <tbody>\n",
       "    <tr>\n",
       "      <th>offerAg</th>\n",
       "      <td>1.000000</td>\n",
       "      <td>0.061513</td>\n",
       "      <td>-0.063265</td>\n",
       "      <td>0.273629</td>\n",
       "      <td>0.004604</td>\n",
       "    </tr>\n",
       "    <tr>\n",
       "      <th>Zatg</th>\n",
       "      <td>0.061513</td>\n",
       "      <td>1.000000</td>\n",
       "      <td>0.107921</td>\n",
       "      <td>-0.217639</td>\n",
       "      <td>0.005474</td>\n",
       "    </tr>\n",
       "    <tr>\n",
       "      <th>Zstat</th>\n",
       "      <td>-0.063265</td>\n",
       "      <td>0.107921</td>\n",
       "      <td>1.000000</td>\n",
       "      <td>-0.132519</td>\n",
       "      <td>0.146949</td>\n",
       "    </tr>\n",
       "    <tr>\n",
       "      <th>Zemb</th>\n",
       "      <td>0.273629</td>\n",
       "      <td>-0.217639</td>\n",
       "      <td>-0.132519</td>\n",
       "      <td>1.000000</td>\n",
       "      <td>0.046482</td>\n",
       "    </tr>\n",
       "    <tr>\n",
       "      <th>ZsocPres</th>\n",
       "      <td>0.004604</td>\n",
       "      <td>0.005474</td>\n",
       "      <td>0.146949</td>\n",
       "      <td>0.046482</td>\n",
       "      <td>1.000000</td>\n",
       "    </tr>\n",
       "  </tbody>\n",
       "</table>\n",
       "</div>"
      ],
      "text/plain": [
       "           offerAg      Zatg     Zstat      Zemb  ZsocPres\n",
       "offerAg   1.000000  0.061513 -0.063265  0.273629  0.004604\n",
       "Zatg      0.061513  1.000000  0.107921 -0.217639  0.005474\n",
       "Zstat    -0.063265  0.107921  1.000000 -0.132519  0.146949\n",
       "Zemb      0.273629 -0.217639 -0.132519  1.000000  0.046482\n",
       "ZsocPres  0.004604  0.005474  0.146949  0.046482  1.000000"
      ]
     },
     "execution_count": 16,
     "metadata": {},
     "output_type": "execute_result"
    }
   ],
   "source": [
    "pro[[\"offerAg\", \"Zatg\", \"Zstat\", \"Zemb\", \"ZsocPres\"]].corr(method=\"pearson\")"
   ]
  },
  {
   "cell_type": "code",
   "execution_count": 17,
   "metadata": {},
   "outputs": [
    {
     "data": {
      "text/html": [
       "<div>\n",
       "<style scoped>\n",
       "    .dataframe tbody tr th:only-of-type {\n",
       "        vertical-align: middle;\n",
       "    }\n",
       "\n",
       "    .dataframe tbody tr th {\n",
       "        vertical-align: top;\n",
       "    }\n",
       "\n",
       "    .dataframe thead th {\n",
       "        text-align: right;\n",
       "    }\n",
       "</style>\n",
       "<table border=\"1\" class=\"dataframe\">\n",
       "  <thead>\n",
       "    <tr style=\"text-align: right;\">\n",
       "      <th></th>\n",
       "      <th>offerAg</th>\n",
       "      <th>Zatg</th>\n",
       "      <th>Zstat</th>\n",
       "      <th>Zemb</th>\n",
       "      <th>ZsocPres</th>\n",
       "    </tr>\n",
       "  </thead>\n",
       "  <tbody>\n",
       "    <tr>\n",
       "      <th>offerAg</th>\n",
       "      <td>1.000000</td>\n",
       "      <td>0.250950</td>\n",
       "      <td>-0.270297</td>\n",
       "      <td>0.313549</td>\n",
       "      <td>-0.182992</td>\n",
       "    </tr>\n",
       "    <tr>\n",
       "      <th>Zatg</th>\n",
       "      <td>0.250950</td>\n",
       "      <td>1.000000</td>\n",
       "      <td>-0.013286</td>\n",
       "      <td>-0.064360</td>\n",
       "      <td>0.170115</td>\n",
       "    </tr>\n",
       "    <tr>\n",
       "      <th>Zstat</th>\n",
       "      <td>-0.270297</td>\n",
       "      <td>-0.013286</td>\n",
       "      <td>1.000000</td>\n",
       "      <td>0.031793</td>\n",
       "      <td>0.388702</td>\n",
       "    </tr>\n",
       "    <tr>\n",
       "      <th>Zemb</th>\n",
       "      <td>0.313549</td>\n",
       "      <td>-0.064360</td>\n",
       "      <td>0.031793</td>\n",
       "      <td>1.000000</td>\n",
       "      <td>-0.393528</td>\n",
       "    </tr>\n",
       "    <tr>\n",
       "      <th>ZsocPres</th>\n",
       "      <td>-0.182992</td>\n",
       "      <td>0.170115</td>\n",
       "      <td>0.388702</td>\n",
       "      <td>-0.393528</td>\n",
       "      <td>1.000000</td>\n",
       "    </tr>\n",
       "  </tbody>\n",
       "</table>\n",
       "</div>"
      ],
      "text/plain": [
       "           offerAg      Zatg     Zstat      Zemb  ZsocPres\n",
       "offerAg   1.000000  0.250950 -0.270297  0.313549 -0.182992\n",
       "Zatg      0.250950  1.000000 -0.013286 -0.064360  0.170115\n",
       "Zstat    -0.270297 -0.013286  1.000000  0.031793  0.388702\n",
       "Zemb      0.313549 -0.064360  0.031793  1.000000 -0.393528\n",
       "ZsocPres -0.182992  0.170115  0.388702 -0.393528  1.000000"
      ]
     },
     "execution_count": 17,
     "metadata": {},
     "output_type": "execute_result"
    }
   ],
   "source": [
    "plpro[[\"offerAg\", \"Zatg\", \"Zstat\", \"Zemb\", \"ZsocPres\"]].corr(method=\"pearson\")"
   ]
  },
  {
   "cell_type": "code",
   "execution_count": 18,
   "metadata": {},
   "outputs": [
    {
     "data": {
      "text/html": [
       "<div>\n",
       "<style scoped>\n",
       "    .dataframe tbody tr th:only-of-type {\n",
       "        vertical-align: middle;\n",
       "    }\n",
       "\n",
       "    .dataframe tbody tr th {\n",
       "        vertical-align: top;\n",
       "    }\n",
       "\n",
       "    .dataframe thead th {\n",
       "        text-align: right;\n",
       "    }\n",
       "</style>\n",
       "<table border=\"1\" class=\"dataframe\">\n",
       "  <thead>\n",
       "    <tr style=\"text-align: right;\">\n",
       "      <th></th>\n",
       "      <th>offerAg</th>\n",
       "      <th>Zatg</th>\n",
       "      <th>Zstat</th>\n",
       "      <th>Zemb</th>\n",
       "      <th>ZsocPres</th>\n",
       "    </tr>\n",
       "  </thead>\n",
       "  <tbody>\n",
       "    <tr>\n",
       "      <th>offerAg</th>\n",
       "      <td>1.000000</td>\n",
       "      <td>-0.046119</td>\n",
       "      <td>0.134043</td>\n",
       "      <td>0.191754</td>\n",
       "      <td>0.186778</td>\n",
       "    </tr>\n",
       "    <tr>\n",
       "      <th>Zatg</th>\n",
       "      <td>-0.046119</td>\n",
       "      <td>1.000000</td>\n",
       "      <td>0.137104</td>\n",
       "      <td>-0.166484</td>\n",
       "      <td>-0.067831</td>\n",
       "    </tr>\n",
       "    <tr>\n",
       "      <th>Zstat</th>\n",
       "      <td>0.134043</td>\n",
       "      <td>0.137104</td>\n",
       "      <td>1.000000</td>\n",
       "      <td>-0.246782</td>\n",
       "      <td>-0.015691</td>\n",
       "    </tr>\n",
       "    <tr>\n",
       "      <th>Zemb</th>\n",
       "      <td>0.191754</td>\n",
       "      <td>-0.166484</td>\n",
       "      <td>-0.246782</td>\n",
       "      <td>1.000000</td>\n",
       "      <td>0.521823</td>\n",
       "    </tr>\n",
       "    <tr>\n",
       "      <th>ZsocPres</th>\n",
       "      <td>0.186778</td>\n",
       "      <td>-0.067831</td>\n",
       "      <td>-0.015691</td>\n",
       "      <td>0.521823</td>\n",
       "      <td>1.000000</td>\n",
       "    </tr>\n",
       "  </tbody>\n",
       "</table>\n",
       "</div>"
      ],
      "text/plain": [
       "           offerAg      Zatg     Zstat      Zemb  ZsocPres\n",
       "offerAg   1.000000 -0.046119  0.134043  0.191754  0.186778\n",
       "Zatg     -0.046119  1.000000  0.137104 -0.166484 -0.067831\n",
       "Zstat     0.134043  0.137104  1.000000 -0.246782 -0.015691\n",
       "Zemb      0.191754 -0.166484 -0.246782  1.000000  0.521823\n",
       "ZsocPres  0.186778 -0.067831 -0.015691  0.521823  1.000000"
      ]
     },
     "execution_count": 18,
     "metadata": {},
     "output_type": "execute_result"
    }
   ],
   "source": [
    "capro[[\"offerAg\", \"Zatg\", \"Zstat\", \"Zemb\", \"ZsocPres\"]].corr(method=\"pearson\")"
   ]
  },
  {
   "cell_type": "code",
   "execution_count": 19,
   "metadata": {},
   "outputs": [
    {
     "name": "stdout",
     "output_type": "stream",
     "text": [
      "atg:  SpearmanrResult(correlation=0.02157542769928245, pvalue=0.7291493145839301)\n",
      "stat:  SpearmanrResult(correlation=-0.1142023151285292, pvalue=0.06597346117145136)\n",
      "socPres:  SpearmanrResult(correlation=0.11454929418607773, pvalue=0.06515004286419583)\n",
      "emb:  SpearmanrResult(correlation=0.21190935187909804, pvalue=0.0005825379286159126)\n"
     ]
    }
   ],
   "source": [
    "print(\"atg: \", sc.stats.spearmanr(pro.offerAg,pro.Zatg))\n",
    "print(\"stat: \", sc.stats.spearmanr(pro.offerAg,pro.Zstat)) \n",
    "print(\"socPres: \", sc.stats.spearmanr(pro.offerAg,pro.ZsocPres)) \n",
    "print(\"emb: \", sc.stats.spearmanr(pro.offerAg,pro.Zemb)) "
   ]
  },
  {
   "cell_type": "code",
   "execution_count": 20,
   "metadata": {},
   "outputs": [
    {
     "name": "stdout",
     "output_type": "stream",
     "text": [
      "atg:  SpearmanrResult(correlation=0.23686471973021758, pvalue=0.007823766309932331)\n",
      "stat:  SpearmanrResult(correlation=-0.29323807986037176, pvalue=0.0009039344691942118)\n",
      "socPres:  SpearmanrResult(correlation=0.014741820640568119, pvalue=0.8703833212381769)\n",
      "emb:  SpearmanrResult(correlation=0.22290204601839606, pvalue=0.012468378703714178)\n"
     ]
    }
   ],
   "source": [
    "print(\"atg: \", sc.stats.spearmanr(plpro.offerAg, plpro.Zatg))\n",
    "print(\"stat: \", sc.stats.spearmanr(plpro.offerAg, plpro.Zstat)) \n",
    "print(\"socPres: \", sc.stats.spearmanr(plpro.offerAg, plpro.ZsocPres)) \n",
    "print(\"emb: \", sc.stats.spearmanr(plpro.offerAg, plpro.Zemb))"
   ]
  },
  {
   "cell_type": "code",
   "execution_count": 21,
   "metadata": {},
   "outputs": [
    {
     "name": "stdout",
     "output_type": "stream",
     "text": [
      "atg:  SpearmanrResult(correlation=0.0063342624856080765, pvalue=0.9418746899518413)\n",
      "stat:  SpearmanrResult(correlation=0.05757391930871573, pvalue=0.5071522234585172)\n",
      "socPres:  SpearmanrResult(correlation=0.19077842335788223, pvalue=0.026661992700200716)\n",
      "emb:  SpearmanrResult(correlation=0.21227277731731947, pvalue=0.013447682066392207)\n"
     ]
    }
   ],
   "source": [
    "print(\"atg: \", sc.stats.spearmanr(capro.offerAg, capro.Zatg))\n",
    "print(\"stat: \", sc.stats.spearmanr(capro.offerAg, capro.Zstat)) \n",
    "print(\"socPres: \", sc.stats.spearmanr(capro.offerAg, capro.ZsocPres)) \n",
    "print(\"emb: \", sc.stats.spearmanr(capro.offerAg, capro.Zemb))"
   ]
  },
  {
   "cell_type": "code",
   "execution_count": 22,
   "metadata": {},
   "outputs": [
    {
     "name": "stdout",
     "output_type": "stream",
     "text": [
      "                            OLS Regression Results                            \n",
      "==============================================================================\n",
      "Dep. Variable:                offerAg   R-squared:                       0.078\n",
      "Model:                            OLS   Adj. R-squared:                  0.015\n",
      "Method:                 Least Squares   F-statistic:                     1.232\n",
      "Date:                Mon, 27 Aug 2018   Prob (F-statistic):              0.249\n",
      "Time:                        10:10:49   Log-Likelihood:                -846.52\n",
      "No. Observations:                 235   AIC:                             1725.\n",
      "Df Residuals:                     219   BIC:                             1780.\n",
      "Df Model:                          15                                         \n",
      "Covariance Type:            nonrobust                                         \n",
      "==============================================================================================\n",
      "                                 coef    std err          t      P>|t|      [0.025      0.975]\n",
      "----------------------------------------------------------------------------------------------\n",
      "Intercept                     45.7377      1.780     25.700      0.000      42.230      49.245\n",
      "agent                         -0.5141      2.517     -0.204      0.838      -5.474       4.446\n",
      "cult                          -2.7149      2.572     -1.056      0.292      -7.784       2.354\n",
      "agent:cult                     1.6697      3.638      0.459      0.647      -5.499       8.839\n",
      "prevTouch                      1.2032      2.301      0.523      0.602      -3.331       5.738\n",
      "agent:prevTouch               -2.9596      3.410     -0.868      0.386      -9.680       3.761\n",
      "cult:prevTouch                -0.3687      3.320     -0.111      0.912      -6.913       6.175\n",
      "agent:cult:prevTouch           2.8260      4.925      0.574      0.567      -6.880      12.532\n",
      "Zstat                         -0.3436      1.642     -0.209      0.834      -3.579       2.892\n",
      "agent:Zstat                    1.3087      2.322      0.564      0.574      -3.267       5.885\n",
      "cult:Zstat                    -2.6958      2.638     -1.022      0.308      -7.895       2.503\n",
      "agent:cult:Zstat              -1.9089      3.730     -0.512      0.609      -9.261       5.443\n",
      "prevTouch:Zstat                3.2234      2.078      1.551      0.122      -0.872       7.319\n",
      "agent:prevTouch:Zstat         -3.3581      3.116     -1.078      0.282      -9.499       2.783\n",
      "cult:prevTouch:Zstat          -2.3464      3.392     -0.692      0.490      -9.032       4.339\n",
      "agent:cult:prevTouch:Zstat     3.5862      5.042      0.711      0.478      -6.351      13.523\n",
      "==============================================================================\n",
      "Omnibus:                       65.867   Durbin-Watson:                   1.301\n",
      "Prob(Omnibus):                  0.000   Jarque-Bera (JB):              582.577\n",
      "Skew:                          -0.791   Prob(JB):                    3.13e-127\n",
      "Kurtosis:                      10.549   Cond. No.                         18.5\n",
      "==============================================================================\n",
      "\n",
      "Warnings:\n",
      "[1] Standard Errors assume that the covariance matrix of the errors is correctly specified.\n",
      "                                     F                     P>F  df constraint  df denom\n",
      "Intercept                   660.510825  4.7530683843566655e-68              1     219.0\n",
      "agent                         0.041717      0.8383495913904031              1     219.0\n",
      "cult                          1.114123     0.29235045129958237              1     219.0\n",
      "agent:cult                    0.210691      0.6466817223349746              1     219.0\n",
      "prevTouch                     0.273475      0.6015386401791267              1     219.0\n",
      "agent:prevTouch               0.753312      0.3863797842258614              1     219.0\n",
      "cult:prevTouch                0.012334      0.9116717117073483              1     219.0\n",
      "agent:cult:prevTouch          0.329250      0.5666896164695097              1     219.0\n",
      "Zstat                         0.043807      0.8344072671870598              1     219.0\n",
      "agent:Zstat                   0.317695      0.5735729322959642              1     219.0\n",
      "cult:Zstat                    1.044390     0.30793034525552093              1     219.0\n",
      "agent:cult:Zstat              0.261852      0.6093664623074089              1     219.0\n",
      "prevTouch:Zstat               2.406467     0.12227868694190148              1     219.0\n",
      "agent:prevTouch:Zstat         1.161502     0.28234000686680216              1     219.0\n",
      "cult:prevTouch:Zstat          0.478479     0.48984470870404917              1     219.0\n",
      "agent:cult:prevTouch:Zstat    0.505890     0.47768016932474944              1     219.0\n"
     ]
    }
   ],
   "source": [
    "formula = ' offerAg ~  agent * cult * prevTouch * Zstat'\n",
    "result = smf.ols(formula, data = pro).fit()\n",
    "\n",
    "print(result.summary())\n",
    "print(result.wald_test_terms()) "
   ]
  },
  {
   "cell_type": "markdown",
   "metadata": {},
   "source": [
    "# PLOTS"
   ]
  },
  {
   "cell_type": "markdown",
   "metadata": {},
   "source": [
    "# seaborn.regplot"
   ]
  },
  {
   "cell_type": "code",
   "execution_count": 23,
   "metadata": {},
   "outputs": [],
   "source": [
    "mt.style.use('seaborn-paper')\n",
    "\n",
    "##ustawienie czcionki \n",
    "font = {'family' : 'Dejavu Sans',\n",
    "        'weight' : 'normal',\n",
    "        'size'   : 18}\n",
    "plt.rc('font', **font)\n"
   ]
  },
  {
   "cell_type": "markdown",
   "metadata": {},
   "source": [
    "seaborn.regplot(x, y, data=None, x_estimator=None, x_bins=None, x_ci='ci', scatter=True, fit_reg=True, ci=95, n_boot=1000, units=None, order=1, logistic=False, lowess=False, robust=False, logx=False, x_partial=None, y_partial=None, truncate=False, dropna=True, x_jitter=None, y_jitter=None, label=None, color=None, marker='o', scatter_kws=None, line_kws=None, ax=None)"
   ]
  },
  {
   "cell_type": "code",
   "execution_count": 24,
   "metadata": {},
   "outputs": [],
   "source": [
    "#sn.regplot(x = \"touch\", y = \"accepted\", data = res, scatter = True, logistic = True)"
   ]
  },
  {
   "cell_type": "code",
   "execution_count": 25,
   "metadata": {},
   "outputs": [],
   "source": [
    "# plot residuals\n",
    "#sn.residplot(x = \"touch\", y = \"accepted\", data = res)"
   ]
  },
  {
   "cell_type": "markdown",
   "metadata": {},
   "source": [
    "# seaborn.lmplot\n",
    "seaborn.lmplot(x, y, data, hue=None, col=None, row=None, palette=None, col_wrap=None, height=5, aspect=1, markers='o', sharex=True, sharey=True, hue_order=None, col_order=None, row_order=None, legend=True, legend_out=True, x_estimator=None, x_bins=None, x_ci='ci', scatter=True, fit_reg=True, ci=95, n_boot=1000, units=None, order=1, logistic=False, lowess=False, robust=False, logx=False, x_partial=None, y_partial=None, truncate=False, x_jitter=None, y_jitter=None, scatter_kws=None, line_kws=None, size=None)\n",
    "\n",
    "Plot data and regression model fits across a FacetGrid.\n",
    "\n",
    "This function combines regplot() and FacetGrid. It is intended as a convenient interface to fit regression models across conditional subsets of a dataset."
   ]
  },
  {
   "cell_type": "code",
   "execution_count": 26,
   "metadata": {},
   "outputs": [
    {
     "name": "stderr",
     "output_type": "stream",
     "text": [
      "C:\\Users\\Justyna\\Anaconda3\\lib\\site-packages\\scipy\\stats\\stats.py:1713: FutureWarning: Using a non-tuple sequence for multidimensional indexing is deprecated; use `arr[tuple(seq)]` instead of `arr[seq]`. In the future this will be interpreted as an array index, `arr[np.array(seq)]`, which will result either in an error or a different result.\n",
      "  return np.add.reduce(sorted[indexer] * weights, axis=axis) / sumval\n"
     ]
    },
    {
     "data": {
      "image/png": "[encoded data removed]",
      "text/plain": [
       "<Figure size 360x360 with 1 Axes>"
      ]
     },
     "metadata": {},
     "output_type": "display_data"
    }
   ],
   "source": [
    "g = (sn.lmplot(x = \"touch\", \n",
    "               y = \"accepted\", \n",
    "               hue = \"agent\", \n",
    "               data = res, \n",
    "               fit_reg = True, \n",
    "               logistic = True,\n",
    "               #row = \"country\", row - plots vertically, col plots horizontally \n",
    "               #sharex = True,\n",
    "               #sharey = True,\n",
    "               scatter = True, \n",
    "               markers = \"*\",\n",
    "               legend=False,\n",
    "               palette = pal,\n",
    "               y_jitter = False, \n",
    "               x_jitter = True)).set_axis_labels(\"\", \"Acceptance rate of VH's offer\")\n",
    "\n",
    "plt.legend(('Low-status VH', 'High-status VH'), fontsize=16, loc=[.1,-.3])\n",
    "\n",
    "ax = plt.gca()\n",
    "ax.spines['right'].set_visible(False)\n",
    "ax.spines['top'].set_visible(False)\n",
    "# Only show ticks on the left and bottom spines\n",
    "ax.yaxis.set_ticks_position('left')\n",
    "ax.xaxis.set_ticks_position('bottom')\n",
    "\n",
    "plt.xlabel(\"?\", fontsize=16)\n",
    "plt.ylabel(\"?\", fontsize=16)\n",
    "plt.xticks(fontsize=14)\n",
    "plt.yticks(fontsize=14)\n",
    "\n",
    "g.savefig('logRegression.png', transparent=True, figsize=(8,6))"
   ]
  },
  {
   "cell_type": "code",
   "execution_count": 27,
   "metadata": {},
   "outputs": [
    {
     "name": "stderr",
     "output_type": "stream",
     "text": [
      "C:\\Users\\Justyna\\Anaconda3\\lib\\site-packages\\scipy\\stats\\stats.py:1713: FutureWarning: Using a non-tuple sequence for multidimensional indexing is deprecated; use `arr[tuple(seq)]` instead of `arr[seq]`. In the future this will be interpreted as an array index, `arr[np.array(seq)]`, which will result either in an error or a different result.\n",
      "  return np.add.reduce(sorted[indexer] * weights, axis=axis) / sumval\n"
     ]
    },
    {
     "data": {
      "text/plain": [
       "<matplotlib.legend.Legend at 0x8ef302e320>"
      ]
     },
     "execution_count": 27,
     "metadata": {},
     "output_type": "execute_result"
    },
    {
     "data": {
      "text/plain": [
       "<Figure size 720x432 with 0 Axes>"
      ]
     },
     "metadata": {},
     "output_type": "display_data"
    },
    {
     "data": {
      "image/png": "[encoded data removed]",
      "text/plain": [
       "<Figure size 396x360 with 1 Axes>"
      ]
     },
     "metadata": {},
     "output_type": "display_data"
    }
   ],
   "source": [
    "plt.figure(figsize=(10,6), frameon=False)\n",
    "\n",
    "g = sn.lmplot(x = \"Zemb\", \n",
    "          y = \"offerAg\", \n",
    "          hue = \"agent\", \n",
    "          #col = \"country\", \n",
    "          data = pro, \n",
    "          sharex = True,\n",
    "          sharey = True,\n",
    "          legend_out=True,\n",
    "          legend = False,\n",
    "          scatter = True, \n",
    "          fit_reg = True, \n",
    "          logistic = False, \n",
    "          markers=[\"+\", \"*\"],\n",
    "          palette = pal,\n",
    "          y_jitter = True,\n",
    "          aspect=1.1) \n",
    "\n",
    "ax = plt.gca()\n",
    "ax.spines['right'].set_visible(False)\n",
    "ax.spines['top'].set_visible(False)\n",
    "# Only show ticks on the left and bottom spines\n",
    "ax.yaxis.set_ticks_position('left')\n",
    "ax.xaxis.set_ticks_position('bottom')\n",
    "\n",
    "plt.xlabel('Embodiment (standardized)', fontsize=14)\n",
    "plt.ylabel('Coins offered', fontsize=14)\n",
    "plt.xticks(fontsize=14)\n",
    "plt.yticks([0, 25, 50, 75,100], fontsize=14)\n",
    "\n",
    "#legend\n",
    "plt.legend(('Low-status VH', 'High-status VH'), \n",
    "           loc=[0.65, 0.8], fontsize=14)\n",
    "\n",
    "#g.savefig('linearReg.png', transparent=True, figsize=(9,7))"
   ]
  },
  {
   "cell_type": "code",
   "execution_count": 28,
   "metadata": {},
   "outputs": [
    {
     "name": "stderr",
     "output_type": "stream",
     "text": [
      "C:\\Users\\Justyna\\Anaconda3\\lib\\site-packages\\scipy\\stats\\stats.py:1713: FutureWarning: Using a non-tuple sequence for multidimensional indexing is deprecated; use `arr[tuple(seq)]` instead of `arr[seq]`. In the future this will be interpreted as an array index, `arr[np.array(seq)]`, which will result either in an error or a different result.\n",
      "  return np.add.reduce(sorted[indexer] * weights, axis=axis) / sumval\n"
     ]
    },
    {
     "data": {
      "text/plain": [
       "<matplotlib.legend.Legend at 0x8ef32f8dd8>"
      ]
     },
     "execution_count": 28,
     "metadata": {},
     "output_type": "execute_result"
    },
    {
     "data": {
      "text/plain": [
       "<Figure size 648x432 with 0 Axes>"
      ]
     },
     "metadata": {},
     "output_type": "display_data"
    },
    {
     "data": {
      "image/png": "[encoded data removed]",
      "text/plain": [
       "<Figure size 432x360 with 1 Axes>"
      ]
     },
     "metadata": {},
     "output_type": "display_data"
    }
   ],
   "source": [
    "plt.figure(figsize=(9,6), frameon=False)\n",
    "\n",
    "g = sn.lmplot(x = \"Zemb\", \n",
    "          y = \"offerAg\", \n",
    "          hue = \"country\", \n",
    "          data = pro, \n",
    "          sharex = True,\n",
    "          sharey = True,\n",
    "          legend_out=True,\n",
    "          legend = False,\n",
    "          scatter = True, \n",
    "          fit_reg = True, \n",
    "          logistic = False, \n",
    "          markers=[\"+\", \"*\"],\n",
    "          palette = pal,\n",
    "          y_jitter = True,\n",
    "          aspect=1.2) \n",
    "\n",
    "    \n",
    "    \n",
    "ax = plt.gca()\n",
    "ax.spines['right'].set_visible(False)\n",
    "ax.spines['top'].set_visible(False)\n",
    "# Only show ticks on the left and bottom spines\n",
    "ax.yaxis.set_ticks_position('left')\n",
    "ax.xaxis.set_ticks_position('bottom')\n",
    "\n",
    "plt.xlabel('Embodiment (standardized)', fontsize=14)\n",
    "plt.ylabel('N coins offered to the agent', fontsize=14)\n",
    "plt.xticks(fontsize=14)\n",
    "plt.yticks([0, 25, 50, 75,100], fontsize=14)\n",
    "\n",
    "#legend\n",
    "plt.legend([\"Catalan\", \"Polish\"], loc=\"best\", fontsize=14)\n",
    "\n",
    "#g.savefig('linearReg.png', transparent=True, figsize=(9,6), dpi = 300)"
   ]
  },
  {
   "cell_type": "markdown",
   "metadata": {},
   "source": [
    "# Pallettes for plotting:\n",
    "    \n",
    "Possible values are: Accent, Accent_r, Blues, Blues_r, BrBG, BrBG_r, BuGn, BuGn_r, BuPu, BuPu_r, CMRmap, CMRmap_r, Dark2, Dark2_r, GnBu, GnBu_r, Greens, Greens_r, Greys, Greys_r, OrRd, OrRd_r, Oranges, Oranges_r, PRGn, PRGn_r, Paired, Paired_r, Pastel1, Pastel1_r, Pastel2, Pastel2_r, PiYG, PiYG_r, PuBu, PuBuGn, PuBuGn_r, PuBu_r, PuOr, PuOr_r, PuRd, PuRd_r, Purples, Purples_r, RdBu, RdBu_r, RdGy, RdGy_r, RdPu, RdPu_r, RdYlBu, RdYlBu_r, RdYlGn, RdYlGn_r, Reds, Reds_r, Set1, Set1_r, Set2, Set2_r, Set3, Set3_r, Spectral, Spectral_r, Vega10, Vega10_r, Vega20, Vega20_r, Vega20b, Vega20b_r, Vega20c, Vega20c_r, Wistia, Wistia_r, YlGn, YlGnBu, YlGnBu_r, YlGn_r, YlOrBr, YlOrBr_r, YlOrRd, YlOrRd_r, afmhot, afmhot_r, autumn, autumn_r, binary, binary_r, bone, bone_r, brg, brg_r, bwr, bwr_r, cool, cool_r, coolwarm, coolwarm_r, copper, copper_r, cubehelix, cubehelix_r, flag, flag_r, gist_earth, gist_earth_r, gist_gray, gist_gray_r, gist_heat, gist_heat_r, gist_ncar, gist_ncar_r, gist_rainbow, gist_rainbow_r, gist_stern, gist_stern_r, gist_yarg, gist_yarg_r, gnuplot, gnuplot2, gnuplot2_r, gnuplot_r, gray, gray_r, hot, hot_r, hsv, hsv_r, icefire, icefire_r, inferno, inferno_r, jet, jet_r, magma, magma_r, mako, mako_r, nipy_spectral, nipy_spectral_r, ocean, ocean_r, pink, pink_r, plasma, plasma_r, prism, prism_r, rainbow, rainbow_r, rocket, rocket_r, seismic, seismic_r, spectral, spectral_r, spring, spring_r, summer, summer_r, tab10, tab10_r, tab20, tab20_r, tab20b, tab20b_r, tab20c, tab20c_r, terrain, terrain_r, viridis, viridis_r, vlag, vlag_r, winter, winter_r\n",
    "\n",
    "https://matplotlib.org/users/colormaps.html"
   ]
  },
  {
   "cell_type": "code",
   "execution_count": 1,
   "metadata": {},
   "outputs": [],
   "source": [
    "#sn.lmplot?"
   ]
  },
  {
   "cell_type": "code",
   "execution_count": 30,
   "metadata": {},
   "outputs": [
    {
     "name": "stderr",
     "output_type": "stream",
     "text": [
      "C:\\Users\\Justyna\\Anaconda3\\lib\\site-packages\\scipy\\stats\\stats.py:1713: FutureWarning: Using a non-tuple sequence for multidimensional indexing is deprecated; use `arr[tuple(seq)]` instead of `arr[seq]`. In the future this will be interpreted as an array index, `arr[np.array(seq)]`, which will result either in an error or a different result.\n",
      "  return np.add.reduce(sorted[indexer] * weights, axis=axis) / sumval\n"
     ]
    },
    {
     "data": {
      "text/plain": [
       "([<matplotlib.axis.YTick at 0x8ef2d135c0>,\n",
       "  <matplotlib.axis.YTick at 0x8ef2d0be48>,\n",
       "  <matplotlib.axis.YTick at 0x8ef2c2bcc0>,\n",
       "  <matplotlib.axis.YTick at 0x8ef2d83710>,\n",
       "  <matplotlib.axis.YTick at 0x8ef2d8d2e8>],\n",
       " <a list of 5 Text yticklabel objects>)"
      ]
     },
     "execution_count": 30,
     "metadata": {},
     "output_type": "execute_result"
    },
    {
     "data": {
      "text/plain": [
       "<Figure size 648x432 with 0 Axes>"
      ]
     },
     "metadata": {},
     "output_type": "display_data"
    },
    {
     "data": {
      "image/png": "[encoded data removed]",
      "text/plain": [
       "<Figure size 864x360 with 2 Axes>"
      ]
     },
     "metadata": {},
     "output_type": "display_data"
    }
   ],
   "source": [
    "plt.figure(figsize=(9,6), frameon=False)\n",
    "\n",
    "g = sn.lmplot(x = \"Zstat\", \n",
    "          y = \"offerAg\", \n",
    "          col = \"country\", \n",
    "          hue= \"agent\",\n",
    "          data = pro, \n",
    "          sharex = True,\n",
    "          sharey = True,\n",
    "          legend_out=True,\n",
    "          legend = False,\n",
    "          scatter = True, \n",
    "          fit_reg = True, \n",
    "          logistic = False, \n",
    "          markers=[\"+\", \"*\"],\n",
    "          palette = pal,\n",
    "          y_jitter = True,\n",
    "          aspect=1.2)\n",
    "\n",
    "    \n",
    "    \n",
    "ax = plt.gca()\n",
    "ax.spines['right'].set_visible(False)\n",
    "ax.spines['top'].set_visible(False)\n",
    "# Only show ticks on the left and bottom spines\n",
    "ax.yaxis.set_ticks_position('left')\n",
    "ax.xaxis.set_ticks_position('bottom')\n",
    "\n",
    "plt.xlabel('Importance of social status (standardized)', fontsize=14)\n",
    "plt.ylabel('N coins offered to the agent', fontsize=14)\n",
    "plt.xticks(fontsize=14)\n",
    "plt.yticks([0, 25, 50, 75,100], fontsize=14)\n",
    "\n",
    "#legend\n",
    "#plt.legend([\"Catalan\", \"Polish\"], loc=\"best\", fontsize=14)\n",
    "\n",
    "#g.savefig('linearReg.png', transparent=True, figsize=(9,6), dpi = 300)"
   ]
  },
  {
   "cell_type": "code",
   "execution_count": null,
   "metadata": {},
   "outputs": [],
   "source": []
  }
 ],
 "metadata": {
  "kernelspec": {
   "display_name": "Python 3",
   "language": "python",
   "name": "python3"
  },
  "language_info": {
   "codemirror_mode": {
    "name": "ipython",
    "version": 3
   },
   "file_extension": ".py",
   "mimetype": "text/x-python",
   "name": "python",
   "nbconvert_exporter": "python",
   "pygments_lexer": "ipython3",
   "version": "3.6.4"
  }
 },
 "nbformat": 4,
 "nbformat_minor": 2
}
