{
 "cells": [
  {
   "cell_type": "code",
   "execution_count": 2,
   "metadata": {},
   "outputs": [],
   "source": [
    "%matplotlib inline\n",
    "import pandas as pd\n",
    "import numpy as np \n",
    "import seaborn as sn\n",
    "import codecs\n",
    "import statsmodels as st\n",
    "import matplotlib.pyplot as plt\n",
    "import statsmodels.api as sm\n",
    "import statsmodels.formula.api as smf\n",
    "import scipy as sc\n",
    "from scipy import stats\n",
    "from patsy import dmatrices\n",
    "import matplotlib as mt\n",
    "from scipy import stats\n",
    "from statsmodels.formula.api import logit, probit, poisson, ols\n",
    "from statsmodels import stats\n",
    "import sklearn as sk\n",
    "from sklearn.linear_model import LogisticRegression"
   ]
  },
  {
   "cell_type": "code",
   "execution_count": 3,
   "metadata": {},
   "outputs": [
    {
     "data": {
      "image/png": "[encoded data removed]",
      "text/plain": [
       "<Figure size 216x72 with 1 Axes>"
      ]
     },
     "metadata": {},
     "output_type": "display_data"
    }
   ],
   "source": [
    "# setting palette\n",
    "pal = [\"#01A183\", \"#696969\", \"#4Cb5F5\"]\n",
    "sn.palplot(sn.color_palette(pal))"
   ]
  },
  {
   "cell_type": "code",
   "execution_count": 6,
   "metadata": {},
   "outputs": [],
   "source": [
    "all = pd.read_excel(\"C:\\\\Users\\\\swidrak\\\\Documents\\\\Python Scripts\\\\social_influence\\\\ultimatum2.xlsx\")"
   ]
  },
  {
   "cell_type": "code",
   "execution_count": 7,
   "metadata": {},
   "outputs": [
    {
     "data": {
      "text/html": [
       "<div>\n",
       "<style scoped>\n",
       "    .dataframe tbody tr th:only-of-type {\n",
       "        vertical-align: middle;\n",
       "    }\n",
       "\n",
       "    .dataframe tbody tr th {\n",
       "        vertical-align: top;\n",
       "    }\n",
       "\n",
       "    .dataframe thead th {\n",
       "        text-align: right;\n",
       "    }\n",
       "</style>\n",
       "<table border=\"1\" class=\"dataframe\">\n",
       "  <thead>\n",
       "    <tr style=\"text-align: right;\">\n",
       "      <th></th>\n",
       "      <th>IDround</th>\n",
       "      <th>country</th>\n",
       "      <th>id</th>\n",
       "      <th>ID</th>\n",
       "      <th>block</th>\n",
       "      <th>round</th>\n",
       "      <th>cut</th>\n",
       "      <th>cut2</th>\n",
       "      <th>rundaBlok</th>\n",
       "      <th>parPro</th>\n",
       "      <th>...</th>\n",
       "      <th>Zhdf</th>\n",
       "      <th>Zmras</th>\n",
       "      <th>Znft</th>\n",
       "      <th>ZsocPres</th>\n",
       "      <th>Zemb</th>\n",
       "      <th>Zstat</th>\n",
       "      <th>Zdisgust</th>\n",
       "      <th>Zdisgust_s</th>\n",
       "      <th>cult</th>\n",
       "      <th>offerParC</th>\n",
       "    </tr>\n",
       "  </thead>\n",
       "  <tbody>\n",
       "    <tr>\n",
       "      <th>1034</th>\n",
       "      <td>b4id32r15</td>\n",
       "      <td>pl</td>\n",
       "      <td>32</td>\n",
       "      <td>4_32</td>\n",
       "      <td>1</td>\n",
       "      <td>15</td>\n",
       "      <td>keep</td>\n",
       "      <td>keep</td>\n",
       "      <td>4</td>\n",
       "      <td>0</td>\n",
       "      <td>...</td>\n",
       "      <td>0.4659</td>\n",
       "      <td>-0.692978</td>\n",
       "      <td>-0.800311</td>\n",
       "      <td>-0.456737</td>\n",
       "      <td>-0.059896</td>\n",
       "      <td>-1.574335</td>\n",
       "      <td>0.001241</td>\n",
       "      <td>0.896713</td>\n",
       "      <td>1</td>\n",
       "      <td>fair</td>\n",
       "    </tr>\n",
       "    <tr>\n",
       "      <th>1035</th>\n",
       "      <td>b4id32r16</td>\n",
       "      <td>pl</td>\n",
       "      <td>32</td>\n",
       "      <td>4_32</td>\n",
       "      <td>1</td>\n",
       "      <td>16</td>\n",
       "      <td>keep</td>\n",
       "      <td>keep</td>\n",
       "      <td>5</td>\n",
       "      <td>1</td>\n",
       "      <td>...</td>\n",
       "      <td>0.4659</td>\n",
       "      <td>-0.692978</td>\n",
       "      <td>-0.800311</td>\n",
       "      <td>-0.456737</td>\n",
       "      <td>-0.059896</td>\n",
       "      <td>-1.574335</td>\n",
       "      <td>0.001241</td>\n",
       "      <td>0.896713</td>\n",
       "      <td>1</td>\n",
       "      <td>generous</td>\n",
       "    </tr>\n",
       "    <tr>\n",
       "      <th>1036</th>\n",
       "      <td>b4id32r17</td>\n",
       "      <td>pl</td>\n",
       "      <td>32</td>\n",
       "      <td>4_32</td>\n",
       "      <td>1</td>\n",
       "      <td>17</td>\n",
       "      <td>keep</td>\n",
       "      <td>keep</td>\n",
       "      <td>6</td>\n",
       "      <td>0</td>\n",
       "      <td>...</td>\n",
       "      <td>0.4659</td>\n",
       "      <td>-0.692978</td>\n",
       "      <td>-0.800311</td>\n",
       "      <td>-0.456737</td>\n",
       "      <td>-0.059896</td>\n",
       "      <td>-1.574335</td>\n",
       "      <td>0.001241</td>\n",
       "      <td>0.896713</td>\n",
       "      <td>1</td>\n",
       "      <td>generous</td>\n",
       "    </tr>\n",
       "    <tr>\n",
       "      <th>1038</th>\n",
       "      <td>b4id32r19</td>\n",
       "      <td>pl</td>\n",
       "      <td>32</td>\n",
       "      <td>4_32</td>\n",
       "      <td>1</td>\n",
       "      <td>19</td>\n",
       "      <td>keep</td>\n",
       "      <td>keep</td>\n",
       "      <td>8</td>\n",
       "      <td>0</td>\n",
       "      <td>...</td>\n",
       "      <td>0.4659</td>\n",
       "      <td>-0.692978</td>\n",
       "      <td>-0.800311</td>\n",
       "      <td>-0.456737</td>\n",
       "      <td>-0.059896</td>\n",
       "      <td>-1.574335</td>\n",
       "      <td>0.001241</td>\n",
       "      <td>0.896713</td>\n",
       "      <td>1</td>\n",
       "      <td>fair</td>\n",
       "    </tr>\n",
       "    <tr>\n",
       "      <th>1039</th>\n",
       "      <td>b4id32r20</td>\n",
       "      <td>pl</td>\n",
       "      <td>32</td>\n",
       "      <td>4_32</td>\n",
       "      <td>1</td>\n",
       "      <td>20</td>\n",
       "      <td>keep</td>\n",
       "      <td>keep</td>\n",
       "      <td>9</td>\n",
       "      <td>0</td>\n",
       "      <td>...</td>\n",
       "      <td>0.4659</td>\n",
       "      <td>-0.692978</td>\n",
       "      <td>-0.800311</td>\n",
       "      <td>-0.456737</td>\n",
       "      <td>-0.059896</td>\n",
       "      <td>-1.574335</td>\n",
       "      <td>0.001241</td>\n",
       "      <td>0.896713</td>\n",
       "      <td>1</td>\n",
       "      <td>unfair</td>\n",
       "    </tr>\n",
       "  </tbody>\n",
       "</table>\n",
       "<p>5 rows × 360 columns</p>\n",
       "</div>"
      ],
      "text/plain": [
       "        IDround country  id    ID  block  round   cut  cut2  rundaBlok  \\\n",
       "1034  b4id32r15      pl  32  4_32      1     15  keep  keep          4   \n",
       "1035  b4id32r16      pl  32  4_32      1     16  keep  keep          5   \n",
       "1036  b4id32r17      pl  32  4_32      1     17  keep  keep          6   \n",
       "1038  b4id32r19      pl  32  4_32      1     19  keep  keep          8   \n",
       "1039  b4id32r20      pl  32  4_32      1     20  keep  keep          9   \n",
       "\n",
       "      parPro    ...        Zhdf     Zmras      Znft  ZsocPres      Zemb  \\\n",
       "1034       0    ...      0.4659 -0.692978 -0.800311 -0.456737 -0.059896   \n",
       "1035       1    ...      0.4659 -0.692978 -0.800311 -0.456737 -0.059896   \n",
       "1036       0    ...      0.4659 -0.692978 -0.800311 -0.456737 -0.059896   \n",
       "1038       0    ...      0.4659 -0.692978 -0.800311 -0.456737 -0.059896   \n",
       "1039       0    ...      0.4659 -0.692978 -0.800311 -0.456737 -0.059896   \n",
       "\n",
       "         Zstat  Zdisgust  Zdisgust_s  cult  offerParC  \n",
       "1034 -1.574335  0.001241    0.896713     1       fair  \n",
       "1035 -1.574335  0.001241    0.896713     1   generous  \n",
       "1036 -1.574335  0.001241    0.896713     1   generous  \n",
       "1038 -1.574335  0.001241    0.896713     1       fair  \n",
       "1039 -1.574335  0.001241    0.896713     1     unfair  \n",
       "\n",
       "[5 rows x 360 columns]"
      ]
     },
     "execution_count": 7,
     "metadata": {},
     "output_type": "execute_result"
    }
   ],
   "source": [
    "all.tail()"
   ]
  },
  {
   "cell_type": "code",
   "execution_count": 8,
   "metadata": {},
   "outputs": [],
   "source": [
    "all = all[all[\"cut\"] == \"keep\"]\n",
    "all = all[all[\"cut2\"] == \"keep\"]"
   ]
  },
  {
   "cell_type": "code",
   "execution_count": 9,
   "metadata": {},
   "outputs": [],
   "source": [
    "all['cult'] = all.loc[:,('country')].apply(lambda x: 1 if x == \"pl\" else 0)"
   ]
  },
  {
   "cell_type": "code",
   "execution_count": 10,
   "metadata": {
    "scrolled": true
   },
   "outputs": [],
   "source": [
    "#df['new'] =  df['old'].apply(lambda x: 0 if x<0.5 else 1)\n",
    "all['offerParC'] = all.loc[:,'offerPar'].apply(lambda x: \"unfair\" if x < 36 else (\"fair\" if x > 36 and x < 46 else \"generous\"))"
   ]
  },
  {
   "cell_type": "code",
   "execution_count": 11,
   "metadata": {},
   "outputs": [
    {
     "data": {
      "text/plain": [
       "3.4788461538461557"
      ]
     },
     "execution_count": 11,
     "metadata": {},
     "output_type": "execute_result"
    }
   ],
   "source": [
    "all[\"atg\"].mean()"
   ]
  },
  {
   "cell_type": "code",
   "execution_count": 12,
   "metadata": {},
   "outputs": [],
   "source": [
    "all['atgMed'] = all.loc[:,('atg')].apply(lambda x: 1 if x > 3.48 else 0)"
   ]
  },
  {
   "cell_type": "code",
   "execution_count": 13,
   "metadata": {},
   "outputs": [],
   "source": [
    "pro = all[all[\"parPro\"] == 1]\n",
    "res = all[all[\"parPro\"] == 0]\n",
    "\n",
    "pl = all[all[\"country\"] == \"pl\"]\n",
    "ca = all[all[\"country\"] == \"cat\"]\n",
    "\n",
    "plpro = pl[pl[\"parPro\"] == 1]\n",
    "capro = ca[ca[\"parPro\"] == 1]\n",
    "\n",
    "plres = pl[pl[\"parPro\"] == 0]\n",
    "cares = ca[ca[\"parPro\"] == 0]"
   ]
  },
  {
   "cell_type": "code",
   "execution_count": 14,
   "metadata": {},
   "outputs": [],
   "source": [
    "#pro = all[all[\"parPro\"] == 1]\n",
    "#res = all[all[\"parPro\"] == 0]\n",
    "\n",
    "resyes = res[res[\"accepted\"] == 1]\n",
    "resno = res[res[\"accepted\"] == 0]"
   ]
  },
  {
   "cell_type": "code",
   "execution_count": 15,
   "metadata": {},
   "outputs": [],
   "source": [
    "#res[\"offerParC\"]"
   ]
  },
  {
   "cell_type": "code",
   "execution_count": 16,
   "metadata": {},
   "outputs": [
    {
     "name": "stderr",
     "output_type": "stream",
     "text": [
      "C:\\Users\\swidrak\\AppData\\Local\\Continuum\\anaconda3\\lib\\site-packages\\ipykernel_launcher.py:2: SettingWithCopyWarning: \n",
      "A value is trying to be set on a copy of a slice from a DataFrame.\n",
      "Try using .loc[row_indexer,col_indexer] = value instead\n",
      "\n",
      "See the caveats in the documentation: http://pandas.pydata.org/pandas-docs/stable/indexing.html#indexing-view-versus-copy\n",
      "  \n",
      "C:\\Users\\swidrak\\AppData\\Local\\Continuum\\anaconda3\\lib\\site-packages\\ipykernel_launcher.py:4: SettingWithCopyWarning: \n",
      "A value is trying to be set on a copy of a slice from a DataFrame.\n",
      "Try using .loc[row_indexer,col_indexer] = value instead\n",
      "\n",
      "See the caveats in the documentation: http://pandas.pydata.org/pandas-docs/stable/indexing.html#indexing-view-versus-copy\n",
      "  after removing the cwd from sys.path.\n"
     ]
    }
   ],
   "source": [
    "#new columns - agent label instead of a number\n",
    "res['name'] = res.loc[:,'agent'].apply(lambda x: \"low status\" if x == 0 else \"high status\")\n",
    "\n",
    "pro['name'] = pro.loc[:,'agent'].apply(lambda x: \"low status\" if x == 0 else \"high status\")"
   ]
  },
  {
   "cell_type": "code",
   "execution_count": 17,
   "metadata": {},
   "outputs": [],
   "source": [
    "#trying to change the format of the data\n",
    "all['touch2'] = all.loc[:,('touch')].apply(lambda x: 0 if x == 0.0 else 1)"
   ]
  },
  {
   "cell_type": "code",
   "execution_count": 18,
   "metadata": {},
   "outputs": [
    {
     "ename": "FileNotFoundError",
     "evalue": "[Errno 2] No such file or directory: 'C:\\\\Users\\\\Justyna\\\\Python Scripts\\\\ultimatum2\\\\data\\\\allcut.xlsx'",
     "output_type": "error",
     "traceback": [
      "\u001b[1;31m---------------------------------------------------------------------------\u001b[0m",
      "\u001b[1;31mFileNotFoundError\u001b[0m                         Traceback (most recent call last)",
      "\u001b[1;32m<ipython-input-18-90b36db1d66b>\u001b[0m in \u001b[0;36m<module>\u001b[1;34m()\u001b[0m\n\u001b[1;32m----> 1\u001b[1;33m \u001b[0mall\u001b[0m\u001b[1;33m.\u001b[0m\u001b[0mto_excel\u001b[0m\u001b[1;33m(\u001b[0m\u001b[1;34m\"C:\\\\Users\\\\Justyna\\\\Python Scripts\\\\ultimatum2\\\\data\\\\allcut.xlsx\"\u001b[0m\u001b[1;33m)\u001b[0m\u001b[1;33m\u001b[0m\u001b[0m\n\u001b[0m",
      "\u001b[1;32m~\\AppData\\Local\\Continuum\\anaconda3\\lib\\site-packages\\pandas\\core\\frame.py\u001b[0m in \u001b[0;36mto_excel\u001b[1;34m(self, excel_writer, sheet_name, na_rep, float_format, columns, header, index, index_label, startrow, startcol, engine, merge_cells, encoding, inf_rep, verbose, freeze_panes)\u001b[0m\n\u001b[0;32m   1764\u001b[0m         formatter.write(excel_writer, sheet_name=sheet_name, startrow=startrow,\n\u001b[0;32m   1765\u001b[0m                         \u001b[0mstartcol\u001b[0m\u001b[1;33m=\u001b[0m\u001b[0mstartcol\u001b[0m\u001b[1;33m,\u001b[0m \u001b[0mfreeze_panes\u001b[0m\u001b[1;33m=\u001b[0m\u001b[0mfreeze_panes\u001b[0m\u001b[1;33m,\u001b[0m\u001b[1;33m\u001b[0m\u001b[0m\n\u001b[1;32m-> 1766\u001b[1;33m                         engine=engine)\n\u001b[0m\u001b[0;32m   1767\u001b[0m \u001b[1;33m\u001b[0m\u001b[0m\n\u001b[0;32m   1768\u001b[0m     def to_stata(self, fname, convert_dates=None, write_index=True,\n",
      "\u001b[1;32m~\\AppData\\Local\\Continuum\\anaconda3\\lib\\site-packages\\pandas\\io\\formats\\excel.py\u001b[0m in \u001b[0;36mwrite\u001b[1;34m(self, writer, sheet_name, startrow, startcol, freeze_panes, engine)\u001b[0m\n\u001b[0;32m    652\u001b[0m                            freeze_panes=freeze_panes)\n\u001b[0;32m    653\u001b[0m         \u001b[1;32mif\u001b[0m \u001b[0mneed_save\u001b[0m\u001b[1;33m:\u001b[0m\u001b[1;33m\u001b[0m\u001b[0m\n\u001b[1;32m--> 654\u001b[1;33m             \u001b[0mwriter\u001b[0m\u001b[1;33m.\u001b[0m\u001b[0msave\u001b[0m\u001b[1;33m(\u001b[0m\u001b[1;33m)\u001b[0m\u001b[1;33m\u001b[0m\u001b[0m\n\u001b[0m",
      "\u001b[1;32m~\\AppData\\Local\\Continuum\\anaconda3\\lib\\site-packages\\pandas\\io\\excel.py\u001b[0m in \u001b[0;36msave\u001b[1;34m(self)\u001b[0m\n\u001b[0;32m   1730\u001b[0m         \"\"\"\n\u001b[0;32m   1731\u001b[0m \u001b[1;33m\u001b[0m\u001b[0m\n\u001b[1;32m-> 1732\u001b[1;33m         \u001b[1;32mreturn\u001b[0m \u001b[0mself\u001b[0m\u001b[1;33m.\u001b[0m\u001b[0mbook\u001b[0m\u001b[1;33m.\u001b[0m\u001b[0mclose\u001b[0m\u001b[1;33m(\u001b[0m\u001b[1;33m)\u001b[0m\u001b[1;33m\u001b[0m\u001b[0m\n\u001b[0m\u001b[0;32m   1733\u001b[0m \u001b[1;33m\u001b[0m\u001b[0m\n\u001b[0;32m   1734\u001b[0m     def write_cells(self, cells, sheet_name=None, startrow=0, startcol=0,\n",
      "\u001b[1;32m~\\AppData\\Local\\Continuum\\anaconda3\\lib\\site-packages\\xlsxwriter\\workbook.py\u001b[0m in \u001b[0;36mclose\u001b[1;34m(self)\u001b[0m\n\u001b[0;32m    309\u001b[0m         \u001b[1;32mif\u001b[0m \u001b[1;32mnot\u001b[0m \u001b[0mself\u001b[0m\u001b[1;33m.\u001b[0m\u001b[0mfileclosed\u001b[0m\u001b[1;33m:\u001b[0m\u001b[1;33m\u001b[0m\u001b[0m\n\u001b[0;32m    310\u001b[0m             \u001b[0mself\u001b[0m\u001b[1;33m.\u001b[0m\u001b[0mfileclosed\u001b[0m \u001b[1;33m=\u001b[0m \u001b[1;36m1\u001b[0m\u001b[1;33m\u001b[0m\u001b[0m\n\u001b[1;32m--> 311\u001b[1;33m             \u001b[0mself\u001b[0m\u001b[1;33m.\u001b[0m\u001b[0m_store_workbook\u001b[0m\u001b[1;33m(\u001b[0m\u001b[1;33m)\u001b[0m\u001b[1;33m\u001b[0m\u001b[0m\n\u001b[0m\u001b[0;32m    312\u001b[0m \u001b[1;33m\u001b[0m\u001b[0m\n\u001b[0;32m    313\u001b[0m     \u001b[1;32mdef\u001b[0m \u001b[0mset_size\u001b[0m\u001b[1;33m(\u001b[0m\u001b[0mself\u001b[0m\u001b[1;33m,\u001b[0m \u001b[0mwidth\u001b[0m\u001b[1;33m,\u001b[0m \u001b[0mheight\u001b[0m\u001b[1;33m)\u001b[0m\u001b[1;33m:\u001b[0m\u001b[1;33m\u001b[0m\u001b[0m\n",
      "\u001b[1;32m~\\AppData\\Local\\Continuum\\anaconda3\\lib\\site-packages\\xlsxwriter\\workbook.py\u001b[0m in \u001b[0;36m_store_workbook\u001b[1;34m(self)\u001b[0m\n\u001b[0;32m    638\u001b[0m \u001b[1;33m\u001b[0m\u001b[0m\n\u001b[0;32m    639\u001b[0m         xlsx_file = ZipFile(self.filename, \"w\", compression=ZIP_DEFLATED,\n\u001b[1;32m--> 640\u001b[1;33m                             allowZip64=self.allow_zip64)\n\u001b[0m\u001b[0;32m    641\u001b[0m \u001b[1;33m\u001b[0m\u001b[0m\n\u001b[0;32m    642\u001b[0m         \u001b[1;31m# Add XML sub-files to the Zip file with their Excel filename.\u001b[0m\u001b[1;33m\u001b[0m\u001b[1;33m\u001b[0m\u001b[0m\n",
      "\u001b[1;32m~\\AppData\\Local\\Continuum\\anaconda3\\lib\\zipfile.py\u001b[0m in \u001b[0;36m__init__\u001b[1;34m(self, file, mode, compression, allowZip64)\u001b[0m\n\u001b[0;32m   1088\u001b[0m             \u001b[1;32mwhile\u001b[0m \u001b[1;32mTrue\u001b[0m\u001b[1;33m:\u001b[0m\u001b[1;33m\u001b[0m\u001b[0m\n\u001b[0;32m   1089\u001b[0m                 \u001b[1;32mtry\u001b[0m\u001b[1;33m:\u001b[0m\u001b[1;33m\u001b[0m\u001b[0m\n\u001b[1;32m-> 1090\u001b[1;33m                     \u001b[0mself\u001b[0m\u001b[1;33m.\u001b[0m\u001b[0mfp\u001b[0m \u001b[1;33m=\u001b[0m \u001b[0mio\u001b[0m\u001b[1;33m.\u001b[0m\u001b[0mopen\u001b[0m\u001b[1;33m(\u001b[0m\u001b[0mfile\u001b[0m\u001b[1;33m,\u001b[0m \u001b[0mfilemode\u001b[0m\u001b[1;33m)\u001b[0m\u001b[1;33m\u001b[0m\u001b[0m\n\u001b[0m\u001b[0;32m   1091\u001b[0m                 \u001b[1;32mexcept\u001b[0m \u001b[0mOSError\u001b[0m\u001b[1;33m:\u001b[0m\u001b[1;33m\u001b[0m\u001b[0m\n\u001b[0;32m   1092\u001b[0m                     \u001b[1;32mif\u001b[0m \u001b[0mfilemode\u001b[0m \u001b[1;32min\u001b[0m \u001b[0mmodeDict\u001b[0m\u001b[1;33m:\u001b[0m\u001b[1;33m\u001b[0m\u001b[0m\n",
      "\u001b[1;31mFileNotFoundError\u001b[0m: [Errno 2] No such file or directory: 'C:\\\\Users\\\\Justyna\\\\Python Scripts\\\\ultimatum2\\\\data\\\\allcut.xlsx'"
     ]
    }
   ],
   "source": [
    "all.to_excel(\"C:\\\\Users\\\\Justyna\\\\Python Scripts\\\\ultimatum2\\\\data\\\\allcut.xlsx\")"
   ]
  },
  {
   "cell_type": "code",
   "execution_count": null,
   "metadata": {},
   "outputs": [],
   "source": [
    "pro.head()"
   ]
  },
  {
   "cell_type": "code",
   "execution_count": null,
   "metadata": {},
   "outputs": [],
   "source": [
    "res.head()"
   ]
  },
  {
   "cell_type": "raw",
   "metadata": {},
   "source": [
    "res[[\"offerAg\",\"agent\", \"prevTouch\"]].corr().plot()"
   ]
  },
  {
   "cell_type": "raw",
   "metadata": {},
   "source": [
    "sn.heatmap(res[[\"offerAg\",\"agent\", \"prevTouch\", \"emb\", \"socPres\", \"atg\", \"hdf\"]].corr())"
   ]
  },
  {
   "cell_type": "raw",
   "metadata": {},
   "source": [
    "sn.heatmap(res.groupby([\"country\"])[[\"offerAg\",\"agent\", \"prevTouch\", \"emb\", \"socPres\", \"atg\", \"hdf\"]].corr())"
   ]
  },
  {
   "cell_type": "raw",
   "metadata": {},
   "source": [
    "res[[\"offerAg\",\"agent\", \"prevTouch\"]].hist()"
   ]
  },
  {
   "cell_type": "code",
   "execution_count": null,
   "metadata": {},
   "outputs": [],
   "source": [
    "print(res[[\"country\", \"touch\", \"agent\",\"accepted\"]].corr())"
   ]
  },
  {
   "cell_type": "raw",
   "metadata": {},
   "source": [
    "sn.heatmap(res[[\"country\", \"touch\", \"agent\",\"accepted\"]].corr())"
   ]
  },
  {
   "cell_type": "code",
   "execution_count": null,
   "metadata": {},
   "outputs": [],
   "source": [
    "#plt.plot?"
   ]
  },
  {
   "cell_type": "raw",
   "metadata": {},
   "source": [
    "res.plot(x = \"mras\", y = \"stat\") # ls = \"dotted\")"
   ]
  },
  {
   "cell_type": "raw",
   "metadata": {},
   "source": [
    "pro.groupby(\"agent\").plot(x = \"touch\", y = \"offerAg\")"
   ]
  },
  {
   "cell_type": "raw",
   "metadata": {},
   "source": [
    "mt.style.use('seaborn-dark-palette')\n",
    "pro.groupby(\"agent\").boxplot(column='offerAg', \n",
    "                               by=['touch'], \n",
    "                               fontsize=12, \n",
    "                               rot=0, \n",
    "                               grid=False, \n",
    "                               figsize=(8,6), \n",
    "                               return_type='both')"
   ]
  },
  {
   "cell_type": "raw",
   "metadata": {},
   "source": [
    "mt.style.use('seaborn-dark-palette')\n",
    "pro.boxplot(column='offerAg', \n",
    "            by=['country', 'touch'], \n",
    "            fontsize=12, \n",
    "            rot=0, \n",
    "            grid=False, \n",
    "            figsize=(8,6), \n",
    "            return_type='both')"
   ]
  },
  {
   "cell_type": "raw",
   "metadata": {},
   "source": [
    "mt.style.use('seaborn-dark-palette')\n",
    "pro.groupby(\"country\").boxplot(column='offerAg', \n",
    "                               by=['agent', 'prevTouch'], \n",
    "                               fontsize=12, \n",
    "                               rot=0, \n",
    "                               grid=False, \n",
    "                               figsize=(8,6), \n",
    "                               return_type='both')"
   ]
  },
  {
   "cell_type": "raw",
   "metadata": {},
   "source": [
    "mt.style.use('seaborn-dark-palette')\n",
    "res.groupby( \"agent\").boxplot(column='offerPar', \n",
    "                               by=['touch', 'accepted'], \n",
    "                               fontsize=12, \n",
    "                               rot=0, \n",
    "                               grid=False, \n",
    "                               figsize=(13,8), \n",
    "                               return_type='both')"
   ]
  },
  {
   "cell_type": "raw",
   "metadata": {},
   "source": [
    "\n",
    "#Create a boxplot\n",
    "mig.boxplot('privatelife', by='accstrat', figsize=(12, 8))\n",
    " \n",
    "#mig.boxplot(column='privatelife', by='accstrat', fontsize=12, rot=0, grid=False, figsize=(14,10), layout=(14,10), return_type='both', **kwds\n",
    "\n",
    "acc = mig['privatelife'][mig.group == 'accstrat']\n",
    " \n",
    "grps = pd.unique(mig.group.values)\n",
    "d_data = {grp:mig['privatelife'][mig.group == grp] for grp in grps}\n",
    " \n",
    "k = len(pd.unique(mig.group))  # number of conditions\n",
    "N = len(mig.values)  # conditions times participants\n",
    "n = mig.groupby('accstrat').size()[0] #Participants in each condition"
   ]
  },
  {
   "cell_type": "code",
   "execution_count": null,
   "metadata": {},
   "outputs": [],
   "source": [
    "sn.jointplot(x=\"emb\", \n",
    "              y=\"offerAg\", \n",
    "              stat_func= None,\n",
    "              data=pro, \n",
    "              kind=\"reg\", \n",
    "              size =4,\n",
    "              color = \"#01A183\")"
   ]
  },
  {
   "cell_type": "code",
   "execution_count": null,
   "metadata": {},
   "outputs": [],
   "source": [
    "#sn.jointplot?"
   ]
  },
  {
   "cell_type": "code",
   "execution_count": 22,
   "metadata": {},
   "outputs": [
    {
     "name": "stderr",
     "output_type": "stream",
     "text": [
      "C:\\Users\\Justyna\\Anaconda3\\lib\\site-packages\\seaborn\\axisgrid.py:2262: UserWarning: The `size` paramter has been renamed to `height`; please update your code.\n",
      "  warnings.warn(msg, UserWarning)\n",
      "C:\\Users\\Justyna\\Anaconda3\\lib\\site-packages\\scipy\\stats\\stats.py:1713: FutureWarning: Using a non-tuple sequence for multidimensional indexing is deprecated; use `arr[tuple(seq)]` instead of `arr[seq]`. In the future this will be interpreted as an array index, `arr[np.array(seq)]`, which will result either in an error or a different result.\n",
      "  return np.add.reduce(sorted[indexer] * weights, axis=axis) / sumval\n"
     ]
    },
    {
     "data": {
      "text/plain": [
       "<seaborn.axisgrid.JointGrid at 0x33c97708d0>"
      ]
     },
     "execution_count": 22,
     "metadata": {},
     "output_type": "execute_result"
    },
    {
     "data": {
      "image/png": "[encoded data removed]",
      "text/plain": [
       "<Figure size 288x288 with 3 Axes>"
      ]
     },
     "metadata": {},
     "output_type": "display_data"
    }
   ],
   "source": [
    "sn.jointplot(x=\"accepted\", \n",
    "              y=\"touch\", \n",
    "              #stat_func=sk.linear_model.LogisticRegression(),\n",
    "              data=res, \n",
    "              kind=\"reg\", \n",
    "              size =4,\n",
    "              color = \"grey\")"
   ]
  },
  {
   "cell_type": "raw",
   "metadata": {},
   "source": [
    "affair_mod = logit(\"affair ~ occupation + educ + occupation_husb\" \n",
    "                   \"+ rate_marriage + age + yrs_married + children\"\n",
    "                   \" + religious\", dta).fit()"
   ]
  },
  {
   "cell_type": "code",
   "execution_count": 23,
   "metadata": {},
   "outputs": [
    {
     "data": {
      "text/plain": [
       "<matplotlib.legend.Legend at 0x33c7bcabe0>"
      ]
     },
     "execution_count": 23,
     "metadata": {},
     "output_type": "execute_result"
    },
    {
     "data": {
      "image/png": "[encoded data removed]",
      "text/plain": [
       "<Figure size 360x216 with 1 Axes>"
      ]
     },
     "metadata": {},
     "output_type": "display_data"
    }
   ],
   "source": [
    "mt.style.use('seaborn-paper')\n",
    "\n",
    "f = plt.figure(figsize=(5,3))\n",
    "plt.hist(x = \"offerAg\", data = pro, bins = 15, alpha = 0.4, color=\"#696969\")\n",
    "plt.hist(x = \"offerPar\", data = res, bins = 15, alpha = 0.4, color = \"#0100f8\")\n",
    "\n",
    "plt.plot([50,50],[0,120], color = \"red\")\n",
    "\n",
    "ax = plt.gca()\n",
    "ax.spines['right'].set_visible(False)\n",
    "ax.spines['top'].set_visible(False)\n",
    "# Only show ticks on the left and bottom spines\n",
    "ax.yaxis.set_ticks_position('left')\n",
    "ax.xaxis.set_ticks_position('bottom')\n",
    "\n",
    "plt.xlabel('Offered value', fontsize=16)\n",
    "plt.ylabel('N', fontsize=16)\n",
    "plt.xticks(fontsize=16)\n",
    "plt.yticks([0, 25, 50, 75,100], fontsize=16)\n",
    "#plt.ylim(-5, 100)\n",
    "#plt.xlim(-3, 2.5)\n",
    "\n",
    "#legend\n",
    "plt.legend(('50/50 split','Coins offered to the VH', 'Offered by the VH'), \n",
    "           loc=[0.05, 0.8], \n",
    "           fontsize=14)\n",
    "\n",
    "#f.savefig('offers.png', transparent=True, figsize=(8,6))"
   ]
  },
  {
   "cell_type": "code",
   "execution_count": 24,
   "metadata": {
    "scrolled": false
   },
   "outputs": [
    {
     "data": {
      "image/png": "[encoded data removed]",
      "text/plain": [
       "<Figure size 648x432 with 1 Axes>"
      ]
     },
     "metadata": {},
     "output_type": "display_data"
    }
   ],
   "source": [
    "mt.style.use('seaborn-paper')\n",
    "\n",
    "f = plt.figure(figsize=(9,6))\n",
    "\n",
    "plt.hist(x = \"offerPar\", data = resyes, \n",
    "         bins = 25, \n",
    "         alpha = 0.85, \n",
    "         color = \"#01A183\") #green\n",
    "\n",
    "plt.hist(x = \"offerPar\", data = resno, \n",
    "         bins = 25, \n",
    "         alpha = 0.6,\n",
    "         color = \"#696969\")  #grey\n",
    "\n",
    "plt.plot([50,50], [0,72], color = \"red\")\n",
    "\n",
    "ax = plt.gca()\n",
    "ax.spines['right'].set_visible(False)\n",
    "ax.spines['top'].set_visible(False)\n",
    "# Only show ticks on the left and bottom spines\n",
    "ax.yaxis.set_ticks_position('left')\n",
    "ax.xaxis.set_ticks_position('bottom')\n",
    "\n",
    "plt.xlabel('Value offered to the participant', fontsize=16)\n",
    "plt.ylabel('Frequency', fontsize = 16)\n",
    "plt.xticks(fontsize = 16)\n",
    "plt.yticks([0, 25, 50, 75,100], fontsize=16)\n",
    "#plt.ylim(-5, 100)\n",
    "#plt.xlim(-3, 2.5)\n",
    "\n",
    "#categories\n",
    "plt.text(x = 30, y = 74, horizontalalignment = 'center', s = \"UNFAIR\", fontsize = 15)\n",
    "plt.text(x = 42, y = 74, horizontalalignment = 'center', s = \"FAIR\", fontsize = 15)\n",
    "plt.text(x = 48, y = 74, horizontalalignment = 'left', s = \"GENEROUS\", fontsize = 15)\n",
    "\n",
    "#legend\n",
    "plt.legend(('50/50','Offers accepted', 'Offers rejected'), \n",
    "           loc=[0.05, 0.8], fontsize=16)\n",
    "\n",
    "f.savefig('acceptedReject.png',  transparent=True, figsize=(7,6), dpi = 300)"
   ]
  },
  {
   "cell_type": "code",
   "execution_count": 25,
   "metadata": {},
   "outputs": [],
   "source": [
    "#plt.text?"
   ]
  },
  {
   "cell_type": "raw",
   "metadata": {},
   "source": [
    "mt.style.use('seaborn-paper')\n",
    "\n",
    "f = plt.figure(figsize=(12,6))\n",
    "\n",
    "plt.hist(x = \"offerPar\", data = resyes, \n",
    "         bins = 25, \n",
    "         alpha = 0.4, \n",
    "         color = \"#0100f8\") #violet\n",
    "\n",
    "plt.hist(x = \"offerPar\", data = resno, \n",
    "         bins = 25, \n",
    "         alpha = 0.4,\n",
    "         color = \"#696969\")  #grey\n",
    "\n",
    "plt.plot([50,50], [0,100], color = \"red\")\n",
    "\n",
    "ax = plt.gca()\n",
    "ax.spines['right'].set_visible(False)\n",
    "ax.spines['top'].set_visible(False)\n",
    "# Only show ticks on the left and bottom spines\n",
    "ax.yaxis.set_ticks_position('left')\n",
    "ax.xaxis.set_ticks_position('bottom')\n",
    "\n",
    "plt.xlabel('Value offered to the participant', fontsize=14)\n",
    "plt.ylabel('Frequency', fontsize = 14)\n",
    "plt.xticks(fontsize = 14)\n",
    "plt.yticks([0, 25, 50, 75,100], fontsize=14)\n",
    "#plt.ylim(-5, 100)\n",
    "#plt.xlim(-3, 2.5)\n",
    "\n",
    "#legend\n",
    "plt.legend(('50/50 split','Offers accepted', 'Offers rejected'), \n",
    "           loc=[0.05, 0.7], fontsize=14)\n",
    "\n",
    "#f.savefig('acceptedReject.png', transparent=True, figsize=(8,6))"
   ]
  },
  {
   "cell_type": "markdown",
   "metadata": {},
   "source": [
    "#ANOVA FINALLY! (or GLM?)\n",
    "\n",
    "We start by using ordinary least squares method and then the anova_lm method. Also, if you are familiar with R-syntax. Statsmodels have a formula api where your model is very intuitively formulated. First, we import the api and the formula api. Second we, use ordinary least squares regression with our data. The object obtained is a fitted model that we later use with the anova_lm method to obtaine a ANOVA table."
   ]
  },
  {
   "cell_type": "code",
   "execution_count": 25,
   "metadata": {},
   "outputs": [
    {
     "name": "stdout",
     "output_type": "stream",
     "text": [
      "                  sum_sq     df         F    PR(>F)\n",
      "cult          189.900450    1.0  2.107965  0.147759\n",
      "agent           1.869231    1.0  0.020749  0.885578\n",
      "cult:agent    112.127214    1.0  1.244653  0.265622\n",
      "Residual    23062.299259  256.0       NaN       NaN\n"
     ]
    }
   ],
   "source": [
    "from statsmodels.formula.api import ols\n",
    " \n",
    "mod = ols('offerAg ~ cult*agent',\n",
    "                data=pro).fit()\n",
    "                \n",
    "aov_table = sm.stats.anova_lm(mod, typ=2)\n",
    "print(aov_table)"
   ]
  },
  {
   "cell_type": "code",
   "execution_count": 28,
   "metadata": {},
   "outputs": [
    {
     "name": "stdout",
     "output_type": "stream",
     "text": [
      "0.9902527304611216\n"
     ]
    }
   ],
   "source": [
    "# As can be seen in the ANVOA table Statsmodels don’t provide an effect size .  \n",
    "# To calculate eta squared we can use the sum of squares from the table:\n",
    "\n",
    "esq_sm = aov_table['sum_sq'][0]/(aov_table['sum_sq'][0]+aov_table['sum_sq'][1])\n",
    "print(esq_sm)"
   ]
  },
  {
   "cell_type": "code",
   "execution_count": 20,
   "metadata": {},
   "outputs": [],
   "source": [
    "#hist? "
   ]
  },
  {
   "cell_type": "markdown",
   "metadata": {},
   "source": [
    "# Scatter plot"
   ]
  },
  {
   "cell_type": "code",
   "execution_count": 19,
   "metadata": {},
   "outputs": [],
   "source": [
    "#plt.scatter?"
   ]
  },
  {
   "cell_type": "code",
   "execution_count": 28,
   "metadata": {},
   "outputs": [
    {
     "data": {
      "text/plain": [
       "(-3, 3.5)"
      ]
     },
     "execution_count": 28,
     "metadata": {},
     "output_type": "execute_result"
    },
    {
     "data": {
      "image/png": "[encoded data removed]",
      "text/plain": [
       "<Figure size 360x216 with 1 Axes>"
      ]
     },
     "metadata": {},
     "output_type": "display_data"
    }
   ],
   "source": [
    "##ustawienie czcionki \n",
    "font = {'family' : 'Dejavu Sans',\n",
    "        'weight' : 'normal',\n",
    "        'size'   : 16}\n",
    "plt.rc('font', **font)\n",
    "\n",
    "g = plt.figure(figsize=(5,3), frameon=False)\n",
    "\n",
    "ax = plt.gca()\n",
    "ax.spines['right'].set_visible(False)\n",
    "ax.spines['top'].set_visible(False)\n",
    "# Only show ticks on the left and bottom spines\n",
    "ax.yaxis.set_ticks_position('left')\n",
    "ax.xaxis.set_ticks_position('bottom')\n",
    "\n",
    "plt.scatter(x = \"Zemb\", y = \"offerAg\",  data = pro, \n",
    "            norm = (0,5), \n",
    "            marker = \"o\", \n",
    "            s = 100, \n",
    "            alpha = 0.3, \n",
    "            color = \"green\")\n",
    "\n",
    "\n",
    "plt.xlabel('Embodiment (standardized)')\n",
    "plt.ylabel('Coins offered to the Virtual Human (0-100)')\n",
    "plt.xticks(range(-3, 4))\n",
    "plt.yticks([0, 25,50,75, 100])\n",
    "#plt.ylim(-5, 100)\n",
    "plt.xlim(-3, 3.5)\n",
    "\n",
    "#g.savefig('emb x offerAg.png',  transparent=True, figsize=(7,6), dpi = 300)"
   ]
  },
  {
   "cell_type": "code",
   "execution_count": 29,
   "metadata": {},
   "outputs": [
    {
     "data": {
      "image/png": "[encoded data removed]",
      "text/plain": [
       "<Figure size 648x432 with 1 Axes>"
      ]
     },
     "metadata": {},
     "output_type": "display_data"
    }
   ],
   "source": [
    "g = plt.figure(figsize=(9,6), frameon=False)\n",
    "\n",
    "##ustawienie czcionki \n",
    "font = {'family' : 'Dejavu Sans',\n",
    "        'weight' : 'normal',\n",
    "        'size'   : 16}\n",
    "plt.rc('font', **font)\n",
    "\n",
    "#plotting data\n",
    "plt.scatter(x = \"Zemb\", y = \"offerAg\",  data = pro, \n",
    "            #norm = (0,5),  \n",
    "            s = 100, \n",
    "            alpha = 0.4, \n",
    "            color = \"#01A183\", \n",
    "            marker=\"*\")\n",
    "\n",
    "plt.scatter(x = \"ZsocPres\", y = \"offerAg\",  data = pro, #norm = (0,1), \n",
    "            s = 100, \n",
    "            alpha = 0.4, \n",
    "            color = \"#696969\", \n",
    "            marker=\"^\")\n",
    "\n",
    "\n",
    "#no ticks\n",
    "plt.tick_params(top=False, bottom=True, left=False, right=True) #labelleft=True, labelbottom=True)\n",
    "plt.xticks(fontsize=14)\n",
    "#plt.yticks([0, 25, 50, 75, 100], fontsize=14)\n",
    "\n",
    "ax = plt.gca()\n",
    "ax.spines['right'].set_visible(False)\n",
    "ax.spines['top'].set_visible(False)\n",
    "# Only show ticks on the left and bottom spines\n",
    "ax.yaxis.set_ticks_position('left')\n",
    "ax.xaxis.set_ticks_position('bottom')\n",
    "\n",
    "#labels\n",
    "plt.xlabel('VR experience (standardized)', fontsize=14)\n",
    "plt.ylabel('Value offered to the agent (0 - 100)', fontsize=14)\n",
    "\n",
    "#scale on y and x axes\n",
    "#plt.ylim(-5, 100)\n",
    "#plt.xlim(-3, 2.5)\n",
    "\n",
    "#legend\n",
    "plt.legend(('embodiment', 'social presence'), loc=\"upper left\" , fontsize='small')\n",
    "\n",
    "#saving\n",
    "g.savefig('scatter.png',  transparent=True, figsize=(9,6), dpi = 300)"
   ]
  },
  {
   "cell_type": "code",
   "execution_count": 29,
   "metadata": {},
   "outputs": [],
   "source": [
    "#plt.scatter?"
   ]
  },
  {
   "cell_type": "markdown",
   "metadata": {},
   "source": [
    "# H1\n",
    "### People will play ultimatum game with embodied agents “mindlessly”, treating them as if they were humans. \n",
    "#### This implies they will make rather fair offers (60/40, ref.) because of altruism and/or fear of being punished for too greedy offers."
   ]
  },
  {
   "cell_type": "code",
   "execution_count": 31,
   "metadata": {},
   "outputs": [
    {
     "name": "stdout",
     "output_type": "stream",
     "text": [
      "      count      mean       std  min  25%  50%  75%  max\n",
      "cult                                                    \n",
      "0     324.0  0.376543  0.485268  0.0  0.0  0.0  1.0  1.0\n",
      "1     300.0  0.380000  0.486197  0.0  0.0  0.0  1.0  1.0\n",
      "      count unique          top freq\n",
      "agent                               \n",
      "0.0     156      1   low status  156\n",
      "1.0     104      1  high status  104\n"
     ]
    }
   ],
   "source": [
    "print(res.groupby([\"cult\"])[\"accepted\"].describe())\n",
    "print(pro.groupby(\"agent\")[\"name\"].describe())"
   ]
  },
  {
   "cell_type": "code",
   "execution_count": 32,
   "metadata": {},
   "outputs": [
    {
     "name": "stdout",
     "output_type": "stream",
     "text": [
      "country  name       \n",
      "cat      high status    39.506173\n",
      "         low status     35.802469\n",
      "pl       high status    41.333333\n",
      "         low status     34.666667\n",
      "Name: accepted, dtype: float64\n",
      "country  name       \n",
      "cat      high status    49.037981\n",
      "         low status     48.090603\n",
      "pl       high status    49.408130\n",
      "         low status     47.750283\n",
      "Name: accepted, dtype: float64\n"
     ]
    }
   ],
   "source": [
    "print(res.groupby([\"country\", \"name\"])[\"accepted\"].mean()*100)\n",
    "print(res.groupby([\"country\", \"name\"])[\"accepted\"].std()*100)"
   ]
  },
  {
   "cell_type": "markdown",
   "metadata": {},
   "source": [
    "## PARTICIPANT RESPONDER"
   ]
  },
  {
   "cell_type": "code",
   "execution_count": 33,
   "metadata": {
    "scrolled": true
   },
   "outputs": [
    {
     "data": {
      "text/html": [
       "<div>\n",
       "<style scoped>\n",
       "    .dataframe tbody tr th:only-of-type {\n",
       "        vertical-align: middle;\n",
       "    }\n",
       "\n",
       "    .dataframe tbody tr th {\n",
       "        vertical-align: top;\n",
       "    }\n",
       "\n",
       "    .dataframe thead th {\n",
       "        text-align: right;\n",
       "    }\n",
       "</style>\n",
       "<table border=\"1\" class=\"dataframe\">\n",
       "  <thead>\n",
       "    <tr style=\"text-align: right;\">\n",
       "      <th></th>\n",
       "      <th>id</th>\n",
       "      <th>block</th>\n",
       "      <th>round</th>\n",
       "      <th>rundaBlok</th>\n",
       "      <th>parPro</th>\n",
       "      <th>prevParPro</th>\n",
       "      <th>touch</th>\n",
       "      <th>prevTouch</th>\n",
       "      <th>offerAg</th>\n",
       "      <th>offerPar</th>\n",
       "      <th>...</th>\n",
       "      <th>Zhdf</th>\n",
       "      <th>Zmras</th>\n",
       "      <th>Znft</th>\n",
       "      <th>ZsocPres</th>\n",
       "      <th>Zemb</th>\n",
       "      <th>Zstat</th>\n",
       "      <th>Zdisgust</th>\n",
       "      <th>Zdisgust_s</th>\n",
       "      <th>cult</th>\n",
       "      <th>atgMed</th>\n",
       "    </tr>\n",
       "  </thead>\n",
       "  <tbody>\n",
       "    <tr>\n",
       "      <th>count</th>\n",
       "      <td>624.000000</td>\n",
       "      <td>624.000000</td>\n",
       "      <td>624.000000</td>\n",
       "      <td>624.000000</td>\n",
       "      <td>624.0</td>\n",
       "      <td>624.000000</td>\n",
       "      <td>624.000000</td>\n",
       "      <td>624.000000</td>\n",
       "      <td>624.000000</td>\n",
       "      <td>624.000000</td>\n",
       "      <td>...</td>\n",
       "      <td>6.240000e+02</td>\n",
       "      <td>6.240000e+02</td>\n",
       "      <td>6.240000e+02</td>\n",
       "      <td>6.240000e+02</td>\n",
       "      <td>6.240000e+02</td>\n",
       "      <td>6.240000e+02</td>\n",
       "      <td>6.240000e+02</td>\n",
       "      <td>6.240000e+02</td>\n",
       "      <td>624.000000</td>\n",
       "      <td>624.000000</td>\n",
       "    </tr>\n",
       "    <tr>\n",
       "      <th>mean</th>\n",
       "      <td>16.442308</td>\n",
       "      <td>0.416667</td>\n",
       "      <td>11.467949</td>\n",
       "      <td>5.500000</td>\n",
       "      <td>0.0</td>\n",
       "      <td>0.333333</td>\n",
       "      <td>0.500000</td>\n",
       "      <td>0.354167</td>\n",
       "      <td>60.931090</td>\n",
       "      <td>39.068910</td>\n",
       "      <td>...</td>\n",
       "      <td>3.638471e-16</td>\n",
       "      <td>-1.618719e-15</td>\n",
       "      <td>1.740061e-16</td>\n",
       "      <td>-2.539457e-15</td>\n",
       "      <td>-2.290480e-15</td>\n",
       "      <td>4.611696e-16</td>\n",
       "      <td>-4.360159e-15</td>\n",
       "      <td>-2.477007e-15</td>\n",
       "      <td>0.480769</td>\n",
       "      <td>0.384615</td>\n",
       "    </tr>\n",
       "    <tr>\n",
       "      <th>std</th>\n",
       "      <td>8.560794</td>\n",
       "      <td>0.493402</td>\n",
       "      <td>5.715480</td>\n",
       "      <td>2.755994</td>\n",
       "      <td>0.0</td>\n",
       "      <td>0.471783</td>\n",
       "      <td>0.500401</td>\n",
       "      <td>0.478644</td>\n",
       "      <td>7.443747</td>\n",
       "      <td>7.443747</td>\n",
       "      <td>...</td>\n",
       "      <td>1.000321e+00</td>\n",
       "      <td>1.000321e+00</td>\n",
       "      <td>1.000321e+00</td>\n",
       "      <td>1.000321e+00</td>\n",
       "      <td>1.000321e+00</td>\n",
       "      <td>1.000321e+00</td>\n",
       "      <td>1.000321e+00</td>\n",
       "      <td>1.000321e+00</td>\n",
       "      <td>0.500031</td>\n",
       "      <td>0.486895</td>\n",
       "    </tr>\n",
       "    <tr>\n",
       "      <th>min</th>\n",
       "      <td>0.000000</td>\n",
       "      <td>0.000000</td>\n",
       "      <td>2.000000</td>\n",
       "      <td>1.000000</td>\n",
       "      <td>0.0</td>\n",
       "      <td>0.000000</td>\n",
       "      <td>0.000000</td>\n",
       "      <td>0.000000</td>\n",
       "      <td>48.000000</td>\n",
       "      <td>25.000000</td>\n",
       "      <td>...</td>\n",
       "      <td>-2.111418e+00</td>\n",
       "      <td>-2.138225e+00</td>\n",
       "      <td>-2.766928e+00</td>\n",
       "      <td>-1.941131e+00</td>\n",
       "      <td>-2.489260e+00</td>\n",
       "      <td>-3.148670e+00</td>\n",
       "      <td>-2.515091e+00</td>\n",
       "      <td>-1.510767e+00</td>\n",
       "      <td>0.000000</td>\n",
       "      <td>0.000000</td>\n",
       "    </tr>\n",
       "    <tr>\n",
       "      <th>25%</th>\n",
       "      <td>9.750000</td>\n",
       "      <td>0.000000</td>\n",
       "      <td>7.000000</td>\n",
       "      <td>3.750000</td>\n",
       "      <td>0.0</td>\n",
       "      <td>0.000000</td>\n",
       "      <td>0.000000</td>\n",
       "      <td>0.000000</td>\n",
       "      <td>56.000000</td>\n",
       "      <td>33.000000</td>\n",
       "      <td>...</td>\n",
       "      <td>-6.294604e-01</td>\n",
       "      <td>-7.170651e-01</td>\n",
       "      <td>-6.734322e-01</td>\n",
       "      <td>-7.041357e-01</td>\n",
       "      <td>-6.360910e-01</td>\n",
       "      <td>-6.297340e-01</td>\n",
       "      <td>-7.084937e-01</td>\n",
       "      <td>-6.238006e-01</td>\n",
       "      <td>0.000000</td>\n",
       "      <td>0.000000</td>\n",
       "    </tr>\n",
       "    <tr>\n",
       "      <th>50%</th>\n",
       "      <td>17.000000</td>\n",
       "      <td>0.000000</td>\n",
       "      <td>10.000000</td>\n",
       "      <td>6.000000</td>\n",
       "      <td>0.0</td>\n",
       "      <td>0.000000</td>\n",
       "      <td>0.500000</td>\n",
       "      <td>0.000000</td>\n",
       "      <td>60.000000</td>\n",
       "      <td>40.000000</td>\n",
       "      <td>...</td>\n",
       "      <td>-4.956381e-02</td>\n",
       "      <td>-1.148786e-01</td>\n",
       "      <td>2.439972e-02</td>\n",
       "      <td>-8.563812e-02</td>\n",
       "      <td>1.269786e-01</td>\n",
       "      <td>5.600000e-16</td>\n",
       "      <td>1.240795e-03</td>\n",
       "      <td>-1.803174e-01</td>\n",
       "      <td>0.000000</td>\n",
       "      <td>0.000000</td>\n",
       "    </tr>\n",
       "    <tr>\n",
       "      <th>75%</th>\n",
       "      <td>23.250000</td>\n",
       "      <td>1.000000</td>\n",
       "      <td>17.000000</td>\n",
       "      <td>8.000000</td>\n",
       "      <td>0.0</td>\n",
       "      <td>1.000000</td>\n",
       "      <td>1.000000</td>\n",
       "      <td>1.000000</td>\n",
       "      <td>67.000000</td>\n",
       "      <td>44.000000</td>\n",
       "      <td>...</td>\n",
       "      <td>7.236316e-01</td>\n",
       "      <td>8.486196e-01</td>\n",
       "      <td>5.953531e-01</td>\n",
       "      <td>5.947092e-01</td>\n",
       "      <td>5.941641e-01</td>\n",
       "      <td>6.297340e-01</td>\n",
       "      <td>4.528900e-01</td>\n",
       "      <td>4.215528e-01</td>\n",
       "      <td>1.000000</td>\n",
       "      <td>1.000000</td>\n",
       "    </tr>\n",
       "    <tr>\n",
       "      <th>max</th>\n",
       "      <td>32.000000</td>\n",
       "      <td>1.000000</td>\n",
       "      <td>20.000000</td>\n",
       "      <td>9.000000</td>\n",
       "      <td>0.0</td>\n",
       "      <td>1.000000</td>\n",
       "      <td>1.000000</td>\n",
       "      <td>1.000000</td>\n",
       "      <td>75.000000</td>\n",
       "      <td>52.000000</td>\n",
       "      <td>...</td>\n",
       "      <td>1.754559e+00</td>\n",
       "      <td>2.101167e+00</td>\n",
       "      <td>2.435092e+00</td>\n",
       "      <td>1.769854e+00</td>\n",
       "      <td>1.808846e+00</td>\n",
       "      <td>1.889202e+00</td>\n",
       "      <td>3.549913e+00</td>\n",
       "      <td>3.811032e+00</td>\n",
       "      <td>1.000000</td>\n",
       "      <td>1.000000</td>\n",
       "    </tr>\n",
       "  </tbody>\n",
       "</table>\n",
       "<p>8 rows × 355 columns</p>\n",
       "</div>"
      ],
      "text/plain": [
       "               id       block       round   rundaBlok  parPro  prevParPro  \\\n",
       "count  624.000000  624.000000  624.000000  624.000000   624.0  624.000000   \n",
       "mean    16.442308    0.416667   11.467949    5.500000     0.0    0.333333   \n",
       "std      8.560794    0.493402    5.715480    2.755994     0.0    0.471783   \n",
       "min      0.000000    0.000000    2.000000    1.000000     0.0    0.000000   \n",
       "25%      9.750000    0.000000    7.000000    3.750000     0.0    0.000000   \n",
       "50%     17.000000    0.000000   10.000000    6.000000     0.0    0.000000   \n",
       "75%     23.250000    1.000000   17.000000    8.000000     0.0    1.000000   \n",
       "max     32.000000    1.000000   20.000000    9.000000     0.0    1.000000   \n",
       "\n",
       "            touch   prevTouch     offerAg    offerPar     ...      \\\n",
       "count  624.000000  624.000000  624.000000  624.000000     ...       \n",
       "mean     0.500000    0.354167   60.931090   39.068910     ...       \n",
       "std      0.500401    0.478644    7.443747    7.443747     ...       \n",
       "min      0.000000    0.000000   48.000000   25.000000     ...       \n",
       "25%      0.000000    0.000000   56.000000   33.000000     ...       \n",
       "50%      0.500000    0.000000   60.000000   40.000000     ...       \n",
       "75%      1.000000    1.000000   67.000000   44.000000     ...       \n",
       "max      1.000000    1.000000   75.000000   52.000000     ...       \n",
       "\n",
       "               Zhdf         Zmras          Znft      ZsocPres          Zemb  \\\n",
       "count  6.240000e+02  6.240000e+02  6.240000e+02  6.240000e+02  6.240000e+02   \n",
       "mean   3.638471e-16 -1.618719e-15  1.740061e-16 -2.539457e-15 -2.290480e-15   \n",
       "std    1.000321e+00  1.000321e+00  1.000321e+00  1.000321e+00  1.000321e+00   \n",
       "min   -2.111418e+00 -2.138225e+00 -2.766928e+00 -1.941131e+00 -2.489260e+00   \n",
       "25%   -6.294604e-01 -7.170651e-01 -6.734322e-01 -7.041357e-01 -6.360910e-01   \n",
       "50%   -4.956381e-02 -1.148786e-01  2.439972e-02 -8.563812e-02  1.269786e-01   \n",
       "75%    7.236316e-01  8.486196e-01  5.953531e-01  5.947092e-01  5.941641e-01   \n",
       "max    1.754559e+00  2.101167e+00  2.435092e+00  1.769854e+00  1.808846e+00   \n",
       "\n",
       "              Zstat      Zdisgust    Zdisgust_s        cult      atgMed  \n",
       "count  6.240000e+02  6.240000e+02  6.240000e+02  624.000000  624.000000  \n",
       "mean   4.611696e-16 -4.360159e-15 -2.477007e-15    0.480769    0.384615  \n",
       "std    1.000321e+00  1.000321e+00  1.000321e+00    0.500031    0.486895  \n",
       "min   -3.148670e+00 -2.515091e+00 -1.510767e+00    0.000000    0.000000  \n",
       "25%   -6.297340e-01 -7.084937e-01 -6.238006e-01    0.000000    0.000000  \n",
       "50%    5.600000e-16  1.240795e-03 -1.803174e-01    0.000000    0.000000  \n",
       "75%    6.297340e-01  4.528900e-01  4.215528e-01    1.000000    1.000000  \n",
       "max    1.889202e+00  3.549913e+00  3.811032e+00    1.000000    1.000000  \n",
       "\n",
       "[8 rows x 355 columns]"
      ]
     },
     "execution_count": 33,
     "metadata": {},
     "output_type": "execute_result"
    }
   ],
   "source": [
    "res.describe()"
   ]
  },
  {
   "cell_type": "markdown",
   "metadata": {},
   "source": [
    "## three categories of the offers: \n",
    "- generous (46 – 52 coins offered to the participant), \n",
    "- fair (38 – 45 coins for the participant)\n",
    "- unfair (25 – 35 coins for the participant). "
   ]
  },
  {
   "cell_type": "code",
   "execution_count": 34,
   "metadata": {},
   "outputs": [
    {
     "data": {
      "text/html": [
       "<div>\n",
       "<style scoped>\n",
       "    .dataframe tbody tr th:only-of-type {\n",
       "        vertical-align: middle;\n",
       "    }\n",
       "\n",
       "    .dataframe tbody tr th {\n",
       "        vertical-align: top;\n",
       "    }\n",
       "\n",
       "    .dataframe thead th {\n",
       "        text-align: right;\n",
       "    }\n",
       "</style>\n",
       "<table border=\"1\" class=\"dataframe\">\n",
       "  <thead>\n",
       "    <tr style=\"text-align: right;\">\n",
       "      <th></th>\n",
       "      <th>count</th>\n",
       "      <th>mean</th>\n",
       "      <th>std</th>\n",
       "      <th>min</th>\n",
       "      <th>25%</th>\n",
       "      <th>50%</th>\n",
       "      <th>75%</th>\n",
       "      <th>max</th>\n",
       "    </tr>\n",
       "    <tr>\n",
       "      <th>cult</th>\n",
       "      <th></th>\n",
       "      <th></th>\n",
       "      <th></th>\n",
       "      <th></th>\n",
       "      <th></th>\n",
       "      <th></th>\n",
       "      <th></th>\n",
       "      <th></th>\n",
       "    </tr>\n",
       "  </thead>\n",
       "  <tbody>\n",
       "    <tr>\n",
       "      <th>0</th>\n",
       "      <td>324.0</td>\n",
       "      <td>0.376543</td>\n",
       "      <td>0.485268</td>\n",
       "      <td>0.0</td>\n",
       "      <td>0.0</td>\n",
       "      <td>0.0</td>\n",
       "      <td>1.0</td>\n",
       "      <td>1.0</td>\n",
       "    </tr>\n",
       "    <tr>\n",
       "      <th>1</th>\n",
       "      <td>300.0</td>\n",
       "      <td>0.380000</td>\n",
       "      <td>0.486197</td>\n",
       "      <td>0.0</td>\n",
       "      <td>0.0</td>\n",
       "      <td>0.0</td>\n",
       "      <td>1.0</td>\n",
       "      <td>1.0</td>\n",
       "    </tr>\n",
       "  </tbody>\n",
       "</table>\n",
       "</div>"
      ],
      "text/plain": [
       "      count      mean       std  min  25%  50%  75%  max\n",
       "cult                                                    \n",
       "0     324.0  0.376543  0.485268  0.0  0.0  0.0  1.0  1.0\n",
       "1     300.0  0.380000  0.486197  0.0  0.0  0.0  1.0  1.0"
      ]
     },
     "execution_count": 34,
     "metadata": {},
     "output_type": "execute_result"
    }
   ],
   "source": [
    "#acceptance rate by country\n",
    "res.groupby(\"cult\")[\"accepted\"].describe()"
   ]
  },
  {
   "cell_type": "code",
   "execution_count": 35,
   "metadata": {},
   "outputs": [
    {
     "data": {
      "text/html": [
       "<div>\n",
       "<style scoped>\n",
       "    .dataframe tbody tr th:only-of-type {\n",
       "        vertical-align: middle;\n",
       "    }\n",
       "\n",
       "    .dataframe tbody tr th {\n",
       "        vertical-align: top;\n",
       "    }\n",
       "\n",
       "    .dataframe thead th {\n",
       "        text-align: right;\n",
       "    }\n",
       "</style>\n",
       "<table border=\"1\" class=\"dataframe\">\n",
       "  <thead>\n",
       "    <tr style=\"text-align: right;\">\n",
       "      <th></th>\n",
       "      <th></th>\n",
       "      <th>count</th>\n",
       "      <th>mean</th>\n",
       "      <th>std</th>\n",
       "      <th>min</th>\n",
       "      <th>25%</th>\n",
       "      <th>50%</th>\n",
       "      <th>75%</th>\n",
       "      <th>max</th>\n",
       "    </tr>\n",
       "    <tr>\n",
       "      <th>offerParC</th>\n",
       "      <th>country</th>\n",
       "      <th></th>\n",
       "      <th></th>\n",
       "      <th></th>\n",
       "      <th></th>\n",
       "      <th></th>\n",
       "      <th></th>\n",
       "      <th></th>\n",
       "      <th></th>\n",
       "    </tr>\n",
       "  </thead>\n",
       "  <tbody>\n",
       "    <tr>\n",
       "      <th rowspan=\"2\" valign=\"top\">fair</th>\n",
       "      <th>cat</th>\n",
       "      <td>162.0</td>\n",
       "      <td>0.382716</td>\n",
       "      <td>0.487557</td>\n",
       "      <td>0.0</td>\n",
       "      <td>0.0</td>\n",
       "      <td>0.0</td>\n",
       "      <td>1.0</td>\n",
       "      <td>1.0</td>\n",
       "    </tr>\n",
       "    <tr>\n",
       "      <th>pl</th>\n",
       "      <td>150.0</td>\n",
       "      <td>0.400000</td>\n",
       "      <td>0.491539</td>\n",
       "      <td>0.0</td>\n",
       "      <td>0.0</td>\n",
       "      <td>0.0</td>\n",
       "      <td>1.0</td>\n",
       "      <td>1.0</td>\n",
       "    </tr>\n",
       "    <tr>\n",
       "      <th rowspan=\"2\" valign=\"top\">generous</th>\n",
       "      <th>cat</th>\n",
       "      <td>54.0</td>\n",
       "      <td>0.944444</td>\n",
       "      <td>0.231212</td>\n",
       "      <td>0.0</td>\n",
       "      <td>1.0</td>\n",
       "      <td>1.0</td>\n",
       "      <td>1.0</td>\n",
       "      <td>1.0</td>\n",
       "    </tr>\n",
       "    <tr>\n",
       "      <th>pl</th>\n",
       "      <td>50.0</td>\n",
       "      <td>0.800000</td>\n",
       "      <td>0.404061</td>\n",
       "      <td>0.0</td>\n",
       "      <td>1.0</td>\n",
       "      <td>1.0</td>\n",
       "      <td>1.0</td>\n",
       "      <td>1.0</td>\n",
       "    </tr>\n",
       "    <tr>\n",
       "      <th rowspan=\"2\" valign=\"top\">unfair</th>\n",
       "      <th>cat</th>\n",
       "      <td>108.0</td>\n",
       "      <td>0.083333</td>\n",
       "      <td>0.277674</td>\n",
       "      <td>0.0</td>\n",
       "      <td>0.0</td>\n",
       "      <td>0.0</td>\n",
       "      <td>0.0</td>\n",
       "      <td>1.0</td>\n",
       "    </tr>\n",
       "    <tr>\n",
       "      <th>pl</th>\n",
       "      <td>100.0</td>\n",
       "      <td>0.140000</td>\n",
       "      <td>0.348735</td>\n",
       "      <td>0.0</td>\n",
       "      <td>0.0</td>\n",
       "      <td>0.0</td>\n",
       "      <td>0.0</td>\n",
       "      <td>1.0</td>\n",
       "    </tr>\n",
       "  </tbody>\n",
       "</table>\n",
       "</div>"
      ],
      "text/plain": [
       "                   count      mean       std  min  25%  50%  75%  max\n",
       "offerParC country                                                    \n",
       "fair      cat      162.0  0.382716  0.487557  0.0  0.0  0.0  1.0  1.0\n",
       "          pl       150.0  0.400000  0.491539  0.0  0.0  0.0  1.0  1.0\n",
       "generous  cat       54.0  0.944444  0.231212  0.0  1.0  1.0  1.0  1.0\n",
       "          pl        50.0  0.800000  0.404061  0.0  1.0  1.0  1.0  1.0\n",
       "unfair    cat      108.0  0.083333  0.277674  0.0  0.0  0.0  0.0  1.0\n",
       "          pl       100.0  0.140000  0.348735  0.0  0.0  0.0  0.0  1.0"
      ]
     },
     "execution_count": 35,
     "metadata": {},
     "output_type": "execute_result"
    }
   ],
   "source": [
    "#acceptance rate by country and category\n",
    "res.groupby([\"offerParC\", \"country\"])[\"accepted\"].describe()"
   ]
  },
  {
   "cell_type": "code",
   "execution_count": 36,
   "metadata": {},
   "outputs": [
    {
     "data": {
      "text/plain": [
       "offerParC  country\n",
       "fair       cat        48.755700\n",
       "           pl         49.153915\n",
       "generous   cat        23.121228\n",
       "           pl         40.406102\n",
       "unfair     cat        27.767392\n",
       "           pl         34.873509\n",
       "Name: accepted, dtype: float64"
      ]
     },
     "execution_count": 36,
     "metadata": {},
     "output_type": "execute_result"
    }
   ],
   "source": [
    "#acceptance rate by country and category\n",
    "res.groupby([\"offerParC\", \"country\"])[\"accepted\"].std()*100"
   ]
  },
  {
   "cell_type": "code",
   "execution_count": 37,
   "metadata": {},
   "outputs": [
    {
     "data": {
      "text/html": [
       "<div>\n",
       "<style scoped>\n",
       "    .dataframe tbody tr th:only-of-type {\n",
       "        vertical-align: middle;\n",
       "    }\n",
       "\n",
       "    .dataframe tbody tr th {\n",
       "        vertical-align: top;\n",
       "    }\n",
       "\n",
       "    .dataframe thead th {\n",
       "        text-align: right;\n",
       "    }\n",
       "</style>\n",
       "<table border=\"1\" class=\"dataframe\">\n",
       "  <thead>\n",
       "    <tr style=\"text-align: right;\">\n",
       "      <th></th>\n",
       "      <th></th>\n",
       "      <th></th>\n",
       "      <th>count</th>\n",
       "      <th>mean</th>\n",
       "      <th>std</th>\n",
       "      <th>min</th>\n",
       "      <th>25%</th>\n",
       "      <th>50%</th>\n",
       "      <th>75%</th>\n",
       "      <th>max</th>\n",
       "    </tr>\n",
       "    <tr>\n",
       "      <th>country</th>\n",
       "      <th>offerParC</th>\n",
       "      <th>name</th>\n",
       "      <th></th>\n",
       "      <th></th>\n",
       "      <th></th>\n",
       "      <th></th>\n",
       "      <th></th>\n",
       "      <th></th>\n",
       "      <th></th>\n",
       "      <th></th>\n",
       "    </tr>\n",
       "  </thead>\n",
       "  <tbody>\n",
       "    <tr>\n",
       "      <th rowspan=\"6\" valign=\"top\">cat</th>\n",
       "      <th rowspan=\"2\" valign=\"top\">fair</th>\n",
       "      <th>high status</th>\n",
       "      <td>81.0</td>\n",
       "      <td>0.444444</td>\n",
       "      <td>0.500000</td>\n",
       "      <td>0.0</td>\n",
       "      <td>0.0</td>\n",
       "      <td>0.0</td>\n",
       "      <td>1.0</td>\n",
       "      <td>1.0</td>\n",
       "    </tr>\n",
       "    <tr>\n",
       "      <th>low status</th>\n",
       "      <td>81.0</td>\n",
       "      <td>0.320988</td>\n",
       "      <td>0.469765</td>\n",
       "      <td>0.0</td>\n",
       "      <td>0.0</td>\n",
       "      <td>0.0</td>\n",
       "      <td>1.0</td>\n",
       "      <td>1.0</td>\n",
       "    </tr>\n",
       "    <tr>\n",
       "      <th rowspan=\"2\" valign=\"top\">generous</th>\n",
       "      <th>high status</th>\n",
       "      <td>27.0</td>\n",
       "      <td>0.888889</td>\n",
       "      <td>0.320256</td>\n",
       "      <td>0.0</td>\n",
       "      <td>1.0</td>\n",
       "      <td>1.0</td>\n",
       "      <td>1.0</td>\n",
       "      <td>1.0</td>\n",
       "    </tr>\n",
       "    <tr>\n",
       "      <th>low status</th>\n",
       "      <td>27.0</td>\n",
       "      <td>1.000000</td>\n",
       "      <td>0.000000</td>\n",
       "      <td>1.0</td>\n",
       "      <td>1.0</td>\n",
       "      <td>1.0</td>\n",
       "      <td>1.0</td>\n",
       "      <td>1.0</td>\n",
       "    </tr>\n",
       "    <tr>\n",
       "      <th rowspan=\"2\" valign=\"top\">unfair</th>\n",
       "      <th>high status</th>\n",
       "      <td>54.0</td>\n",
       "      <td>0.074074</td>\n",
       "      <td>0.264351</td>\n",
       "      <td>0.0</td>\n",
       "      <td>0.0</td>\n",
       "      <td>0.0</td>\n",
       "      <td>0.0</td>\n",
       "      <td>1.0</td>\n",
       "    </tr>\n",
       "    <tr>\n",
       "      <th>low status</th>\n",
       "      <td>54.0</td>\n",
       "      <td>0.092593</td>\n",
       "      <td>0.292582</td>\n",
       "      <td>0.0</td>\n",
       "      <td>0.0</td>\n",
       "      <td>0.0</td>\n",
       "      <td>0.0</td>\n",
       "      <td>1.0</td>\n",
       "    </tr>\n",
       "    <tr>\n",
       "      <th rowspan=\"6\" valign=\"top\">pl</th>\n",
       "      <th rowspan=\"2\" valign=\"top\">fair</th>\n",
       "      <th>high status</th>\n",
       "      <td>75.0</td>\n",
       "      <td>0.466667</td>\n",
       "      <td>0.502247</td>\n",
       "      <td>0.0</td>\n",
       "      <td>0.0</td>\n",
       "      <td>0.0</td>\n",
       "      <td>1.0</td>\n",
       "      <td>1.0</td>\n",
       "    </tr>\n",
       "    <tr>\n",
       "      <th>low status</th>\n",
       "      <td>75.0</td>\n",
       "      <td>0.333333</td>\n",
       "      <td>0.474579</td>\n",
       "      <td>0.0</td>\n",
       "      <td>0.0</td>\n",
       "      <td>0.0</td>\n",
       "      <td>1.0</td>\n",
       "      <td>1.0</td>\n",
       "    </tr>\n",
       "    <tr>\n",
       "      <th rowspan=\"2\" valign=\"top\">generous</th>\n",
       "      <th>high status</th>\n",
       "      <td>25.0</td>\n",
       "      <td>0.760000</td>\n",
       "      <td>0.435890</td>\n",
       "      <td>0.0</td>\n",
       "      <td>1.0</td>\n",
       "      <td>1.0</td>\n",
       "      <td>1.0</td>\n",
       "      <td>1.0</td>\n",
       "    </tr>\n",
       "    <tr>\n",
       "      <th>low status</th>\n",
       "      <td>25.0</td>\n",
       "      <td>0.840000</td>\n",
       "      <td>0.374166</td>\n",
       "      <td>0.0</td>\n",
       "      <td>1.0</td>\n",
       "      <td>1.0</td>\n",
       "      <td>1.0</td>\n",
       "      <td>1.0</td>\n",
       "    </tr>\n",
       "    <tr>\n",
       "      <th rowspan=\"2\" valign=\"top\">unfair</th>\n",
       "      <th>high status</th>\n",
       "      <td>50.0</td>\n",
       "      <td>0.160000</td>\n",
       "      <td>0.370328</td>\n",
       "      <td>0.0</td>\n",
       "      <td>0.0</td>\n",
       "      <td>0.0</td>\n",
       "      <td>0.0</td>\n",
       "      <td>1.0</td>\n",
       "    </tr>\n",
       "    <tr>\n",
       "      <th>low status</th>\n",
       "      <td>50.0</td>\n",
       "      <td>0.120000</td>\n",
       "      <td>0.328261</td>\n",
       "      <td>0.0</td>\n",
       "      <td>0.0</td>\n",
       "      <td>0.0</td>\n",
       "      <td>0.0</td>\n",
       "      <td>1.0</td>\n",
       "    </tr>\n",
       "  </tbody>\n",
       "</table>\n",
       "</div>"
      ],
      "text/plain": [
       "                               count      mean       std  min  25%  50%  75%  \\\n",
       "country offerParC name                                                         \n",
       "cat     fair      high status   81.0  0.444444  0.500000  0.0  0.0  0.0  1.0   \n",
       "                  low status    81.0  0.320988  0.469765  0.0  0.0  0.0  1.0   \n",
       "        generous  high status   27.0  0.888889  0.320256  0.0  1.0  1.0  1.0   \n",
       "                  low status    27.0  1.000000  0.000000  1.0  1.0  1.0  1.0   \n",
       "        unfair    high status   54.0  0.074074  0.264351  0.0  0.0  0.0  0.0   \n",
       "                  low status    54.0  0.092593  0.292582  0.0  0.0  0.0  0.0   \n",
       "pl      fair      high status   75.0  0.466667  0.502247  0.0  0.0  0.0  1.0   \n",
       "                  low status    75.0  0.333333  0.474579  0.0  0.0  0.0  1.0   \n",
       "        generous  high status   25.0  0.760000  0.435890  0.0  1.0  1.0  1.0   \n",
       "                  low status    25.0  0.840000  0.374166  0.0  1.0  1.0  1.0   \n",
       "        unfair    high status   50.0  0.160000  0.370328  0.0  0.0  0.0  0.0   \n",
       "                  low status    50.0  0.120000  0.328261  0.0  0.0  0.0  0.0   \n",
       "\n",
       "                               max  \n",
       "country offerParC name              \n",
       "cat     fair      high status  1.0  \n",
       "                  low status   1.0  \n",
       "        generous  high status  1.0  \n",
       "                  low status   1.0  \n",
       "        unfair    high status  1.0  \n",
       "                  low status   1.0  \n",
       "pl      fair      high status  1.0  \n",
       "                  low status   1.0  \n",
       "        generous  high status  1.0  \n",
       "                  low status   1.0  \n",
       "        unfair    high status  1.0  \n",
       "                  low status   1.0  "
      ]
     },
     "execution_count": 37,
     "metadata": {},
     "output_type": "execute_result"
    }
   ],
   "source": [
    "res.groupby([\"country\", \"offerParC\",\"name\"])[\"accepted\"].describe()"
   ]
  },
  {
   "cell_type": "code",
   "execution_count": 38,
   "metadata": {
    "scrolled": false
   },
   "outputs": [
    {
     "name": "stdout",
     "output_type": "stream",
     "text": [
      "country  name         offerParC\n",
      "cat      high status  fair          44.444444\n",
      "                      generous      88.888889\n",
      "                      unfair         7.407407\n",
      "         low status   fair          32.098765\n",
      "                      generous     100.000000\n",
      "                      unfair         9.259259\n",
      "pl       high status  fair          46.666667\n",
      "                      generous      76.000000\n",
      "                      unfair        16.000000\n",
      "         low status   fair          33.333333\n",
      "                      generous      84.000000\n",
      "                      unfair        12.000000\n",
      "Name: accepted, dtype: float64\n"
     ]
    }
   ],
   "source": [
    "print(res.groupby([\"country\", \"name\", \"offerParC\"])[\"accepted\"].mean()*100) \n"
   ]
  },
  {
   "cell_type": "code",
   "execution_count": 39,
   "metadata": {},
   "outputs": [
    {
     "data": {
      "text/plain": [
       "offerParC  name         country\n",
       "fair       high status  cat        50.000000\n",
       "                        pl         50.224720\n",
       "           low status   cat        46.976485\n",
       "                        pl         47.457900\n",
       "generous   high status  cat        32.025631\n",
       "                        pl         43.588989\n",
       "           low status   cat         0.000000\n",
       "                        pl         37.416574\n",
       "unfair     high status  cat        26.435053\n",
       "                        pl         37.032804\n",
       "           low status   cat        29.258242\n",
       "                        pl         32.826072\n",
       "Name: accepted, dtype: float64"
      ]
     },
     "execution_count": 39,
     "metadata": {},
     "output_type": "execute_result"
    }
   ],
   "source": [
    "res.groupby([\"offerParC\", \"name\", \"country\"])[\"accepted\"].std()*100"
   ]
  },
  {
   "cell_type": "markdown",
   "metadata": {},
   "source": [
    "## PARTICIPANT PROPOSER"
   ]
  },
  {
   "cell_type": "raw",
   "metadata": {},
   "source": [
    "#cutting offers for agents into 10 groups, but the group are decided independently (based on the distribution i guess?)\n",
    "\n",
    "pro[\"offerAgC\"] = pd.cut(x = pro[\"offerAg\"], bins = 10)\n",
    "                         #, labels = [1,2,3,4,5,6,7,8,9,10])\n",
    "pro[[\"offerAgC\", \"offerAg\"]]"
   ]
  },
  {
   "cell_type": "code",
   "execution_count": 40,
   "metadata": {},
   "outputs": [
    {
     "name": "stderr",
     "output_type": "stream",
     "text": [
      "C:\\Users\\Justyna\\Anaconda3\\lib\\site-packages\\pandas\\core\\indexing.py:362: SettingWithCopyWarning: \n",
      "A value is trying to be set on a copy of a slice from a DataFrame.\n",
      "Try using .loc[row_indexer,col_indexer] = value instead\n",
      "\n",
      "See the caveats in the documentation: http://pandas.pydata.org/pandas-docs/stable/indexing.html#indexing-view-versus-copy\n",
      "  self.obj[key] = _infer_fill_value(value)\n",
      "C:\\Users\\Justyna\\Anaconda3\\lib\\site-packages\\pandas\\core\\indexing.py:543: SettingWithCopyWarning: \n",
      "A value is trying to be set on a copy of a slice from a DataFrame.\n",
      "Try using .loc[row_indexer,col_indexer] = value instead\n",
      "\n",
      "See the caveats in the documentation: http://pandas.pydata.org/pandas-docs/stable/indexing.html#indexing-view-versus-copy\n",
      "  self.obj[item] = s\n"
     ]
    }
   ],
   "source": [
    "#cutting into categories (into defined number of even categories or with defined bins)\n",
    "\n",
    "bins = pd.IntervalIndex.from_tuples(((0,10), (10,20), (20,30), (30,40), \n",
    "                                     (40,50), (50,60), (60,70), (70,80),\n",
    "                                    (80,90), (90,100)))\n",
    "\n",
    "pro.loc[:,\"offerAgC\"] = pd.cut(x = pro.loc[:,\"offerAg\"], bins = bins, labels = False)\n",
    "\n",
    "#pro.loc[:,(\"offerAgC\", \"offerAg\")]"
   ]
  },
  {
   "cell_type": "code",
   "execution_count": 41,
   "metadata": {
    "scrolled": true
   },
   "outputs": [
    {
     "data": {
      "text/html": [
       "<div>\n",
       "<style scoped>\n",
       "    .dataframe tbody tr th:only-of-type {\n",
       "        vertical-align: middle;\n",
       "    }\n",
       "\n",
       "    .dataframe tbody tr th {\n",
       "        vertical-align: top;\n",
       "    }\n",
       "\n",
       "    .dataframe thead th {\n",
       "        text-align: right;\n",
       "    }\n",
       "</style>\n",
       "<table border=\"1\" class=\"dataframe\">\n",
       "  <thead>\n",
       "    <tr style=\"text-align: right;\">\n",
       "      <th></th>\n",
       "      <th>count</th>\n",
       "      <th>mean</th>\n",
       "      <th>std</th>\n",
       "      <th>min</th>\n",
       "      <th>25%</th>\n",
       "      <th>50%</th>\n",
       "      <th>75%</th>\n",
       "      <th>max</th>\n",
       "    </tr>\n",
       "    <tr>\n",
       "      <th>agent</th>\n",
       "      <th></th>\n",
       "      <th></th>\n",
       "      <th></th>\n",
       "      <th></th>\n",
       "      <th></th>\n",
       "      <th></th>\n",
       "      <th></th>\n",
       "      <th></th>\n",
       "    </tr>\n",
       "  </thead>\n",
       "  <tbody>\n",
       "    <tr>\n",
       "      <th>0.0</th>\n",
       "      <td>156.0</td>\n",
       "      <td>44.365385</td>\n",
       "      <td>8.598639</td>\n",
       "      <td>0.0</td>\n",
       "      <td>40.0</td>\n",
       "      <td>45.0</td>\n",
       "      <td>50.0</td>\n",
       "      <td>85.0</td>\n",
       "    </tr>\n",
       "    <tr>\n",
       "      <th>1.0</th>\n",
       "      <td>104.0</td>\n",
       "      <td>44.192308</td>\n",
       "      <td>10.750549</td>\n",
       "      <td>1.0</td>\n",
       "      <td>40.0</td>\n",
       "      <td>45.5</td>\n",
       "      <td>50.0</td>\n",
       "      <td>90.0</td>\n",
       "    </tr>\n",
       "  </tbody>\n",
       "</table>\n",
       "</div>"
      ],
      "text/plain": [
       "       count       mean        std  min   25%   50%   75%   max\n",
       "agent                                                          \n",
       "0.0    156.0  44.365385   8.598639  0.0  40.0  45.0  50.0  85.0\n",
       "1.0    104.0  44.192308  10.750549  1.0  40.0  45.5  50.0  90.0"
      ]
     },
     "execution_count": 41,
     "metadata": {},
     "output_type": "execute_result"
    }
   ],
   "source": [
    "# mean value of offers for agents by country\n",
    "pro.groupby(\"agent\")[\"offerAg\"].describe()"
   ]
  },
  {
   "cell_type": "code",
   "execution_count": 42,
   "metadata": {},
   "outputs": [],
   "source": [
    "#res[[\"offerParC\", \"offerPar\"]]"
   ]
  },
  {
   "cell_type": "code",
   "execution_count": 43,
   "metadata": {},
   "outputs": [
    {
     "data": {
      "text/html": [
       "<div>\n",
       "<style scoped>\n",
       "    .dataframe tbody tr th:only-of-type {\n",
       "        vertical-align: middle;\n",
       "    }\n",
       "\n",
       "    .dataframe tbody tr th {\n",
       "        vertical-align: top;\n",
       "    }\n",
       "\n",
       "    .dataframe thead th {\n",
       "        text-align: right;\n",
       "    }\n",
       "</style>\n",
       "<table border=\"1\" class=\"dataframe\">\n",
       "  <thead>\n",
       "    <tr style=\"text-align: right;\">\n",
       "      <th></th>\n",
       "      <th></th>\n",
       "      <th>count</th>\n",
       "      <th>mean</th>\n",
       "      <th>std</th>\n",
       "      <th>min</th>\n",
       "      <th>25%</th>\n",
       "      <th>50%</th>\n",
       "      <th>75%</th>\n",
       "      <th>max</th>\n",
       "    </tr>\n",
       "    <tr>\n",
       "      <th>offerAgC</th>\n",
       "      <th>country</th>\n",
       "      <th></th>\n",
       "      <th></th>\n",
       "      <th></th>\n",
       "      <th></th>\n",
       "      <th></th>\n",
       "      <th></th>\n",
       "      <th></th>\n",
       "      <th></th>\n",
       "    </tr>\n",
       "  </thead>\n",
       "  <tbody>\n",
       "    <tr>\n",
       "      <th rowspan=\"2\" valign=\"top\">(0, 10]</th>\n",
       "      <th>cat</th>\n",
       "      <td>2.0</td>\n",
       "      <td>4.000000</td>\n",
       "      <td>1.414214</td>\n",
       "      <td>3.0</td>\n",
       "      <td>3.50</td>\n",
       "      <td>4.0</td>\n",
       "      <td>4.50</td>\n",
       "      <td>5.0</td>\n",
       "    </tr>\n",
       "    <tr>\n",
       "      <th>pl</th>\n",
       "      <td>2.0</td>\n",
       "      <td>5.500000</td>\n",
       "      <td>6.363961</td>\n",
       "      <td>1.0</td>\n",
       "      <td>3.25</td>\n",
       "      <td>5.5</td>\n",
       "      <td>7.75</td>\n",
       "      <td>10.0</td>\n",
       "    </tr>\n",
       "    <tr>\n",
       "      <th rowspan=\"2\" valign=\"top\">(10, 20]</th>\n",
       "      <th>cat</th>\n",
       "      <td>1.0</td>\n",
       "      <td>20.000000</td>\n",
       "      <td>NaN</td>\n",
       "      <td>20.0</td>\n",
       "      <td>20.00</td>\n",
       "      <td>20.0</td>\n",
       "      <td>20.00</td>\n",
       "      <td>20.0</td>\n",
       "    </tr>\n",
       "    <tr>\n",
       "      <th>pl</th>\n",
       "      <td>1.0</td>\n",
       "      <td>18.000000</td>\n",
       "      <td>NaN</td>\n",
       "      <td>18.0</td>\n",
       "      <td>18.00</td>\n",
       "      <td>18.0</td>\n",
       "      <td>18.00</td>\n",
       "      <td>18.0</td>\n",
       "    </tr>\n",
       "    <tr>\n",
       "      <th rowspan=\"2\" valign=\"top\">(20, 30]</th>\n",
       "      <th>cat</th>\n",
       "      <td>3.0</td>\n",
       "      <td>30.000000</td>\n",
       "      <td>0.000000</td>\n",
       "      <td>30.0</td>\n",
       "      <td>30.00</td>\n",
       "      <td>30.0</td>\n",
       "      <td>30.00</td>\n",
       "      <td>30.0</td>\n",
       "    </tr>\n",
       "    <tr>\n",
       "      <th>pl</th>\n",
       "      <td>5.0</td>\n",
       "      <td>26.800000</td>\n",
       "      <td>2.489980</td>\n",
       "      <td>25.0</td>\n",
       "      <td>25.00</td>\n",
       "      <td>25.0</td>\n",
       "      <td>29.00</td>\n",
       "      <td>30.0</td>\n",
       "    </tr>\n",
       "    <tr>\n",
       "      <th rowspan=\"2\" valign=\"top\">(30, 40]</th>\n",
       "      <th>cat</th>\n",
       "      <td>34.0</td>\n",
       "      <td>38.411765</td>\n",
       "      <td>2.284568</td>\n",
       "      <td>34.0</td>\n",
       "      <td>35.25</td>\n",
       "      <td>40.0</td>\n",
       "      <td>40.00</td>\n",
       "      <td>40.0</td>\n",
       "    </tr>\n",
       "    <tr>\n",
       "      <th>pl</th>\n",
       "      <td>34.0</td>\n",
       "      <td>38.117647</td>\n",
       "      <td>2.446577</td>\n",
       "      <td>32.0</td>\n",
       "      <td>36.25</td>\n",
       "      <td>39.5</td>\n",
       "      <td>40.00</td>\n",
       "      <td>40.0</td>\n",
       "    </tr>\n",
       "    <tr>\n",
       "      <th rowspan=\"2\" valign=\"top\">(40, 50]</th>\n",
       "      <th>cat</th>\n",
       "      <td>84.0</td>\n",
       "      <td>47.869048</td>\n",
       "      <td>2.701092</td>\n",
       "      <td>41.0</td>\n",
       "      <td>45.00</td>\n",
       "      <td>50.0</td>\n",
       "      <td>50.00</td>\n",
       "      <td>50.0</td>\n",
       "    </tr>\n",
       "    <tr>\n",
       "      <th>pl</th>\n",
       "      <td>77.0</td>\n",
       "      <td>47.532468</td>\n",
       "      <td>2.736615</td>\n",
       "      <td>41.0</td>\n",
       "      <td>45.00</td>\n",
       "      <td>48.0</td>\n",
       "      <td>50.00</td>\n",
       "      <td>50.0</td>\n",
       "    </tr>\n",
       "    <tr>\n",
       "      <th rowspan=\"2\" valign=\"top\">(50, 60]</th>\n",
       "      <th>cat</th>\n",
       "      <td>9.0</td>\n",
       "      <td>55.111111</td>\n",
       "      <td>3.100179</td>\n",
       "      <td>52.0</td>\n",
       "      <td>52.00</td>\n",
       "      <td>55.0</td>\n",
       "      <td>55.00</td>\n",
       "      <td>60.0</td>\n",
       "    </tr>\n",
       "    <tr>\n",
       "      <th>pl</th>\n",
       "      <td>4.0</td>\n",
       "      <td>54.250000</td>\n",
       "      <td>4.272002</td>\n",
       "      <td>51.0</td>\n",
       "      <td>51.00</td>\n",
       "      <td>53.0</td>\n",
       "      <td>56.25</td>\n",
       "      <td>60.0</td>\n",
       "    </tr>\n",
       "    <tr>\n",
       "      <th>(60, 70]</th>\n",
       "      <th>cat</th>\n",
       "      <td>1.0</td>\n",
       "      <td>65.000000</td>\n",
       "      <td>NaN</td>\n",
       "      <td>65.0</td>\n",
       "      <td>65.00</td>\n",
       "      <td>65.0</td>\n",
       "      <td>65.00</td>\n",
       "      <td>65.0</td>\n",
       "    </tr>\n",
       "    <tr>\n",
       "      <th rowspan=\"2\" valign=\"top\">(80, 90]</th>\n",
       "      <th>cat</th>\n",
       "      <td>1.0</td>\n",
       "      <td>85.000000</td>\n",
       "      <td>NaN</td>\n",
       "      <td>85.0</td>\n",
       "      <td>85.00</td>\n",
       "      <td>85.0</td>\n",
       "      <td>85.00</td>\n",
       "      <td>85.0</td>\n",
       "    </tr>\n",
       "    <tr>\n",
       "      <th>pl</th>\n",
       "      <td>1.0</td>\n",
       "      <td>90.000000</td>\n",
       "      <td>NaN</td>\n",
       "      <td>90.0</td>\n",
       "      <td>90.00</td>\n",
       "      <td>90.0</td>\n",
       "      <td>90.00</td>\n",
       "      <td>90.0</td>\n",
       "    </tr>\n",
       "  </tbody>\n",
       "</table>\n",
       "</div>"
      ],
      "text/plain": [
       "                  count       mean       std   min    25%   50%    75%   max\n",
       "offerAgC country                                                            \n",
       "(0, 10]  cat        2.0   4.000000  1.414214   3.0   3.50   4.0   4.50   5.0\n",
       "         pl         2.0   5.500000  6.363961   1.0   3.25   5.5   7.75  10.0\n",
       "(10, 20] cat        1.0  20.000000       NaN  20.0  20.00  20.0  20.00  20.0\n",
       "         pl         1.0  18.000000       NaN  18.0  18.00  18.0  18.00  18.0\n",
       "(20, 30] cat        3.0  30.000000  0.000000  30.0  30.00  30.0  30.00  30.0\n",
       "         pl         5.0  26.800000  2.489980  25.0  25.00  25.0  29.00  30.0\n",
       "(30, 40] cat       34.0  38.411765  2.284568  34.0  35.25  40.0  40.00  40.0\n",
       "         pl        34.0  38.117647  2.446577  32.0  36.25  39.5  40.00  40.0\n",
       "(40, 50] cat       84.0  47.869048  2.701092  41.0  45.00  50.0  50.00  50.0\n",
       "         pl        77.0  47.532468  2.736615  41.0  45.00  48.0  50.00  50.0\n",
       "(50, 60] cat        9.0  55.111111  3.100179  52.0  52.00  55.0  55.00  60.0\n",
       "         pl         4.0  54.250000  4.272002  51.0  51.00  53.0  56.25  60.0\n",
       "(60, 70] cat        1.0  65.000000       NaN  65.0  65.00  65.0  65.00  65.0\n",
       "(80, 90] cat        1.0  85.000000       NaN  85.0  85.00  85.0  85.00  85.0\n",
       "         pl         1.0  90.000000       NaN  90.0  90.00  90.0  90.00  90.0"
      ]
     },
     "execution_count": 43,
     "metadata": {},
     "output_type": "execute_result"
    }
   ],
   "source": [
    "#THIS IS IN THE PAPER (so far)\n",
    "table = pro.groupby([\"offerAgC\", \"country\"])[\"offerAg\"].describe()\n",
    "table\n",
    "#doesnt work - problem with data type?#\n",
    "#table.to_excel(\"C:\\\\Users\\\\Justyna\\\\Python Scripts\\\\ultimatum2\\\\results\\\\offersAgent.xlsx\")"
   ]
  },
  {
   "cell_type": "code",
   "execution_count": 44,
   "metadata": {},
   "outputs": [
    {
     "data": {
      "text/plain": [
       "<pandas.core.groupby.groupby.DataFrameGroupBy object at 0x00000033C7CB63C8>"
      ]
     },
     "execution_count": 44,
     "metadata": {},
     "output_type": "execute_result"
    }
   ],
   "source": [
    "pro.groupby([\"country\"])"
   ]
  },
  {
   "cell_type": "code",
   "execution_count": 45,
   "metadata": {},
   "outputs": [
    {
     "data": {
      "text/html": [
       "<div>\n",
       "<style scoped>\n",
       "    .dataframe tbody tr th:only-of-type {\n",
       "        vertical-align: middle;\n",
       "    }\n",
       "\n",
       "    .dataframe tbody tr th {\n",
       "        vertical-align: top;\n",
       "    }\n",
       "\n",
       "    .dataframe thead th {\n",
       "        text-align: right;\n",
       "    }\n",
       "</style>\n",
       "<table border=\"1\" class=\"dataframe\">\n",
       "  <thead>\n",
       "    <tr style=\"text-align: right;\">\n",
       "      <th></th>\n",
       "      <th></th>\n",
       "      <th>IDround</th>\n",
       "      <th>country</th>\n",
       "      <th>id</th>\n",
       "      <th>ID</th>\n",
       "      <th>block</th>\n",
       "      <th>round</th>\n",
       "      <th>cut</th>\n",
       "      <th>cut2</th>\n",
       "      <th>rundaBlok</th>\n",
       "      <th>parPro</th>\n",
       "      <th>...</th>\n",
       "      <th>Zmras</th>\n",
       "      <th>Znft</th>\n",
       "      <th>ZsocPres</th>\n",
       "      <th>Zemb</th>\n",
       "      <th>Zstat</th>\n",
       "      <th>Zdisgust</th>\n",
       "      <th>Zdisgust_s</th>\n",
       "      <th>cult</th>\n",
       "      <th>atgMed</th>\n",
       "      <th>name</th>\n",
       "    </tr>\n",
       "    <tr>\n",
       "      <th>offerParC</th>\n",
       "      <th>agent</th>\n",
       "      <th></th>\n",
       "      <th></th>\n",
       "      <th></th>\n",
       "      <th></th>\n",
       "      <th></th>\n",
       "      <th></th>\n",
       "      <th></th>\n",
       "      <th></th>\n",
       "      <th></th>\n",
       "      <th></th>\n",
       "      <th></th>\n",
       "      <th></th>\n",
       "      <th></th>\n",
       "      <th></th>\n",
       "      <th></th>\n",
       "      <th></th>\n",
       "      <th></th>\n",
       "      <th></th>\n",
       "      <th></th>\n",
       "      <th></th>\n",
       "      <th></th>\n",
       "    </tr>\n",
       "  </thead>\n",
       "  <tbody>\n",
       "    <tr>\n",
       "      <th rowspan=\"2\" valign=\"top\">fair</th>\n",
       "      <th>0.0</th>\n",
       "      <td>75</td>\n",
       "      <td>75</td>\n",
       "      <td>75</td>\n",
       "      <td>75</td>\n",
       "      <td>75</td>\n",
       "      <td>75</td>\n",
       "      <td>75</td>\n",
       "      <td>75</td>\n",
       "      <td>75</td>\n",
       "      <td>75</td>\n",
       "      <td>...</td>\n",
       "      <td>75</td>\n",
       "      <td>75</td>\n",
       "      <td>75</td>\n",
       "      <td>75</td>\n",
       "      <td>75</td>\n",
       "      <td>75</td>\n",
       "      <td>75</td>\n",
       "      <td>75</td>\n",
       "      <td>75</td>\n",
       "      <td>75</td>\n",
       "    </tr>\n",
       "    <tr>\n",
       "      <th>1.0</th>\n",
       "      <td>75</td>\n",
       "      <td>75</td>\n",
       "      <td>75</td>\n",
       "      <td>75</td>\n",
       "      <td>75</td>\n",
       "      <td>75</td>\n",
       "      <td>75</td>\n",
       "      <td>75</td>\n",
       "      <td>75</td>\n",
       "      <td>75</td>\n",
       "      <td>...</td>\n",
       "      <td>75</td>\n",
       "      <td>75</td>\n",
       "      <td>75</td>\n",
       "      <td>75</td>\n",
       "      <td>75</td>\n",
       "      <td>75</td>\n",
       "      <td>75</td>\n",
       "      <td>75</td>\n",
       "      <td>75</td>\n",
       "      <td>75</td>\n",
       "    </tr>\n",
       "    <tr>\n",
       "      <th rowspan=\"2\" valign=\"top\">generous</th>\n",
       "      <th>0.0</th>\n",
       "      <td>25</td>\n",
       "      <td>25</td>\n",
       "      <td>25</td>\n",
       "      <td>25</td>\n",
       "      <td>25</td>\n",
       "      <td>25</td>\n",
       "      <td>25</td>\n",
       "      <td>25</td>\n",
       "      <td>25</td>\n",
       "      <td>25</td>\n",
       "      <td>...</td>\n",
       "      <td>25</td>\n",
       "      <td>25</td>\n",
       "      <td>25</td>\n",
       "      <td>25</td>\n",
       "      <td>25</td>\n",
       "      <td>25</td>\n",
       "      <td>25</td>\n",
       "      <td>25</td>\n",
       "      <td>25</td>\n",
       "      <td>25</td>\n",
       "    </tr>\n",
       "    <tr>\n",
       "      <th>1.0</th>\n",
       "      <td>25</td>\n",
       "      <td>25</td>\n",
       "      <td>25</td>\n",
       "      <td>25</td>\n",
       "      <td>25</td>\n",
       "      <td>25</td>\n",
       "      <td>25</td>\n",
       "      <td>25</td>\n",
       "      <td>25</td>\n",
       "      <td>25</td>\n",
       "      <td>...</td>\n",
       "      <td>25</td>\n",
       "      <td>25</td>\n",
       "      <td>25</td>\n",
       "      <td>25</td>\n",
       "      <td>25</td>\n",
       "      <td>25</td>\n",
       "      <td>25</td>\n",
       "      <td>25</td>\n",
       "      <td>25</td>\n",
       "      <td>25</td>\n",
       "    </tr>\n",
       "    <tr>\n",
       "      <th rowspan=\"2\" valign=\"top\">unfair</th>\n",
       "      <th>0.0</th>\n",
       "      <td>50</td>\n",
       "      <td>50</td>\n",
       "      <td>50</td>\n",
       "      <td>50</td>\n",
       "      <td>50</td>\n",
       "      <td>50</td>\n",
       "      <td>50</td>\n",
       "      <td>50</td>\n",
       "      <td>50</td>\n",
       "      <td>50</td>\n",
       "      <td>...</td>\n",
       "      <td>50</td>\n",
       "      <td>50</td>\n",
       "      <td>50</td>\n",
       "      <td>50</td>\n",
       "      <td>50</td>\n",
       "      <td>50</td>\n",
       "      <td>50</td>\n",
       "      <td>50</td>\n",
       "      <td>50</td>\n",
       "      <td>50</td>\n",
       "    </tr>\n",
       "    <tr>\n",
       "      <th>1.0</th>\n",
       "      <td>50</td>\n",
       "      <td>50</td>\n",
       "      <td>50</td>\n",
       "      <td>50</td>\n",
       "      <td>50</td>\n",
       "      <td>50</td>\n",
       "      <td>50</td>\n",
       "      <td>50</td>\n",
       "      <td>50</td>\n",
       "      <td>50</td>\n",
       "      <td>...</td>\n",
       "      <td>50</td>\n",
       "      <td>50</td>\n",
       "      <td>50</td>\n",
       "      <td>50</td>\n",
       "      <td>50</td>\n",
       "      <td>50</td>\n",
       "      <td>50</td>\n",
       "      <td>50</td>\n",
       "      <td>50</td>\n",
       "      <td>50</td>\n",
       "    </tr>\n",
       "  </tbody>\n",
       "</table>\n",
       "<p>6 rows × 360 columns</p>\n",
       "</div>"
      ],
      "text/plain": [
       "                 IDround  country  id  ID  block  round  cut  cut2  rundaBlok  \\\n",
       "offerParC agent                                                                 \n",
       "fair      0.0         75       75  75  75     75     75   75    75         75   \n",
       "          1.0         75       75  75  75     75     75   75    75         75   \n",
       "generous  0.0         25       25  25  25     25     25   25    25         25   \n",
       "          1.0         25       25  25  25     25     25   25    25         25   \n",
       "unfair    0.0         50       50  50  50     50     50   50    50         50   \n",
       "          1.0         50       50  50  50     50     50   50    50         50   \n",
       "\n",
       "                 parPro  ...   Zmras  Znft  ZsocPres  Zemb  Zstat  Zdisgust  \\\n",
       "offerParC agent          ...                                                  \n",
       "fair      0.0        75  ...      75    75        75    75     75        75   \n",
       "          1.0        75  ...      75    75        75    75     75        75   \n",
       "generous  0.0        25  ...      25    25        25    25     25        25   \n",
       "          1.0        25  ...      25    25        25    25     25        25   \n",
       "unfair    0.0        50  ...      50    50        50    50     50        50   \n",
       "          1.0        50  ...      50    50        50    50     50        50   \n",
       "\n",
       "                 Zdisgust_s  cult  atgMed  name  \n",
       "offerParC agent                                  \n",
       "fair      0.0            75    75      75    75  \n",
       "          1.0            75    75      75    75  \n",
       "generous  0.0            25    25      25    25  \n",
       "          1.0            25    25      25    25  \n",
       "unfair    0.0            50    50      50    50  \n",
       "          1.0            50    50      50    50  \n",
       "\n",
       "[6 rows x 360 columns]"
      ]
     },
     "execution_count": 45,
     "metadata": {},
     "output_type": "execute_result"
    }
   ],
   "source": [
    "res[res[\"country\"] == \"pl\"].groupby([\"offerParC\", \"agent\"]).count()"
   ]
  },
  {
   "cell_type": "code",
   "execution_count": 46,
   "metadata": {},
   "outputs": [
    {
     "data": {
      "text/plain": [
       "offerParC  agent\n",
       "fair       0.0      81\n",
       "           1.0      81\n",
       "generous   0.0      27\n",
       "           1.0      27\n",
       "unfair     0.0      54\n",
       "           1.0      54\n",
       "Name: accepted, dtype: int64"
      ]
     },
     "execution_count": 46,
     "metadata": {},
     "output_type": "execute_result"
    }
   ],
   "source": [
    "res[res[\"country\"] == \"cat\"].groupby([\"offerParC\", \"agent\"])[\"accepted\"].count()"
   ]
  },
  {
   "cell_type": "code",
   "execution_count": 47,
   "metadata": {},
   "outputs": [
    {
     "data": {
      "text/plain": [
       "agent  country\n",
       "0.0    cat        0.480906\n",
       "       pl         0.477503\n",
       "1.0    cat        0.490380\n",
       "       pl         0.494081\n",
       "Name: accepted, dtype: float64"
      ]
     },
     "execution_count": 47,
     "metadata": {},
     "output_type": "execute_result"
    }
   ],
   "source": [
    "res.groupby([\"agent\", \"country\"])[\"accepted\"].std()"
   ]
  },
  {
   "cell_type": "code",
   "execution_count": 48,
   "metadata": {},
   "outputs": [
    {
     "data": {
      "text/plain": [
       "agent  country\n",
       "0.0    cat        0.358025\n",
       "       pl         0.346667\n",
       "1.0    cat        0.395062\n",
       "       pl         0.413333\n",
       "Name: accepted, dtype: float64"
      ]
     },
     "execution_count": 48,
     "metadata": {},
     "output_type": "execute_result"
    }
   ],
   "source": [
    "res.groupby([\"agent\", \"country\"])[\"accepted\"].mean()"
   ]
  },
  {
   "cell_type": "code",
   "execution_count": 49,
   "metadata": {},
   "outputs": [
    {
     "data": {
      "text/plain": [
       "agent  country\n",
       "0.0    cat        162\n",
       "       pl         150\n",
       "1.0    cat        162\n",
       "       pl         150\n",
       "Name: accepted, dtype: int64"
      ]
     },
     "execution_count": 49,
     "metadata": {},
     "output_type": "execute_result"
    }
   ],
   "source": [
    "res.groupby([\"agent\", \"country\"])[\"accepted\"].count()"
   ]
  },
  {
   "cell_type": "markdown",
   "metadata": {},
   "source": [
    "# H2. \n",
    "### People will more comply to agents representing a high social status than to one representing a low social status."
   ]
  },
  {
   "cell_type": "code",
   "execution_count": 50,
   "metadata": {},
   "outputs": [
    {
     "data": {
      "text/html": [
       "<div>\n",
       "<style scoped>\n",
       "    .dataframe tbody tr th:only-of-type {\n",
       "        vertical-align: middle;\n",
       "    }\n",
       "\n",
       "    .dataframe tbody tr th {\n",
       "        vertical-align: top;\n",
       "    }\n",
       "\n",
       "    .dataframe thead th {\n",
       "        text-align: right;\n",
       "    }\n",
       "</style>\n",
       "<table border=\"1\" class=\"dataframe\">\n",
       "  <thead>\n",
       "    <tr style=\"text-align: right;\">\n",
       "      <th></th>\n",
       "      <th></th>\n",
       "      <th></th>\n",
       "      <th>count</th>\n",
       "      <th>mean</th>\n",
       "      <th>std</th>\n",
       "      <th>min</th>\n",
       "      <th>25%</th>\n",
       "      <th>50%</th>\n",
       "      <th>75%</th>\n",
       "      <th>max</th>\n",
       "    </tr>\n",
       "    <tr>\n",
       "      <th>cult</th>\n",
       "      <th>offerParC</th>\n",
       "      <th>name</th>\n",
       "      <th></th>\n",
       "      <th></th>\n",
       "      <th></th>\n",
       "      <th></th>\n",
       "      <th></th>\n",
       "      <th></th>\n",
       "      <th></th>\n",
       "      <th></th>\n",
       "    </tr>\n",
       "  </thead>\n",
       "  <tbody>\n",
       "    <tr>\n",
       "      <th rowspan=\"6\" valign=\"top\">0</th>\n",
       "      <th rowspan=\"2\" valign=\"top\">fair</th>\n",
       "      <th>high status</th>\n",
       "      <td>81.0</td>\n",
       "      <td>0.444444</td>\n",
       "      <td>0.500000</td>\n",
       "      <td>0.0</td>\n",
       "      <td>0.0</td>\n",
       "      <td>0.0</td>\n",
       "      <td>1.0</td>\n",
       "      <td>1.0</td>\n",
       "    </tr>\n",
       "    <tr>\n",
       "      <th>low status</th>\n",
       "      <td>81.0</td>\n",
       "      <td>0.320988</td>\n",
       "      <td>0.469765</td>\n",
       "      <td>0.0</td>\n",
       "      <td>0.0</td>\n",
       "      <td>0.0</td>\n",
       "      <td>1.0</td>\n",
       "      <td>1.0</td>\n",
       "    </tr>\n",
       "    <tr>\n",
       "      <th rowspan=\"2\" valign=\"top\">generous</th>\n",
       "      <th>high status</th>\n",
       "      <td>27.0</td>\n",
       "      <td>0.888889</td>\n",
       "      <td>0.320256</td>\n",
       "      <td>0.0</td>\n",
       "      <td>1.0</td>\n",
       "      <td>1.0</td>\n",
       "      <td>1.0</td>\n",
       "      <td>1.0</td>\n",
       "    </tr>\n",
       "    <tr>\n",
       "      <th>low status</th>\n",
       "      <td>27.0</td>\n",
       "      <td>1.000000</td>\n",
       "      <td>0.000000</td>\n",
       "      <td>1.0</td>\n",
       "      <td>1.0</td>\n",
       "      <td>1.0</td>\n",
       "      <td>1.0</td>\n",
       "      <td>1.0</td>\n",
       "    </tr>\n",
       "    <tr>\n",
       "      <th rowspan=\"2\" valign=\"top\">unfair</th>\n",
       "      <th>high status</th>\n",
       "      <td>54.0</td>\n",
       "      <td>0.074074</td>\n",
       "      <td>0.264351</td>\n",
       "      <td>0.0</td>\n",
       "      <td>0.0</td>\n",
       "      <td>0.0</td>\n",
       "      <td>0.0</td>\n",
       "      <td>1.0</td>\n",
       "    </tr>\n",
       "    <tr>\n",
       "      <th>low status</th>\n",
       "      <td>54.0</td>\n",
       "      <td>0.092593</td>\n",
       "      <td>0.292582</td>\n",
       "      <td>0.0</td>\n",
       "      <td>0.0</td>\n",
       "      <td>0.0</td>\n",
       "      <td>0.0</td>\n",
       "      <td>1.0</td>\n",
       "    </tr>\n",
       "    <tr>\n",
       "      <th rowspan=\"6\" valign=\"top\">1</th>\n",
       "      <th rowspan=\"2\" valign=\"top\">fair</th>\n",
       "      <th>high status</th>\n",
       "      <td>75.0</td>\n",
       "      <td>0.466667</td>\n",
       "      <td>0.502247</td>\n",
       "      <td>0.0</td>\n",
       "      <td>0.0</td>\n",
       "      <td>0.0</td>\n",
       "      <td>1.0</td>\n",
       "      <td>1.0</td>\n",
       "    </tr>\n",
       "    <tr>\n",
       "      <th>low status</th>\n",
       "      <td>75.0</td>\n",
       "      <td>0.333333</td>\n",
       "      <td>0.474579</td>\n",
       "      <td>0.0</td>\n",
       "      <td>0.0</td>\n",
       "      <td>0.0</td>\n",
       "      <td>1.0</td>\n",
       "      <td>1.0</td>\n",
       "    </tr>\n",
       "    <tr>\n",
       "      <th rowspan=\"2\" valign=\"top\">generous</th>\n",
       "      <th>high status</th>\n",
       "      <td>25.0</td>\n",
       "      <td>0.760000</td>\n",
       "      <td>0.435890</td>\n",
       "      <td>0.0</td>\n",
       "      <td>1.0</td>\n",
       "      <td>1.0</td>\n",
       "      <td>1.0</td>\n",
       "      <td>1.0</td>\n",
       "    </tr>\n",
       "    <tr>\n",
       "      <th>low status</th>\n",
       "      <td>25.0</td>\n",
       "      <td>0.840000</td>\n",
       "      <td>0.374166</td>\n",
       "      <td>0.0</td>\n",
       "      <td>1.0</td>\n",
       "      <td>1.0</td>\n",
       "      <td>1.0</td>\n",
       "      <td>1.0</td>\n",
       "    </tr>\n",
       "    <tr>\n",
       "      <th rowspan=\"2\" valign=\"top\">unfair</th>\n",
       "      <th>high status</th>\n",
       "      <td>50.0</td>\n",
       "      <td>0.160000</td>\n",
       "      <td>0.370328</td>\n",
       "      <td>0.0</td>\n",
       "      <td>0.0</td>\n",
       "      <td>0.0</td>\n",
       "      <td>0.0</td>\n",
       "      <td>1.0</td>\n",
       "    </tr>\n",
       "    <tr>\n",
       "      <th>low status</th>\n",
       "      <td>50.0</td>\n",
       "      <td>0.120000</td>\n",
       "      <td>0.328261</td>\n",
       "      <td>0.0</td>\n",
       "      <td>0.0</td>\n",
       "      <td>0.0</td>\n",
       "      <td>0.0</td>\n",
       "      <td>1.0</td>\n",
       "    </tr>\n",
       "  </tbody>\n",
       "</table>\n",
       "</div>"
      ],
      "text/plain": [
       "                            count      mean       std  min  25%  50%  75%  max\n",
       "cult offerParC name                                                           \n",
       "0    fair      high status   81.0  0.444444  0.500000  0.0  0.0  0.0  1.0  1.0\n",
       "               low status    81.0  0.320988  0.469765  0.0  0.0  0.0  1.0  1.0\n",
       "     generous  high status   27.0  0.888889  0.320256  0.0  1.0  1.0  1.0  1.0\n",
       "               low status    27.0  1.000000  0.000000  1.0  1.0  1.0  1.0  1.0\n",
       "     unfair    high status   54.0  0.074074  0.264351  0.0  0.0  0.0  0.0  1.0\n",
       "               low status    54.0  0.092593  0.292582  0.0  0.0  0.0  0.0  1.0\n",
       "1    fair      high status   75.0  0.466667  0.502247  0.0  0.0  0.0  1.0  1.0\n",
       "               low status    75.0  0.333333  0.474579  0.0  0.0  0.0  1.0  1.0\n",
       "     generous  high status   25.0  0.760000  0.435890  0.0  1.0  1.0  1.0  1.0\n",
       "               low status    25.0  0.840000  0.374166  0.0  1.0  1.0  1.0  1.0\n",
       "     unfair    high status   50.0  0.160000  0.370328  0.0  0.0  0.0  0.0  1.0\n",
       "               low status    50.0  0.120000  0.328261  0.0  0.0  0.0  0.0  1.0"
      ]
     },
     "execution_count": 50,
     "metadata": {},
     "output_type": "execute_result"
    }
   ],
   "source": [
    "res.groupby([\"cult\", \"offerParC\", \"name\"])[\"accepted\"].describe()"
   ]
  },
  {
   "cell_type": "code",
   "execution_count": 51,
   "metadata": {},
   "outputs": [
    {
     "data": {
      "text/plain": [
       "cult  offerParC  name       \n",
       "0     fair       high status     44.444444\n",
       "                 low status      32.098765\n",
       "      generous   high status     88.888889\n",
       "                 low status     100.000000\n",
       "      unfair     high status      7.407407\n",
       "                 low status       9.259259\n",
       "1     fair       high status     46.666667\n",
       "                 low status      33.333333\n",
       "      generous   high status     76.000000\n",
       "                 low status      84.000000\n",
       "      unfair     high status     16.000000\n",
       "                 low status      12.000000\n",
       "Name: accepted, dtype: float64"
      ]
     },
     "execution_count": 51,
     "metadata": {},
     "output_type": "execute_result"
    }
   ],
   "source": [
    "res.groupby([\"cult\", \"offerParC\", \"name\"])[\"accepted\"].mean()*100"
   ]
  },
  {
   "cell_type": "code",
   "execution_count": 52,
   "metadata": {},
   "outputs": [
    {
     "data": {
      "text/plain": [
       "cult  offerParC  name       \n",
       "0     fair       high status    50.000000\n",
       "                 low status     46.976485\n",
       "      generous   high status    32.025631\n",
       "                 low status      0.000000\n",
       "      unfair     high status    26.435053\n",
       "                 low status     29.258242\n",
       "1     fair       high status    50.224720\n",
       "                 low status     47.457900\n",
       "      generous   high status    43.588989\n",
       "                 low status     37.416574\n",
       "      unfair     high status    37.032804\n",
       "                 low status     32.826072\n",
       "Name: accepted, dtype: float64"
      ]
     },
     "execution_count": 52,
     "metadata": {},
     "output_type": "execute_result"
    }
   ],
   "source": [
    "res.groupby([\"cult\", \"offerParC\", \"name\"])[\"accepted\"].std()*100"
   ]
  },
  {
   "cell_type": "markdown",
   "metadata": {},
   "source": [
    "# regressions"
   ]
  },
  {
   "cell_type": "markdown",
   "metadata": {},
   "source": [
    "## logistic regression"
   ]
  },
  {
   "cell_type": "code",
   "execution_count": 53,
   "metadata": {},
   "outputs": [
    {
     "name": "stdout",
     "output_type": "stream",
     "text": [
      "Optimization terminated successfully.\n",
      "         Current function value: 0.642253\n",
      "         Iterations 5\n",
      "                           Logit Regression Results                           \n",
      "==============================================================================\n",
      "Dep. Variable:               accepted   No. Observations:                  324\n",
      "Model:                          Logit   Df Residuals:                      320\n",
      "Method:                           MLE   Df Model:                            3\n",
      "Date:                Fri, 24 Aug 2018   Pseudo R-squ.:                 0.03034\n",
      "Time:                        12:24:57   Log-Likelihood:                -208.09\n",
      "converged:                       True   LL-Null:                       -214.60\n",
      "                                        LLR p-value:                  0.004592\n",
      "===============================================================================\n",
      "                  coef    std err          z      P>|z|      [0.025      0.975]\n",
      "-------------------------------------------------------------------------------\n",
      "Intercept      -1.1151      0.258     -4.328      0.000      -1.620      -0.610\n",
      "agent           0.3659      0.351      1.043      0.297      -0.322       1.053\n",
      "touch           0.9915      0.341      2.912      0.004       0.324       1.659\n",
      "agent:touch    -0.3659      0.471     -0.776      0.438      -1.290       0.558\n",
      "===============================================================================\n"
     ]
    }
   ],
   "source": [
    "inf = logit(\"accepted ~  agent*touch\", cares).fit()\n",
    "#workaround of the error \"AttributeError: module 'scipy.stats' has no attribute 'chisqprob'\"\n",
    "\n",
    "stats.chisqprob = lambda chisq, df: stats.chi2.sf(chisq, df)\n",
    "print(inf.summary())"
   ]
  },
  {
   "cell_type": "code",
   "execution_count": 54,
   "metadata": {},
   "outputs": [],
   "source": [
    "#smf.ols?"
   ]
  },
  {
   "cell_type": "code",
   "execution_count": 55,
   "metadata": {},
   "outputs": [
    {
     "name": "stdout",
     "output_type": "stream",
     "text": [
      "                            OLS Regression Results                            \n",
      "==============================================================================\n",
      "Dep. Variable:               accepted   R-squared:                       0.056\n",
      "Model:                            OLS   Adj. R-squared:                  0.047\n",
      "Method:                 Least Squares   F-statistic:                     5.898\n",
      "Date:                Fri, 24 Aug 2018   Prob (F-statistic):           0.000639\n",
      "Time:                        12:24:57   Log-Likelihood:                -200.13\n",
      "No. Observations:                 300   AIC:                             408.3\n",
      "Df Residuals:                     296   BIC:                             423.1\n",
      "Df Model:                           3                                         \n",
      "Covariance Type:            nonrobust                                         \n",
      "===============================================================================\n",
      "                  coef    std err          t      P>|t|      [0.025      0.975]\n",
      "-------------------------------------------------------------------------------\n",
      "Intercept       0.2000      0.055      3.649      0.000       0.092       0.308\n",
      "touch           0.2933      0.078      3.784      0.000       0.141       0.446\n",
      "agent           0.1600      0.078      2.064      0.040       0.007       0.313\n",
      "touch:agent    -0.1867      0.110     -1.703      0.090      -0.402       0.029\n",
      "==============================================================================\n",
      "Omnibus:                        8.967   Durbin-Watson:                   1.586\n",
      "Prob(Omnibus):                  0.011   Jarque-Bera (JB):               40.625\n",
      "Skew:                           0.430   Prob(JB):                     1.51e-09\n",
      "Kurtosis:                       1.416   Cond. No.                         6.85\n",
      "==============================================================================\n",
      "\n",
      "Warnings:\n",
      "[1] Standard Errors assume that the covariance matrix of the errors is correctly specified.\n"
     ]
    }
   ],
   "source": [
    "formula = ' accepted ~  touch * agent'\n",
    "result = smf.ols(formula, data = plres).fit()\n",
    "print(result.summary())\n",
    "\n",
    "\n",
    "#sk.linear_model.LogisticRegression().fit(X = res.agent.reshape(-1, 1), y = res.accepted.reshape(-1, 1)).get_params()"
   ]
  },
  {
   "cell_type": "code",
   "execution_count": 56,
   "metadata": {},
   "outputs": [
    {
     "name": "stdout",
     "output_type": "stream",
     "text": [
      "                            OLS Regression Results                            \n",
      "==============================================================================\n",
      "Dep. Variable:               accepted   R-squared:                       0.048\n",
      "Model:                            OLS   Adj. R-squared:                  0.037\n",
      "Method:                 Least Squares   F-statistic:                     4.400\n",
      "Date:                Fri, 24 Aug 2018   Prob (F-statistic):           8.80e-05\n",
      "Time:                        12:24:57   Log-Likelihood:                -418.58\n",
      "No. Observations:                 624   AIC:                             853.2\n",
      "Df Residuals:                     616   BIC:                             888.7\n",
      "Df Model:                           7                                         \n",
      "Covariance Type:            nonrobust                                         \n",
      "=============================================================================================\n",
      "                                coef    std err          t      P>|t|      [0.025      0.975]\n",
      "---------------------------------------------------------------------------------------------\n",
      "Intercept                     0.2469      0.053      4.665      0.000       0.143       0.351\n",
      "country[T.pl]                -0.0469      0.076     -0.615      0.539      -0.197       0.103\n",
      "touch                         0.2222      0.075      2.969      0.003       0.075       0.369\n",
      "touch:country[T.pl]           0.0711      0.108      0.659      0.510      -0.141       0.283\n",
      "agent                         0.0741      0.075      0.990      0.323      -0.073       0.221\n",
      "agent:country[T.pl]           0.0859      0.108      0.796      0.426      -0.126       0.298\n",
      "touch:agent                  -0.0741      0.106     -0.700      0.484      -0.282       0.134\n",
      "touch:agent:country[T.pl]    -0.1126      0.153     -0.738      0.461      -0.412       0.187\n",
      "==============================================================================\n",
      "Omnibus:                       19.977   Durbin-Watson:                   1.688\n",
      "Prob(Omnibus):                  0.000   Jarque-Bera (JB):               87.525\n",
      "Skew:                           0.453   Prob(JB):                     9.87e-20\n",
      "Kurtosis:                       1.405   Cond. No.                         17.7\n",
      "==============================================================================\n",
      "\n",
      "Warnings:\n",
      "[1] Standard Errors assume that the covariance matrix of the errors is correctly specified.\n"
     ]
    }
   ],
   "source": [
    "formula = ' accepted ~  touch * agent * country'\n",
    "result = smf.ols(formula, data = res).fit()\n",
    "print(result.summary())"
   ]
  },
  {
   "cell_type": "code",
   "execution_count": 57,
   "metadata": {},
   "outputs": [
    {
     "name": "stdout",
     "output_type": "stream",
     "text": [
      "Optimization terminated successfully.\n",
      "         Current function value: 0.634451\n",
      "         Iterations 5\n",
      "                           Logit Regression Results                           \n",
      "==============================================================================\n",
      "Dep. Variable:               accepted   No. Observations:                  300\n",
      "Model:                          Logit   Df Residuals:                      296\n",
      "Method:                           MLE   Df Model:                            3\n",
      "Date:                Fri, 24 Aug 2018   Pseudo R-squ.:                 0.04459\n",
      "Time:                        12:24:57   Log-Likelihood:                -190.34\n",
      "converged:                       True   LL-Null:                       -199.22\n",
      "                                        LLR p-value:                 0.0004910\n",
      "===============================================================================\n",
      "                  coef    std err          z      P>|z|      [0.025      0.975]\n",
      "-------------------------------------------------------------------------------\n",
      "Intercept      -1.3863      0.289     -4.802      0.000      -1.952      -0.821\n",
      "agent           0.8109      0.376      2.158      0.031       0.074       1.547\n",
      "touch           1.3596      0.370      3.678      0.000       0.635       2.084\n",
      "agent:touch    -0.9178      0.498     -1.843      0.065      -1.894       0.058\n",
      "===============================================================================\n"
     ]
    }
   ],
   "source": [
    "#POLAND\n",
    "\n",
    "inf = logit(\"accepted ~  agent*touch\", plres).fit()\n",
    "#workaround of the error \"AttributeError: module 'scipy.stats' has no attribute 'chisqprob'\"\n",
    "\n",
    "stats.chisqprob = lambda chisq, df: stats.chi2.sf(chisq, df)\n",
    "print(inf.summary())"
   ]
  },
  {
   "cell_type": "code",
   "execution_count": 58,
   "metadata": {},
   "outputs": [
    {
     "name": "stdout",
     "output_type": "stream",
     "text": [
      "Optimization terminated successfully.\n",
      "         Current function value: 0.642253\n",
      "         Iterations 5\n",
      "                           Logit Regression Results                           \n",
      "==============================================================================\n",
      "Dep. Variable:               accepted   No. Observations:                  324\n",
      "Model:                          Logit   Df Residuals:                      320\n",
      "Method:                           MLE   Df Model:                            3\n",
      "Date:                Fri, 24 Aug 2018   Pseudo R-squ.:                 0.03034\n",
      "Time:                        12:24:57   Log-Likelihood:                -208.09\n",
      "converged:                       True   LL-Null:                       -214.60\n",
      "                                        LLR p-value:                  0.004592\n",
      "===============================================================================\n",
      "                  coef    std err          z      P>|z|      [0.025      0.975]\n",
      "-------------------------------------------------------------------------------\n",
      "Intercept      -1.1151      0.258     -4.328      0.000      -1.620      -0.610\n",
      "agent           0.3659      0.351      1.043      0.297      -0.322       1.053\n",
      "touch           0.9915      0.341      2.912      0.004       0.324       1.659\n",
      "agent:touch    -0.3659      0.471     -0.776      0.438      -1.290       0.558\n",
      "===============================================================================\n"
     ]
    }
   ],
   "source": [
    "#CATALONIA\n",
    "\n",
    "inf = logit(\"accepted ~  agent*touch\", cares).fit()\n",
    "#workaround of the error \"AttributeError: module 'scipy.stats' has no attribute 'chisqprob'\"\n",
    "\n",
    "\n",
    "stats.chisqprob = lambda chisq, df: stats.chi2.sf(chisq, df)\n",
    "print(inf.summary())"
   ]
  },
  {
   "cell_type": "markdown",
   "metadata": {},
   "source": [
    "## linear regression"
   ]
  },
  {
   "cell_type": "code",
   "execution_count": 59,
   "metadata": {},
   "outputs": [
    {
     "name": "stdout",
     "output_type": "stream",
     "text": [
      "                            OLS Regression Results                            \n",
      "==============================================================================\n",
      "Dep. Variable:                offerAg   R-squared:                       0.172\n",
      "Model:                            OLS   Adj. R-squared:                  0.159\n",
      "Method:                 Least Squares   F-statistic:                     12.68\n",
      "Date:                Fri, 24 Aug 2018   Prob (F-statistic):           9.90e-06\n",
      "Time:                        12:24:57   Log-Likelihood:                -453.74\n",
      "No. Observations:                 125   AIC:                             913.5\n",
      "Df Residuals:                     122   BIC:                             922.0\n",
      "Df Model:                           2                                         \n",
      "Covariance Type:            nonrobust                                         \n",
      "==============================================================================\n",
      "                 coef    std err          t      P>|t|      [0.025      0.975]\n",
      "------------------------------------------------------------------------------\n",
      "Intercept     42.4284      0.991     42.793      0.000      40.466      44.391\n",
      "Zatg           2.7150      0.823      3.298      0.001       1.085       4.345\n",
      "Zemb           3.0725      0.766      4.011      0.000       1.556       4.589\n",
      "==============================================================================\n",
      "Omnibus:                       29.698   Durbin-Watson:                   1.162\n",
      "Prob(Omnibus):                  0.000   Jarque-Bera (JB):              306.311\n",
      "Skew:                           0.150   Prob(JB):                     3.06e-67\n",
      "Kurtosis:                      10.663   Cond. No.                         1.95\n",
      "==============================================================================\n",
      "\n",
      "Warnings:\n",
      "[1] Standard Errors assume that the covariance matrix of the errors is correctly specified.\n"
     ]
    }
   ],
   "source": [
    "#homophobia and embodiment increase the offers for agents in POLAND\n",
    "\n",
    "formula = ' offerAg ~  Zatg + Zemb'\n",
    "result = smf.ols(formula, data = plpro).fit()\n",
    "print(result.summary())"
   ]
  },
  {
   "cell_type": "code",
   "execution_count": 60,
   "metadata": {
    "scrolled": false
   },
   "outputs": [
    {
     "name": "stdout",
     "output_type": "stream",
     "text": [
      "                            OLS Regression Results                            \n",
      "==============================================================================\n",
      "Dep. Variable:                offerAg   R-squared:                       0.037\n",
      "Model:                            OLS   Adj. R-squared:                  0.022\n",
      "Method:                 Least Squares   F-statistic:                     2.534\n",
      "Date:                Fri, 24 Aug 2018   Prob (F-statistic):             0.0832\n",
      "Time:                        12:24:57   Log-Likelihood:                -483.56\n",
      "No. Observations:                 135   AIC:                             973.1\n",
      "Df Residuals:                     132   BIC:                             981.8\n",
      "Df Model:                           2                                         \n",
      "Covariance Type:            nonrobust                                         \n",
      "==============================================================================\n",
      "                 coef    std err          t      P>|t|      [0.025      0.975]\n",
      "------------------------------------------------------------------------------\n",
      "Intercept     44.5198      1.166     38.185      0.000      42.214      46.826\n",
      "Zatg          -0.2552      1.514     -0.169      0.866      -3.251       2.740\n",
      "Zemb           1.9583      0.896      2.186      0.031       0.186       3.731\n",
      "==============================================================================\n",
      "Omnibus:                       41.037   Durbin-Watson:                   1.154\n",
      "Prob(Omnibus):                  0.000   Jarque-Bera (JB):              344.438\n",
      "Skew:                          -0.703   Prob(JB):                     1.61e-75\n",
      "Kurtosis:                      10.698   Cond. No.                         2.95\n",
      "==============================================================================\n",
      "\n",
      "Warnings:\n",
      "[1] Standard Errors assume that the covariance matrix of the errors is correctly specified.\n"
     ]
    }
   ],
   "source": [
    "#but only embodiment in CATALONIA\n",
    "\n",
    "formula = ' offerAg ~  Zatg + Zemb'\n",
    "result = smf.ols(formula, data = capro).fit()\n",
    "print(result.summary())"
   ]
  },
  {
   "cell_type": "code",
   "execution_count": 61,
   "metadata": {},
   "outputs": [
    {
     "name": "stdout",
     "output_type": "stream",
     "text": [
      "                            OLS Regression Results                            \n",
      "==============================================================================\n",
      "Dep. Variable:                offerAg   R-squared:                       0.114\n",
      "Model:                            OLS   Adj. R-squared:                  0.101\n",
      "Method:                 Least Squares   F-statistic:                     8.239\n",
      "Date:                Fri, 24 Aug 2018   Prob (F-statistic):           2.90e-06\n",
      "Time:                        12:24:58   Log-Likelihood:                -937.91\n",
      "No. Observations:                 260   AIC:                             1886.\n",
      "Df Residuals:                     255   BIC:                             1904.\n",
      "Df Model:                           4                                         \n",
      "Covariance Type:            nonrobust                                         \n",
      "======================================================================================\n",
      "                         coef    std err          t      P>|t|      [0.025      0.975]\n",
      "--------------------------------------------------------------------------------------\n",
      "Intercept             44.4785      1.193     37.275      0.000      42.129      46.828\n",
      "country[T.pl]         -2.1400      1.536     -1.394      0.165      -5.164       0.884\n",
      "Zemb                   2.6283      0.579      4.536      0.000       1.487       3.769\n",
      "Zatg                  -0.0667      1.538     -0.043      0.965      -3.095       2.962\n",
      "country[T.pl]:Zatg     2.7510      1.731      1.589      0.113      -0.658       6.160\n",
      "==============================================================================\n",
      "Omnibus:                       51.877   Durbin-Watson:                   1.163\n",
      "Prob(Omnibus):                  0.000   Jarque-Bera (JB):              618.770\n",
      "Skew:                          -0.268   Prob(JB):                    4.32e-135\n",
      "Kurtosis:                      10.539   Cond. No.                         6.50\n",
      "==============================================================================\n",
      "\n",
      "Warnings:\n",
      "[1] Standard Errors assume that the covariance matrix of the errors is correctly specified.\n"
     ]
    }
   ],
   "source": [
    "#how can I show it? \n",
    "# - separate regressions?\n",
    "\n",
    "formula = ' offerAg ~ Zemb +  country*Zatg'\n",
    "result = smf.ols(formula, data = pro).fit()\n",
    "print(result.summary())"
   ]
  },
  {
   "cell_type": "markdown",
   "metadata": {},
   "source": [
    "# other interesting results"
   ]
  },
  {
   "cell_type": "code",
   "execution_count": 62,
   "metadata": {},
   "outputs": [
    {
     "data": {
      "text/html": [
       "<table class=\"simpletable\">\n",
       "<caption>OLS Regression Results</caption>\n",
       "<tr>\n",
       "  <th>Dep. Variable:</th>         <td>offerAg</td>     <th>  R-squared:         </th> <td>   0.075</td>\n",
       "</tr>\n",
       "<tr>\n",
       "  <th>Model:</th>                   <td>OLS</td>       <th>  Adj. R-squared:    </th> <td>   0.071</td>\n",
       "</tr>\n",
       "<tr>\n",
       "  <th>Method:</th>             <td>Least Squares</td>  <th>  F-statistic:       </th> <td>   20.88</td>\n",
       "</tr>\n",
       "<tr>\n",
       "  <th>Date:</th>             <td>Fri, 24 Aug 2018</td> <th>  Prob (F-statistic):</th> <td>7.58e-06</td>\n",
       "</tr>\n",
       "<tr>\n",
       "  <th>Time:</th>                 <td>12:24:58</td>     <th>  Log-Likelihood:    </th> <td> -943.59</td>\n",
       "</tr>\n",
       "<tr>\n",
       "  <th>No. Observations:</th>      <td>   260</td>      <th>  AIC:               </th> <td>   1891.</td>\n",
       "</tr>\n",
       "<tr>\n",
       "  <th>Df Residuals:</th>          <td>   258</td>      <th>  BIC:               </th> <td>   1898.</td>\n",
       "</tr>\n",
       "<tr>\n",
       "  <th>Df Model:</th>              <td>     1</td>      <th>                     </th>     <td> </td>   \n",
       "</tr>\n",
       "<tr>\n",
       "  <th>Covariance Type:</th>      <td>nonrobust</td>    <th>                     </th>     <td> </td>   \n",
       "</tr>\n",
       "</table>\n",
       "<table class=\"simpletable\">\n",
       "<tr>\n",
       "      <td></td>         <th>coef</th>     <th>std err</th>      <th>t</th>      <th>P>|t|</th>  <th>[0.025</th>    <th>0.975]</th>  \n",
       "</tr>\n",
       "<tr>\n",
       "  <th>Intercept</th> <td>   41.7158</td> <td>    0.801</td> <td>   52.099</td> <td> 0.000</td> <td>   40.139</td> <td>   43.293</td>\n",
       "</tr>\n",
       "<tr>\n",
       "  <th>emb</th>       <td>    2.4249</td> <td>    0.531</td> <td>    4.570</td> <td> 0.000</td> <td>    1.380</td> <td>    3.470</td>\n",
       "</tr>\n",
       "</table>\n",
       "<table class=\"simpletable\">\n",
       "<tr>\n",
       "  <th>Omnibus:</th>       <td>56.501</td> <th>  Durbin-Watson:     </th> <td>   1.124</td> \n",
       "</tr>\n",
       "<tr>\n",
       "  <th>Prob(Omnibus):</th> <td> 0.000</td> <th>  Jarque-Bera (JB):  </th> <td> 647.272</td> \n",
       "</tr>\n",
       "<tr>\n",
       "  <th>Skew:</th>          <td>-0.411</td> <th>  Prob(JB):          </th> <td>2.80e-141</td>\n",
       "</tr>\n",
       "<tr>\n",
       "  <th>Kurtosis:</th>      <td>10.686</td> <th>  Cond. No.          </th> <td>    2.69</td> \n",
       "</tr>\n",
       "</table><br/><br/>Warnings:<br/>[1] Standard Errors assume that the covariance matrix of the errors is correctly specified."
      ],
      "text/plain": [
       "<class 'statsmodels.iolib.summary.Summary'>\n",
       "\"\"\"\n",
       "                            OLS Regression Results                            \n",
       "==============================================================================\n",
       "Dep. Variable:                offerAg   R-squared:                       0.075\n",
       "Model:                            OLS   Adj. R-squared:                  0.071\n",
       "Method:                 Least Squares   F-statistic:                     20.88\n",
       "Date:                Fri, 24 Aug 2018   Prob (F-statistic):           7.58e-06\n",
       "Time:                        12:24:58   Log-Likelihood:                -943.59\n",
       "No. Observations:                 260   AIC:                             1891.\n",
       "Df Residuals:                     258   BIC:                             1898.\n",
       "Df Model:                           1                                         \n",
       "Covariance Type:            nonrobust                                         \n",
       "==============================================================================\n",
       "                 coef    std err          t      P>|t|      [0.025      0.975]\n",
       "------------------------------------------------------------------------------\n",
       "Intercept     41.7158      0.801     52.099      0.000      40.139      43.293\n",
       "emb            2.4249      0.531      4.570      0.000       1.380       3.470\n",
       "==============================================================================\n",
       "Omnibus:                       56.501   Durbin-Watson:                   1.124\n",
       "Prob(Omnibus):                  0.000   Jarque-Bera (JB):              647.272\n",
       "Skew:                          -0.411   Prob(JB):                    2.80e-141\n",
       "Kurtosis:                      10.686   Cond. No.                         2.69\n",
       "==============================================================================\n",
       "\n",
       "Warnings:\n",
       "[1] Standard Errors assume that the covariance matrix of the errors is correctly specified.\n",
       "\"\"\""
      ]
     },
     "execution_count": 62,
     "metadata": {},
     "output_type": "execute_result"
    }
   ],
   "source": [
    "formula = ' offerAg ~ emb'\n",
    "result = smf.ols(formula, data = pro).fit()\n",
    "result.summary()"
   ]
  },
  {
   "cell_type": "code",
   "execution_count": 63,
   "metadata": {},
   "outputs": [
    {
     "name": "stdout",
     "output_type": "stream",
     "text": [
      "Optimization terminated successfully.\n",
      "         Current function value: 0.482504\n",
      "         Iterations 6\n",
      "                           Logit Regression Results                           \n",
      "==============================================================================\n",
      "Dep. Variable:                 atgMed   No. Observations:                  260\n",
      "Model:                          Logit   Df Residuals:                      258\n",
      "Method:                           MLE   Df Model:                            1\n",
      "Date:                Fri, 24 Aug 2018   Pseudo R-squ.:                  0.2758\n",
      "Time:                        12:24:58   Log-Likelihood:                -125.45\n",
      "converged:                       True   LL-Null:                       -173.23\n",
      "                                        LLR p-value:                 1.433e-22\n",
      "==============================================================================\n",
      "                 coef    std err          z      P>|z|      [0.025      0.975]\n",
      "------------------------------------------------------------------------------\n",
      "Intercept     -2.0794      0.274     -7.593      0.000      -2.616      -1.543\n",
      "cult           2.8332      0.334      8.475      0.000       2.178       3.488\n",
      "==============================================================================\n"
     ]
    }
   ],
   "source": [
    "res[\"atgMed\"]\n",
    "\n",
    "inf = logit(\"atgMed ~  cult\", pro).fit()\n",
    "#workaround of the error \"AttributeError: module 'scipy.stats' has no attribute 'chisqprob'\"\n",
    "\n",
    "stats.chisqprob = lambda chisq, df: stats.chi2.sf(chisq, df)\n",
    "print(inf.summary())"
   ]
  },
  {
   "cell_type": "code",
   "execution_count": 77,
   "metadata": {},
   "outputs": [],
   "source": [
    "# RAINBOW PLOT"
   ]
  },
  {
   "cell_type": "code",
   "execution_count": 81,
   "metadata": {},
   "outputs": [
    {
     "data": {
      "text/plain": [
       "IDround        True\n",
       "country        True\n",
       "id            False\n",
       "ID             True\n",
       "block         False\n",
       "round          True\n",
       "cut            True\n",
       "cut2           True\n",
       "rundaBlok     False\n",
       "parPro         True\n",
       "prevParPro    False\n",
       "touch         False\n",
       "prevTouch     False\n",
       "offerAg       False\n",
       "offerPar       True\n",
       "accepted      False\n",
       "agent         False\n",
       "prevAgent     False\n",
       "atg            True\n",
       "hdf            True\n",
       "mras           True\n",
       "nft           False\n",
       "socPres        True\n",
       "emb           False\n",
       "stat          False\n",
       "disgust        True\n",
       "disgust_s     False\n",
       "c_m1e1         True\n",
       "c_m1e2         True\n",
       "c_m1e3         True\n",
       "              ...  \n",
       "z_m4e7         True\n",
       "z_m4e8         True\n",
       "z_m4e9         True\n",
       "z_m4e10        True\n",
       "z_m4e11        True\n",
       "z_m4e12        True\n",
       "z_m4e13        True\n",
       "z_m4e14        True\n",
       "z_m4e15        True\n",
       "z_m4e16        True\n",
       "z_m4e17        True\n",
       "z_m4e18        True\n",
       "z_m4e19        True\n",
       "z_m4e20        True\n",
       "filter_$      False\n",
       "countryN      False\n",
       "Zatg           True\n",
       "Zhdf           True\n",
       "Zmras          True\n",
       "Znft           True\n",
       "ZsocPres       True\n",
       "Zemb           True\n",
       "Zstat          True\n",
       "Zdisgust       True\n",
       "Zdisgust_s     True\n",
       "cult          False\n",
       "offerParC      True\n",
       "atgMed        False\n",
       "name           True\n",
       "offerAgC       True\n",
       "Length: 363, dtype: bool"
      ]
     },
     "execution_count": 81,
     "metadata": {},
     "output_type": "execute_result"
    }
   ],
   "source": [
    "pro.all()"
   ]
  },
  {
   "cell_type": "code",
   "execution_count": 95,
   "metadata": {},
   "outputs": [
    {
     "ename": "IndexError",
     "evalue": "too many indices for array",
     "output_type": "error",
     "traceback": [
      "\u001b[1;31m---------------------------------------------------------------------------\u001b[0m",
      "\u001b[1;31mIndexError\u001b[0m                                Traceback (most recent call last)",
      "\u001b[1;32m<ipython-input-95-6a8339b39f2a>\u001b[0m in \u001b[0;36m<module>\u001b[1;34m()\u001b[0m\n\u001b[0;32m      1\u001b[0m \u001b[0mfig\u001b[0m \u001b[1;33m=\u001b[0m \u001b[0mplt\u001b[0m\u001b[1;33m.\u001b[0m\u001b[0mfigure\u001b[0m\u001b[1;33m(\u001b[0m\u001b[1;33m)\u001b[0m\u001b[1;33m\u001b[0m\u001b[0m\n\u001b[0;32m      2\u001b[0m \u001b[0max\u001b[0m \u001b[1;33m=\u001b[0m \u001b[0mfig\u001b[0m\u001b[1;33m.\u001b[0m\u001b[0madd_subplot\u001b[0m\u001b[1;33m(\u001b[0m\u001b[1;36m111\u001b[0m\u001b[1;33m)\u001b[0m\u001b[1;33m\u001b[0m\u001b[0m\n\u001b[1;32m----> 3\u001b[1;33m \u001b[0mrain\u001b[0m \u001b[1;33m=\u001b[0m \u001b[0msm\u001b[0m\u001b[1;33m.\u001b[0m\u001b[0mgraphics\u001b[0m\u001b[1;33m.\u001b[0m\u001b[0mrainbowplot\u001b[0m\u001b[1;33m(\u001b[0m\u001b[0mdata\u001b[0m \u001b[1;33m=\u001b[0m \u001b[0mpro\u001b[0m\u001b[1;33m.\u001b[0m\u001b[0mofferAgC\u001b[0m\u001b[1;33m,\u001b[0m \u001b[0mxdata\u001b[0m \u001b[1;33m=\u001b[0m \u001b[0mpro\u001b[0m\u001b[1;33m.\u001b[0m\u001b[0mcult\u001b[0m\u001b[1;33m,\u001b[0m \u001b[0max\u001b[0m \u001b[1;33m=\u001b[0m \u001b[0max\u001b[0m\u001b[1;33m)\u001b[0m\u001b[1;33m\u001b[0m\u001b[0m\n\u001b[0m",
      "\u001b[1;32m~\\Anaconda3\\lib\\site-packages\\statsmodels\\graphics\\functional.py\u001b[0m in \u001b[0;36mrainbowplot\u001b[1;34m(data, xdata, depth, method, ax, cmap)\u001b[0m\n\u001b[0;32m    746\u001b[0m             \u001b[1;32mraise\u001b[0m \u001b[0mValueError\u001b[0m\u001b[1;33m(\u001b[0m\u001b[1;34m\"Unknown value for parameter `method`.\"\u001b[0m\u001b[1;33m)\u001b[0m\u001b[1;33m\u001b[0m\u001b[0m\n\u001b[0;32m    747\u001b[0m \u001b[1;33m\u001b[0m\u001b[0m\n\u001b[1;32m--> 748\u001b[1;33m         \u001b[0mdepth\u001b[0m \u001b[1;33m=\u001b[0m \u001b[0mbanddepth\u001b[0m\u001b[1;33m(\u001b[0m\u001b[0mdata\u001b[0m\u001b[1;33m,\u001b[0m \u001b[0mmethod\u001b[0m\u001b[1;33m=\u001b[0m\u001b[0mmethod\u001b[0m\u001b[1;33m)\u001b[0m\u001b[1;33m\u001b[0m\u001b[0m\n\u001b[0m\u001b[0;32m    749\u001b[0m     \u001b[1;32melse\u001b[0m\u001b[1;33m:\u001b[0m\u001b[1;33m\u001b[0m\u001b[0m\n\u001b[0;32m    750\u001b[0m         \u001b[1;32mif\u001b[0m \u001b[0mdepth\u001b[0m\u001b[1;33m.\u001b[0m\u001b[0msize\u001b[0m \u001b[1;33m!=\u001b[0m \u001b[0mdata\u001b[0m\u001b[1;33m.\u001b[0m\u001b[0mshape\u001b[0m\u001b[1;33m[\u001b[0m\u001b[1;36m0\u001b[0m\u001b[1;33m]\u001b[0m\u001b[1;33m:\u001b[0m\u001b[1;33m\u001b[0m\u001b[0m\n",
      "\u001b[1;32m~\\Anaconda3\\lib\\site-packages\\statsmodels\\graphics\\functional.py\u001b[0m in \u001b[0;36mbanddepth\u001b[1;34m(data, method)\u001b[0m\n\u001b[0;32m    841\u001b[0m         \u001b[0mres\u001b[0m \u001b[1;33m=\u001b[0m \u001b[1;36m0\u001b[0m\u001b[1;33m\u001b[0m\u001b[0m\n\u001b[0;32m    842\u001b[0m         \u001b[1;32mfor\u001b[0m \u001b[0mix1\u001b[0m\u001b[1;33m,\u001b[0m \u001b[0mix2\u001b[0m \u001b[1;32min\u001b[0m \u001b[0mcombinations\u001b[0m\u001b[1;33m(\u001b[0m\u001b[0mix\u001b[0m\u001b[1;33m,\u001b[0m \u001b[1;36m2\u001b[0m\u001b[1;33m)\u001b[0m\u001b[1;33m:\u001b[0m\u001b[1;33m\u001b[0m\u001b[0m\n\u001b[1;32m--> 843\u001b[1;33m             \u001b[0mres\u001b[0m \u001b[1;33m+=\u001b[0m \u001b[0mband\u001b[0m\u001b[1;33m(\u001b[0m\u001b[0mdata\u001b[0m\u001b[1;33m[\u001b[0m\u001b[0mix1\u001b[0m\u001b[1;33m,\u001b[0m \u001b[1;33m:\u001b[0m\u001b[1;33m]\u001b[0m\u001b[1;33m,\u001b[0m \u001b[0mdata\u001b[0m\u001b[1;33m[\u001b[0m\u001b[0mix2\u001b[0m\u001b[1;33m,\u001b[0m \u001b[1;33m:\u001b[0m\u001b[1;33m]\u001b[0m\u001b[1;33m,\u001b[0m \u001b[0mdata\u001b[0m\u001b[1;33m[\u001b[0m\u001b[0mii\u001b[0m\u001b[1;33m,\u001b[0m \u001b[1;33m:\u001b[0m\u001b[1;33m]\u001b[0m\u001b[1;33m)\u001b[0m\u001b[1;33m\u001b[0m\u001b[0m\n\u001b[0m\u001b[0;32m    844\u001b[0m \u001b[1;33m\u001b[0m\u001b[0m\n\u001b[0;32m    845\u001b[0m         \u001b[1;31m# Normalize by number of combinations to get band depth\u001b[0m\u001b[1;33m\u001b[0m\u001b[1;33m\u001b[0m\u001b[0m\n",
      "\u001b[1;31mIndexError\u001b[0m: too many indices for array"
     ]
    },
    {
     "data": {
      "image/png": "[encoded data removed]",
      "text/plain": [
       "<Figure size 460.8x316.8 with 1 Axes>"
      ]
     },
     "metadata": {},
     "output_type": "display_data"
    }
   ],
   "source": [
    "fig = plt.figure()\n",
    "ax = fig.add_subplot(111)\n",
    "rain = sm.graphics.rainbowplot(data = pro.offerAgC, xdata = pro.cult, ax = ax)"
   ]
  },
  {
   "cell_type": "code",
   "execution_count": null,
   "metadata": {},
   "outputs": [],
   "source": []
  }
 ],
 "metadata": {
  "kernelspec": {
   "display_name": "Python 3",
   "language": "python",
   "name": "python3"
  },
  "language_info": {
   "codemirror_mode": {
    "name": "ipython",
    "version": 3
   },
   "file_extension": ".py",
   "mimetype": "text/x-python",
   "name": "python",
   "nbconvert_exporter": "python",
   "pygments_lexer": "ipython3",
   "version": "3.6.5"
  }
 },
 "nbformat": 4,
 "nbformat_minor": 2
}
