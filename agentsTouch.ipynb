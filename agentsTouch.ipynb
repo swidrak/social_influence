{
 "cells": [
  {
   "cell_type": "code",
   "execution_count": 2,
   "metadata": {},
   "outputs": [],
   "source": [
    "import pandas as pd\n",
    "import numpy as np\n",
    "import seaborn as sns\n",
    "import codecs\n",
    "import statsmodels\n",
    "import matplotlib.pyplot as plt\n",
    "import statsmodels.api as sm\n",
    "import statsmodels.formula.api as smf\n",
    "import scipy as sc\n",
    "import matplotlib as mt"
   ]
  },
  {
   "cell_type": "code",
   "execution_count": 120,
   "metadata": {},
   "outputs": [],
   "source": [
    "agent = pd.read_excel(\"C:\\\\Users\\\\Justyna\\\\Python Scripts\\\\ultimatum2\\\\data\\\\agentsTouch.xlsx\")"
   ]
  },
  {
   "cell_type": "code",
   "execution_count": 59,
   "metadata": {
    "scrolled": true
   },
   "outputs": [],
   "source": [
    "#agent.head()"
   ]
  },
  {
   "cell_type": "code",
   "execution_count": 60,
   "metadata": {
    "scrolled": true
   },
   "outputs": [
    {
     "data": {
      "text/html": [
       "<div>\n",
       "<style scoped>\n",
       "    .dataframe tbody tr th:only-of-type {\n",
       "        vertical-align: middle;\n",
       "    }\n",
       "\n",
       "    .dataframe tbody tr th {\n",
       "        vertical-align: top;\n",
       "    }\n",
       "\n",
       "    .dataframe thead th {\n",
       "        text-align: right;\n",
       "    }\n",
       "</style>\n",
       "<table border=\"1\" class=\"dataframe\">\n",
       "  <thead>\n",
       "    <tr style=\"text-align: right;\">\n",
       "      <th></th>\n",
       "      <th>ID</th>\n",
       "      <th>atrakcyjnosc_Alejandro</th>\n",
       "      <th>status_Alejandro</th>\n",
       "      <th>homo_Alejandro</th>\n",
       "      <th>afekt_Alejandro</th>\n",
       "      <th>intensywnosc_Alejandro</th>\n",
       "      <th>approachavoid_Alejandro</th>\n",
       "      <th>atrakcyjnosc_Hector</th>\n",
       "      <th>status_Hector</th>\n",
       "      <th>homo_Hector</th>\n",
       "      <th>...</th>\n",
       "      <th>t_nice_LS</th>\n",
       "      <th>t_natural_HS</th>\n",
       "      <th>t_surprising_HS</th>\n",
       "      <th>t_pleasant_HS</th>\n",
       "      <th>t_weak_HS</th>\n",
       "      <th>t_adequate_HS</th>\n",
       "      <th>t_wellsync_HS</th>\n",
       "      <th>t_strange_HS</th>\n",
       "      <th>t_frightening_HS</th>\n",
       "      <th>t_nice_HS</th>\n",
       "    </tr>\n",
       "  </thead>\n",
       "  <tbody>\n",
       "    <tr>\n",
       "      <th>count</th>\n",
       "      <td>52.000000</td>\n",
       "      <td>52.000000</td>\n",
       "      <td>52.000000</td>\n",
       "      <td>52.000000</td>\n",
       "      <td>52.000000</td>\n",
       "      <td>52.000000</td>\n",
       "      <td>52.000000</td>\n",
       "      <td>52.000000</td>\n",
       "      <td>52.000000</td>\n",
       "      <td>52.000000</td>\n",
       "      <td>...</td>\n",
       "      <td>52.000000</td>\n",
       "      <td>52.000000</td>\n",
       "      <td>52.000000</td>\n",
       "      <td>52.000000</td>\n",
       "      <td>52.000000</td>\n",
       "      <td>52.000000</td>\n",
       "      <td>52.000000</td>\n",
       "      <td>52.000000</td>\n",
       "      <td>52.000000</td>\n",
       "      <td>52.000000</td>\n",
       "    </tr>\n",
       "    <tr>\n",
       "      <th>mean</th>\n",
       "      <td>16.442308</td>\n",
       "      <td>49.500000</td>\n",
       "      <td>68.596154</td>\n",
       "      <td>65.519231</td>\n",
       "      <td>53.365385</td>\n",
       "      <td>24.192308</td>\n",
       "      <td>51.557692</td>\n",
       "      <td>24.211538</td>\n",
       "      <td>30.538462</td>\n",
       "      <td>60.057692</td>\n",
       "      <td>...</td>\n",
       "      <td>2.384615</td>\n",
       "      <td>2.884615</td>\n",
       "      <td>2.711538</td>\n",
       "      <td>2.480769</td>\n",
       "      <td>2.500000</td>\n",
       "      <td>3.153846</td>\n",
       "      <td>3.596154</td>\n",
       "      <td>2.788462</td>\n",
       "      <td>1.807692</td>\n",
       "      <td>2.442308</td>\n",
       "    </tr>\n",
       "    <tr>\n",
       "      <th>std</th>\n",
       "      <td>8.637387</td>\n",
       "      <td>18.578398</td>\n",
       "      <td>11.920093</td>\n",
       "      <td>19.695217</td>\n",
       "      <td>17.586792</td>\n",
       "      <td>28.455702</td>\n",
       "      <td>16.599567</td>\n",
       "      <td>18.838151</td>\n",
       "      <td>14.435063</td>\n",
       "      <td>23.715151</td>\n",
       "      <td>...</td>\n",
       "      <td>1.174130</td>\n",
       "      <td>1.022374</td>\n",
       "      <td>1.160401</td>\n",
       "      <td>1.093481</td>\n",
       "      <td>1.093654</td>\n",
       "      <td>1.055046</td>\n",
       "      <td>1.107189</td>\n",
       "      <td>1.090719</td>\n",
       "      <td>0.886466</td>\n",
       "      <td>1.144697</td>\n",
       "    </tr>\n",
       "    <tr>\n",
       "      <th>min</th>\n",
       "      <td>0.000000</td>\n",
       "      <td>0.000000</td>\n",
       "      <td>38.000000</td>\n",
       "      <td>4.000000</td>\n",
       "      <td>20.000000</td>\n",
       "      <td>0.000000</td>\n",
       "      <td>7.000000</td>\n",
       "      <td>0.000000</td>\n",
       "      <td>0.000000</td>\n",
       "      <td>0.000000</td>\n",
       "      <td>...</td>\n",
       "      <td>1.000000</td>\n",
       "      <td>1.000000</td>\n",
       "      <td>1.000000</td>\n",
       "      <td>1.000000</td>\n",
       "      <td>1.000000</td>\n",
       "      <td>1.000000</td>\n",
       "      <td>1.000000</td>\n",
       "      <td>1.000000</td>\n",
       "      <td>1.000000</td>\n",
       "      <td>1.000000</td>\n",
       "    </tr>\n",
       "    <tr>\n",
       "      <th>25%</th>\n",
       "      <td>9.750000</td>\n",
       "      <td>38.750000</td>\n",
       "      <td>62.000000</td>\n",
       "      <td>52.500000</td>\n",
       "      <td>43.750000</td>\n",
       "      <td>0.000000</td>\n",
       "      <td>47.000000</td>\n",
       "      <td>8.750000</td>\n",
       "      <td>23.000000</td>\n",
       "      <td>41.750000</td>\n",
       "      <td>...</td>\n",
       "      <td>1.000000</td>\n",
       "      <td>2.000000</td>\n",
       "      <td>2.000000</td>\n",
       "      <td>2.000000</td>\n",
       "      <td>2.000000</td>\n",
       "      <td>2.000000</td>\n",
       "      <td>3.000000</td>\n",
       "      <td>2.000000</td>\n",
       "      <td>1.000000</td>\n",
       "      <td>1.000000</td>\n",
       "    </tr>\n",
       "    <tr>\n",
       "      <th>50%</th>\n",
       "      <td>17.000000</td>\n",
       "      <td>51.000000</td>\n",
       "      <td>69.500000</td>\n",
       "      <td>68.500000</td>\n",
       "      <td>51.500000</td>\n",
       "      <td>12.000000</td>\n",
       "      <td>50.000000</td>\n",
       "      <td>23.500000</td>\n",
       "      <td>28.000000</td>\n",
       "      <td>60.000000</td>\n",
       "      <td>...</td>\n",
       "      <td>2.000000</td>\n",
       "      <td>3.000000</td>\n",
       "      <td>3.000000</td>\n",
       "      <td>3.000000</td>\n",
       "      <td>3.000000</td>\n",
       "      <td>3.000000</td>\n",
       "      <td>4.000000</td>\n",
       "      <td>3.000000</td>\n",
       "      <td>2.000000</td>\n",
       "      <td>2.500000</td>\n",
       "    </tr>\n",
       "    <tr>\n",
       "      <th>75%</th>\n",
       "      <td>23.250000</td>\n",
       "      <td>60.250000</td>\n",
       "      <td>76.000000</td>\n",
       "      <td>82.250000</td>\n",
       "      <td>63.250000</td>\n",
       "      <td>46.500000</td>\n",
       "      <td>58.000000</td>\n",
       "      <td>35.250000</td>\n",
       "      <td>42.250000</td>\n",
       "      <td>78.500000</td>\n",
       "      <td>...</td>\n",
       "      <td>3.000000</td>\n",
       "      <td>3.000000</td>\n",
       "      <td>4.000000</td>\n",
       "      <td>3.000000</td>\n",
       "      <td>3.000000</td>\n",
       "      <td>4.000000</td>\n",
       "      <td>4.000000</td>\n",
       "      <td>4.000000</td>\n",
       "      <td>2.000000</td>\n",
       "      <td>3.000000</td>\n",
       "    </tr>\n",
       "    <tr>\n",
       "      <th>max</th>\n",
       "      <td>32.000000</td>\n",
       "      <td>100.000000</td>\n",
       "      <td>95.000000</td>\n",
       "      <td>100.000000</td>\n",
       "      <td>100.000000</td>\n",
       "      <td>100.000000</td>\n",
       "      <td>100.000000</td>\n",
       "      <td>66.000000</td>\n",
       "      <td>60.000000</td>\n",
       "      <td>100.000000</td>\n",
       "      <td>...</td>\n",
       "      <td>5.000000</td>\n",
       "      <td>5.000000</td>\n",
       "      <td>5.000000</td>\n",
       "      <td>5.000000</td>\n",
       "      <td>5.000000</td>\n",
       "      <td>5.000000</td>\n",
       "      <td>5.000000</td>\n",
       "      <td>5.000000</td>\n",
       "      <td>4.000000</td>\n",
       "      <td>5.000000</td>\n",
       "    </tr>\n",
       "  </tbody>\n",
       "</table>\n",
       "<p>8 rows × 31 columns</p>\n",
       "</div>"
      ],
      "text/plain": [
       "              ID  atrakcyjnosc_Alejandro  status_Alejandro  homo_Alejandro  \\\n",
       "count  52.000000               52.000000         52.000000       52.000000   \n",
       "mean   16.442308               49.500000         68.596154       65.519231   \n",
       "std     8.637387               18.578398         11.920093       19.695217   \n",
       "min     0.000000                0.000000         38.000000        4.000000   \n",
       "25%     9.750000               38.750000         62.000000       52.500000   \n",
       "50%    17.000000               51.000000         69.500000       68.500000   \n",
       "75%    23.250000               60.250000         76.000000       82.250000   \n",
       "max    32.000000              100.000000         95.000000      100.000000   \n",
       "\n",
       "       afekt_Alejandro  intensywnosc_Alejandro  approachavoid_Alejandro  \\\n",
       "count        52.000000               52.000000                52.000000   \n",
       "mean         53.365385               24.192308                51.557692   \n",
       "std          17.586792               28.455702                16.599567   \n",
       "min          20.000000                0.000000                 7.000000   \n",
       "25%          43.750000                0.000000                47.000000   \n",
       "50%          51.500000               12.000000                50.000000   \n",
       "75%          63.250000               46.500000                58.000000   \n",
       "max         100.000000              100.000000               100.000000   \n",
       "\n",
       "       atrakcyjnosc_Hector  status_Hector  homo_Hector    ...      t_nice_LS  \\\n",
       "count            52.000000      52.000000    52.000000    ...      52.000000   \n",
       "mean             24.211538      30.538462    60.057692    ...       2.384615   \n",
       "std              18.838151      14.435063    23.715151    ...       1.174130   \n",
       "min               0.000000       0.000000     0.000000    ...       1.000000   \n",
       "25%               8.750000      23.000000    41.750000    ...       1.000000   \n",
       "50%              23.500000      28.000000    60.000000    ...       2.000000   \n",
       "75%              35.250000      42.250000    78.500000    ...       3.000000   \n",
       "max              66.000000      60.000000   100.000000    ...       5.000000   \n",
       "\n",
       "       t_natural_HS  t_surprising_HS  t_pleasant_HS  t_weak_HS  t_adequate_HS  \\\n",
       "count     52.000000        52.000000      52.000000  52.000000      52.000000   \n",
       "mean       2.884615         2.711538       2.480769   2.500000       3.153846   \n",
       "std        1.022374         1.160401       1.093481   1.093654       1.055046   \n",
       "min        1.000000         1.000000       1.000000   1.000000       1.000000   \n",
       "25%        2.000000         2.000000       2.000000   2.000000       2.000000   \n",
       "50%        3.000000         3.000000       3.000000   3.000000       3.000000   \n",
       "75%        3.000000         4.000000       3.000000   3.000000       4.000000   \n",
       "max        5.000000         5.000000       5.000000   5.000000       5.000000   \n",
       "\n",
       "       t_wellsync_HS  t_strange_HS  t_frightening_HS  t_nice_HS  \n",
       "count      52.000000     52.000000         52.000000  52.000000  \n",
       "mean        3.596154      2.788462          1.807692   2.442308  \n",
       "std         1.107189      1.090719          0.886466   1.144697  \n",
       "min         1.000000      1.000000          1.000000   1.000000  \n",
       "25%         3.000000      2.000000          1.000000   1.000000  \n",
       "50%         4.000000      3.000000          2.000000   2.500000  \n",
       "75%         4.000000      4.000000          2.000000   3.000000  \n",
       "max         5.000000      5.000000          4.000000   5.000000  \n",
       "\n",
       "[8 rows x 31 columns]"
      ]
     },
     "execution_count": 60,
     "metadata": {},
     "output_type": "execute_result"
    }
   ],
   "source": [
    "agent.describe()"
   ]
  },
  {
   "cell_type": "code",
   "execution_count": 61,
   "metadata": {},
   "outputs": [
    {
     "data": {
      "text/html": [
       "<div>\n",
       "<style scoped>\n",
       "    .dataframe tbody tr th:only-of-type {\n",
       "        vertical-align: middle;\n",
       "    }\n",
       "\n",
       "    .dataframe tbody tr th {\n",
       "        vertical-align: top;\n",
       "    }\n",
       "\n",
       "    .dataframe thead th {\n",
       "        text-align: right;\n",
       "    }\n",
       "</style>\n",
       "<table border=\"1\" class=\"dataframe\">\n",
       "  <thead>\n",
       "    <tr style=\"text-align: right;\">\n",
       "      <th></th>\n",
       "      <th>status_Alejandro</th>\n",
       "      <th>status_Hector</th>\n",
       "      <th>homo_Alejandro</th>\n",
       "      <th>homo_Hector</th>\n",
       "      <th>atrakcyjnosc_Hector</th>\n",
       "      <th>atrakcyjnosc_Alejandro</th>\n",
       "    </tr>\n",
       "    <tr>\n",
       "      <th>country</th>\n",
       "      <th></th>\n",
       "      <th></th>\n",
       "      <th></th>\n",
       "      <th></th>\n",
       "      <th></th>\n",
       "      <th></th>\n",
       "    </tr>\n",
       "  </thead>\n",
       "  <tbody>\n",
       "    <tr>\n",
       "      <th>cat</th>\n",
       "      <td>73.074074</td>\n",
       "      <td>30.62963</td>\n",
       "      <td>73.814815</td>\n",
       "      <td>75.185185</td>\n",
       "      <td>22.259259</td>\n",
       "      <td>49.00</td>\n",
       "    </tr>\n",
       "    <tr>\n",
       "      <th>pl</th>\n",
       "      <td>63.760000</td>\n",
       "      <td>30.44000</td>\n",
       "      <td>56.560000</td>\n",
       "      <td>43.720000</td>\n",
       "      <td>26.320000</td>\n",
       "      <td>50.04</td>\n",
       "    </tr>\n",
       "  </tbody>\n",
       "</table>\n",
       "</div>"
      ],
      "text/plain": [
       "         status_Alejandro  status_Hector  homo_Alejandro  homo_Hector  \\\n",
       "country                                                                 \n",
       "cat             73.074074       30.62963       73.814815    75.185185   \n",
       "pl              63.760000       30.44000       56.560000    43.720000   \n",
       "\n",
       "         atrakcyjnosc_Hector  atrakcyjnosc_Alejandro  \n",
       "country                                               \n",
       "cat                22.259259                   49.00  \n",
       "pl                 26.320000                   50.04  "
      ]
     },
     "execution_count": 61,
     "metadata": {},
     "output_type": "execute_result"
    }
   ],
   "source": [
    "agent.groupby(\"country\")[['status_Alejandro', \n",
    "             'status_Hector', \n",
    "             'homo_Alejandro',\n",
    "             'homo_Hector',\n",
    "             'atrakcyjnosc_Hector', \n",
    "             'atrakcyjnosc_Alejandro']].mean()"
   ]
  },
  {
   "cell_type": "code",
   "execution_count": 62,
   "metadata": {},
   "outputs": [
    {
     "data": {
      "text/html": [
       "<div>\n",
       "<style scoped>\n",
       "    .dataframe tbody tr th:only-of-type {\n",
       "        vertical-align: middle;\n",
       "    }\n",
       "\n",
       "    .dataframe tbody tr th {\n",
       "        vertical-align: top;\n",
       "    }\n",
       "\n",
       "    .dataframe thead th {\n",
       "        text-align: right;\n",
       "    }\n",
       "</style>\n",
       "<table border=\"1\" class=\"dataframe\">\n",
       "  <thead>\n",
       "    <tr style=\"text-align: right;\">\n",
       "      <th></th>\n",
       "      <th>status_Alejandro</th>\n",
       "      <th>status_Hector</th>\n",
       "      <th>homo_Alejandro</th>\n",
       "      <th>homo_Hector</th>\n",
       "      <th>atrakcyjnosc_Hector</th>\n",
       "      <th>atrakcyjnosc_Alejandro</th>\n",
       "    </tr>\n",
       "    <tr>\n",
       "      <th>country</th>\n",
       "      <th></th>\n",
       "      <th></th>\n",
       "      <th></th>\n",
       "      <th></th>\n",
       "      <th></th>\n",
       "      <th></th>\n",
       "    </tr>\n",
       "  </thead>\n",
       "  <tbody>\n",
       "    <tr>\n",
       "      <th>cat</th>\n",
       "      <td>8.818363</td>\n",
       "      <td>11.682163</td>\n",
       "      <td>14.570880</td>\n",
       "      <td>16.895691</td>\n",
       "      <td>20.182995</td>\n",
       "      <td>21.872005</td>\n",
       "    </tr>\n",
       "    <tr>\n",
       "      <th>pl</th>\n",
       "      <td>13.068027</td>\n",
       "      <td>17.173332</td>\n",
       "      <td>20.814818</td>\n",
       "      <td>18.718351</td>\n",
       "      <td>17.432537</td>\n",
       "      <td>14.650028</td>\n",
       "    </tr>\n",
       "  </tbody>\n",
       "</table>\n",
       "</div>"
      ],
      "text/plain": [
       "         status_Alejandro  status_Hector  homo_Alejandro  homo_Hector  \\\n",
       "country                                                                 \n",
       "cat              8.818363      11.682163       14.570880    16.895691   \n",
       "pl              13.068027      17.173332       20.814818    18.718351   \n",
       "\n",
       "         atrakcyjnosc_Hector  atrakcyjnosc_Alejandro  \n",
       "country                                               \n",
       "cat                20.182995               21.872005  \n",
       "pl                 17.432537               14.650028  "
      ]
     },
     "execution_count": 62,
     "metadata": {},
     "output_type": "execute_result"
    }
   ],
   "source": [
    "agent.groupby(\"country\")[['status_Alejandro', \n",
    "             'status_Hector', \n",
    "             'homo_Alejandro',\n",
    "             'homo_Hector',\n",
    "             'atrakcyjnosc_Hector', \n",
    "             'atrakcyjnosc_Alejandro']].std()"
   ]
  },
  {
   "cell_type": "code",
   "execution_count": 63,
   "metadata": {},
   "outputs": [
    {
     "data": {
      "text/plain": [
       "Index(['country', 'ID', 'atrakcyjnosc_Alejandro', 'status_Alejandro',\n",
       "       'homo_Alejandro', 'afekt_Alejandro', 'rozpoznanie_Alejandro',\n",
       "       'intensywnosc_Alejandro', 'approachavoid_Alejandro',\n",
       "       'atrakcyjnosc_Hector', 'status_Hector', 'homo_Hector', 'afekt_Hector',\n",
       "       'rozpoznanie_Hector', 'intensywnosc_Hector', 'approachavoid_Hector',\n",
       "       't_natural_LS', 't_surprising_LS', 't_pleasant_LS', 't_weak_LS',\n",
       "       't_adequate_LS', 't_wellsync_LS', 't_strange_LS', 't_frightening_LS',\n",
       "       't_nice_LS', 't_natural_HS', 't_surprising_HS', 't_pleasant_HS',\n",
       "       't_weak_HS', 't_adequate_HS', 't_wellsync_HS', 't_strange_HS',\n",
       "       't_frightening_HS', 't_nice_HS', 'notes'],\n",
       "      dtype='object')"
      ]
     },
     "execution_count": 63,
     "metadata": {},
     "output_type": "execute_result"
    }
   ],
   "source": [
    "agent.columns"
   ]
  },
  {
   "cell_type": "code",
   "execution_count": 64,
   "metadata": {},
   "outputs": [],
   "source": [
    "pl = agent[agent[\"country\"] == \"pl\"]\n",
    "cat = agent[agent[\"country\"] == \"cat\"]"
   ]
  },
  {
   "cell_type": "raw",
   "metadata": {},
   "source": [
    "mt.style.use('seaborn-dark-palette')\n",
    "plt.figure(figsize=(10,7))\n",
    "\n",
    "g = pl[['status_Alejandro','status_Hector']].mean().plot(kind=\"bar\")\n",
    "h = cat[['status_Alejandro','status_Hector']].mean().plot(kind=\"bar\")\n",
    "\n",
    "#agent[[\"atrakcyjnosc_Alejandro\",\"atrakcyjnosc_Hector\"]].boxplot()\n",
    "\n",
    "#plt.xticks([[\"stat HS\", \"stat LS\", ]])"
   ]
  },
  {
   "cell_type": "markdown",
   "metadata": {},
   "source": [
    "# testing significance of mean differences"
   ]
  },
  {
   "cell_type": "code",
   "execution_count": 65,
   "metadata": {},
   "outputs": [],
   "source": [
    "import scipy\n",
    "from scipy.stats import ttest_ind"
   ]
  },
  {
   "cell_type": "raw",
   "metadata": {},
   "source": [
    "#One sample t-test\n",
    "\n",
    "print('t-statistic = %6.3f pvalue = %6.4f' %  scipy.stats.ttest_1samp(agent.status_Alejandro, agent.country))\n",
    "\n",
    "\n",
    "# unfinished because of \n",
    "#TypeError: ufunc 'subtract' did not contain a loop with signature \n",
    "#matching types dtype('<U32') dtype('<U32') dtype('<U32')"
   ]
  },
  {
   "cell_type": "raw",
   "metadata": {},
   "source": [
    "#chisquare (unfinished)\n",
    "scipy.stats.chisquare(52, f_exp=None, ddof=0, axis=0)[source]"
   ]
  },
  {
   "cell_type": "raw",
   "metadata": {},
   "source": [
    "#One sample t-test (UNFINISHED - problem with data type)\n",
    "\n",
    "print('t-statistic = %6.3f pvalue = %6.4f' %  scipy.stats.ttest_1samp(float(ap.status), float(ap.agentNum)))"
   ]
  },
  {
   "cell_type": "code",
   "execution_count": null,
   "metadata": {},
   "outputs": [],
   "source": [
    "# a two-sided test for the null hypothesis that \n",
    "#2 independent samples have identical average (expected) values. \n",
    "#This test assumes that the populations have identical variances by default.\n",
    "\n",
    "scipy.stats.ttest_ind(agent.status_Alejandro, agent.status_Hector, axis=0, equal_var=True, nan_policy='propagate')"
   ]
  },
  {
   "cell_type": "code",
   "execution_count": 82,
   "metadata": {},
   "outputs": [
    {
     "data": {
      "text/plain": [
       "Ttest_indResult(statistic=1.2775680108065244, pvalue=0.20430195389556743)"
      ]
     },
     "execution_count": 82,
     "metadata": {},
     "output_type": "execute_result"
    }
   ],
   "source": [
    "scipy.stats.ttest_ind(agent.homo_Alejandro, agent.homo_Hector, axis=0, equal_var=True, nan_policy='propagate')"
   ]
  },
  {
   "cell_type": "code",
   "execution_count": 86,
   "metadata": {},
   "outputs": [
    {
     "data": {
      "text/plain": [
       "Ttest_indResult(statistic=6.892311299599539, pvalue=4.659141578248315e-10)"
      ]
     },
     "execution_count": 86,
     "metadata": {},
     "output_type": "execute_result"
    }
   ],
   "source": [
    "scipy.stats.ttest_ind(agent.atrakcyjnosc_Alejandro, agent.atrakcyjnosc_Hector, axis=0, equal_var=True, nan_policy='propagate')"
   ]
  },
  {
   "cell_type": "code",
   "execution_count": null,
   "metadata": {},
   "outputs": [],
   "source": [
    "scipy.stats.t = <scipy.stats._continuous_distns.t_gen object>[source]"
   ]
  },
  {
   "cell_type": "markdown",
   "metadata": {},
   "source": [
    "# vertical table"
   ]
  },
  {
   "cell_type": "code",
   "execution_count": 95,
   "metadata": {},
   "outputs": [],
   "source": [
    "#agent pionowo database\n",
    "ap = pd.read_excel(\"C:\\\\Users\\\\Justyna\\\\Python Scripts\\\\ultimatum2\\\\data\\\\agentsTouchPion.xlsx\")"
   ]
  },
  {
   "cell_type": "code",
   "execution_count": 147,
   "metadata": {},
   "outputs": [],
   "source": [
    "#labels into numeric, low status = 0, high status = 1 \n",
    "ap['agentNum'] = ap['agent'].apply(lambda x: 0 if x == \"low status\" else 1)\n",
    "\n",
    "#labels into numeric, Catalan culture = 0 , Polish = 1 \n",
    "ap['culn'] = ap['culture'].apply(lambda x: 0 if x == \"Catalan\" else 1)"
   ]
  },
  {
   "cell_type": "code",
   "execution_count": 148,
   "metadata": {},
   "outputs": [
    {
     "name": "stdout",
     "output_type": "stream",
     "text": [
      "F-statistic = 464.207 pvalue = 0.0000\n",
      "F =  1672.199318505694 p =  4.453119191883573e-65\n"
     ]
    }
   ],
   "source": [
    "#one way anova with recalculating p value \n",
    "print('F-statistic = %6.3f pvalue = %6.4f' %  scipy.stats.f_oneway(ap.status, ap.agentNum))\n",
    "\n",
    "#values\n",
    "F, p = scipy.stats.f_oneway(hs.status, hs.agentNum)\n",
    "print (\"F = \", F, \"p = \", p)"
   ]
  },
  {
   "cell_type": "code",
   "execution_count": 149,
   "metadata": {},
   "outputs": [],
   "source": [
    "pl = ap[ap[\"culture\"] == \"Polish\"]\n",
    "ca = ap[ap[\"culture\"] == \"Catalan\"]\n",
    "\n",
    "hs = ap[ap[\"agent\"] == \"high status\"]\n",
    "ls = ap[ap[\"agent\"] == \"low status\"]"
   ]
  },
  {
   "cell_type": "code",
   "execution_count": 145,
   "metadata": {},
   "outputs": [
    {
     "name": "stdout",
     "output_type": "stream",
     "text": [
      "Poland: F-statistic = 212.244 pvalue = 0.0000\n",
      "Catalonia: F-statistic = 252.376 pvalue = 0.0000\n"
     ]
    }
   ],
   "source": [
    "#one way anova with recalculating p value - only high status between \n",
    "print('Poland: F-statistic = %6.3f pvalue = %6.4f' %  scipy.stats.f_oneway(pl.status, pl.agentNum))\n",
    "\n",
    "#only Catalan\n",
    "print('Catalonia: F-statistic = %6.3f pvalue = %6.4f' %  scipy.stats.f_oneway(ca.status, ca.agentNum))"
   ]
  },
  {
   "cell_type": "code",
   "execution_count": 150,
   "metadata": {},
   "outputs": [
    {
     "name": "stdout",
     "output_type": "stream",
     "text": [
      "status HSA: F-statistic = 1694.951 pvalue = 0.0000\n",
      "status LSA: F-statistic = 225.189 pvalue = 0.0000\n",
      "masculinity HSA: F-statistic = 566.679 pvalue = 0.0000\n",
      "masculinity LSA: F-statistic = 328.028 pvalue = 0.0000\n"
     ]
    }
   ],
   "source": [
    "#differences between countries - something is wrong (test?)\n",
    "#one way anova with recalculating p value - only high-status agent between countries\n",
    "print('status HSA: F-statistic = %6.3f pvalue = %6.4f' %  scipy.stats.f_oneway(hs.status, hs.culn))\n",
    "\n",
    "#only low-status agent\n",
    "print('status LSA: F-statistic = %6.3f pvalue = %6.4f' %  scipy.stats.f_oneway(ls.status, ls.culn))\n",
    "\n",
    "print('masculinity HSA: F-statistic = %6.3f pvalue = %6.4f' %  scipy.stats.f_oneway(hs.masculinity, hs.culn))\n",
    "\n",
    "#only low-status agent\n",
    "print('masculinity LSA: F-statistic = %6.3f pvalue = %6.4f' %  scipy.stats.f_oneway(ls.masculinity, ls.culn))\n",
    "\n",
    "#I don't take these values because they are different from what I got in SPSS and I don't know why (so I trust SPSS more)"
   ]
  },
  {
   "cell_type": "code",
   "execution_count": 130,
   "metadata": {
    "scrolled": true
   },
   "outputs": [
    {
     "name": "stdout",
     "output_type": "stream",
     "text": [
      "                    attractiveness                                          \\\n",
      "                             count       mean        std   min   25%   50%   \n",
      "agent       culture                                                          \n",
      "high status Catalan           27.0  49.000000  21.872005   0.0  38.0  53.0   \n",
      "            Polish            25.0  50.040000  14.650028  27.0  39.0  51.0   \n",
      "low status  Catalan           27.0  22.259259  20.182995   0.0   5.0  20.0   \n",
      "            Polish            25.0  26.320000  17.432537   0.0  16.0  29.0   \n",
      "\n",
      "                                 status             ...                \\\n",
      "                      75%    max  count       mean  ...     75%   max   \n",
      "agent       culture                                 ...                 \n",
      "high status Catalan  63.5   81.0   27.0  73.074074  ...    80.5  90.0   \n",
      "            Polish   56.0  100.0   25.0  63.760000  ...    72.0  95.0   \n",
      "low status  Catalan  33.5   66.0   27.0  30.629630  ...    42.5  50.0   \n",
      "            Polish   39.0   54.0   25.0  30.440000  ...    42.0  60.0   \n",
      "\n",
      "                    masculinity                                                \\\n",
      "                          count       mean        std   min   25%   50%   75%   \n",
      "agent       culture                                                             \n",
      "high status Catalan        27.0  73.814815  14.570880  42.0  66.0  74.0  84.5   \n",
      "            Polish         25.0  56.560000  20.814818   4.0  46.0  55.0  69.0   \n",
      "low status  Catalan        27.0  75.185185  16.895691  37.0  65.0  76.0  84.5   \n",
      "            Polish         25.0  43.720000  18.718351   0.0  31.0  42.0  57.0   \n",
      "\n",
      "                            \n",
      "                       max  \n",
      "agent       culture         \n",
      "high status Catalan   95.0  \n",
      "            Polish   100.0  \n",
      "low status  Catalan  100.0  \n",
      "            Polish    91.0  \n",
      "\n",
      "[4 rows x 24 columns]\n"
     ]
    }
   ],
   "source": [
    "print(ap.groupby([\"agent\", \"culture\"])[['attractiveness', \n",
    "                                           'status', 'masculinity']].describe())"
   ]
  },
  {
   "cell_type": "code",
   "execution_count": 22,
   "metadata": {},
   "outputs": [
    {
     "name": "stdout",
     "output_type": "stream",
     "text": [
      "Index(['culture', 'ID', 'agent', 'attractiveness', 'status', 'masculinity',\n",
      "       'afect', 'whatemotion', 'intesitiy', 'approachavoid', 't_surprising',\n",
      "       't_pleasant', 't_weak', 't_adequate', 't_wellsync', 't_strange',\n",
      "       't_frightening', 't_nice'],\n",
      "      dtype='object')\n"
     ]
    }
   ],
   "source": [
    "print(agent.columns)"
   ]
  },
  {
   "cell_type": "code",
   "execution_count": 129,
   "metadata": {},
   "outputs": [
    {
     "name": "stdout",
     "output_type": "stream",
     "text": [
      "                     attractiveness     status  masculinity\n",
      "culture agent                                              \n",
      "Catalan high status       49.000000  73.074074    73.814815\n",
      "        low status        22.259259  30.629630    75.185185\n",
      "Polish  high status       50.040000  63.760000    56.560000\n",
      "        low status        26.320000  30.440000    43.720000                                                                attractiveness     status  masculinity\n",
      "culture agent                                              \n",
      "Catalan high status       21.872005   8.818363    14.570880\n",
      "        low status        20.182995  11.682163    16.895691\n",
      "Polish  high status       14.650028  13.068027    20.814818\n",
      "        low status        17.432537  17.173332    18.718351\n"
     ]
    }
   ],
   "source": [
    "print(ap.groupby([ \"culture\", \"agent\"])[['attractiveness', 'status', 'masculinity']].mean(),\n",
    "      \"                                         \",\n",
    "      ap.groupby([\"culture\", \"agent\"])[['attractiveness', 'status', 'masculinity']].std())"
   ]
  },
  {
   "cell_type": "code",
   "execution_count": 138,
   "metadata": {},
   "outputs": [
    {
     "name": "stdout",
     "output_type": "stream",
     "text": [
      "             status  attractiveness  masculinity\n",
      "agent                                           \n",
      "high status   63.76           50.04        56.56\n",
      "low status    30.44           26.32        43.72                                            status  attractiveness  masculinity\n",
      "agent                                              \n",
      "high status  13.068027       14.650028    20.814818\n",
      "low status   17.173332       17.432537    18.718351\n"
     ]
    }
   ],
   "source": [
    "print(pl.groupby(\"agent\")[[ 'status','attractiveness', 'masculinity']].mean(),\n",
    "     \"                          \",\n",
    "      pl.groupby(\"agent\")[['status', 'attractiveness', 'masculinity']].std())"
   ]
  },
  {
   "cell_type": "markdown",
   "metadata": {},
   "source": [
    "# Plotting"
   ]
  },
  {
   "cell_type": "code",
   "execution_count": 49,
   "metadata": {
    "scrolled": true
   },
   "outputs": [
    {
     "name": "stderr",
     "output_type": "stream",
     "text": [
      "C:\\Users\\Justyna\\Anaconda3\\lib\\site-packages\\matplotlib\\cbook\\deprecation.py:107: MatplotlibDeprecationWarning: Passing one of 'on', 'true', 'off', 'false' as a boolean is deprecated; use an actual boolean (True/False) instead.\n",
      "  warnings.warn(message, mplDeprecation, stacklevel=1)\n",
      "C:\\Users\\Justyna\\Anaconda3\\lib\\site-packages\\matplotlib\\cbook\\deprecation.py:107: MatplotlibDeprecationWarning: Passing one of 'on', 'true', 'off', 'false' as a boolean is deprecated; use an actual boolean (True/False) instead.\n",
      "  warnings.warn(message, mplDeprecation, stacklevel=1)\n",
      "C:\\Users\\Justyna\\Anaconda3\\lib\\site-packages\\matplotlib\\cbook\\deprecation.py:107: MatplotlibDeprecationWarning: Passing one of 'on', 'true', 'off', 'false' as a boolean is deprecated; use an actual boolean (True/False) instead.\n",
      "  warnings.warn(message, mplDeprecation, stacklevel=1)\n",
      "C:\\Users\\Justyna\\Anaconda3\\lib\\site-packages\\matplotlib\\cbook\\deprecation.py:107: MatplotlibDeprecationWarning: Passing one of 'on', 'true', 'off', 'false' as a boolean is deprecated; use an actual boolean (True/False) instead.\n",
      "  warnings.warn(message, mplDeprecation, stacklevel=1)\n"
     ]
    },
    {
     "data": {
      "text/plain": [
       "<matplotlib.legend.Legend at 0x7f116b6198>"
      ]
     },
     "execution_count": 49,
     "metadata": {},
     "output_type": "execute_result"
    },
    {
     "data": {
      "text/plain": [
       "<Figure size 864x432 with 0 Axes>"
      ]
     },
     "metadata": {},
     "output_type": "display_data"
    },
    {
     "data": {
      "image/png": "[encoded data removed]",
      "text/plain": [
       "<Figure size 460.8x316.8 with 1 Axes>"
      ]
     },
     "metadata": {},
     "output_type": "display_data"
    }
   ],
   "source": [
    "# PLOT\n",
    "\n",
    "f = plt.figure(figsize=(12,6))\n",
    "mt.style.use('seaborn-paper')\n",
    "\n",
    "agent.groupby([\"culture\", \"agent\"])[['attractiveness', 'status', 'masculinity']].mean().plot(kind=\"bar\", \n",
    "                                                                                             #figsize=(12,6), \n",
    "                                                                                             #style=\"grid\", \n",
    "                                                                                             fontsize = 14,\n",
    "                                                                                             colormap = \"tab10\",\n",
    "                                                                                             table=False, \n",
    "                                                                                             yerr=True, \n",
    "                                                                                             stacked=False, \n",
    "                                                                                             sort_columns=True) \n",
    "                                                                                            #secondary_y = \"masculinity\")\n",
    "\n",
    "\n",
    "ax = plt.gca()\n",
    "ax.spines['right'].set_visible(False)\n",
    "ax.spines['top'].set_visible(False)\n",
    "# Only show ticks on the left and bottom spines\n",
    "ax.yaxis.set_ticks_position('left')\n",
    "ax.xaxis.set_ticks_position('bottom')\n",
    "\n",
    "#no ticks\n",
    "plt.tick_params(top='off', bottom='on', left='off', right='on') #labelleft='on', labelbottom='on')\n",
    "plt.xticks([4], [[\"1\", \"2\", \"3\", \"4\"]])\n",
    "plt.yticks([0, 25, 50, 75, 100])\n",
    "\n",
    "#labels\n",
    "plt.xlabel('agent')\n",
    "plt.ylabel('mean (0-100)')\n",
    "\n",
    "#scale on y and x axes\n",
    "plt.ylim(0, 100)\n",
    "#plt.xlim(-3, 2.5)\n",
    "\n",
    "#legend\n",
    "plt.legend(('Attractiveness', 'Status', 'Masculinity'), loc=[1,0.1], fontsize='small')\n",
    "\n",
    "#saving\n",
    "#plt.savefig('bar.png', transparent=True)\n"
   ]
  },
  {
   "cell_type": "code",
   "execution_count": 154,
   "metadata": {},
   "outputs": [
    {
     "data": {
      "image/png": "[encoded data removed]",
      "text/plain": [
       "<Figure size 216x72 with 1 Axes>"
      ]
     },
     "metadata": {},
     "output_type": "display_data"
    }
   ],
   "source": [
    "# setting palette\n",
    "pal = [\"#01A183\", \"#696969\", \"#4Cb5F5\"]\n",
    "sns.palplot(sns.color_palette(pal))"
   ]
  },
  {
   "cell_type": "code",
   "execution_count": 53,
   "metadata": {},
   "outputs": [
    {
     "name": "stderr",
     "output_type": "stream",
     "text": [
      "C:\\Users\\Justyna\\Anaconda3\\lib\\site-packages\\seaborn\\axisgrid.py:230: UserWarning: The `size` paramter has been renamed to `height`; please update your code.\n",
      "  warnings.warn(msg, UserWarning)\n",
      "C:\\Users\\Justyna\\Anaconda3\\lib\\site-packages\\scipy\\stats\\stats.py:1713: FutureWarning: Using a non-tuple sequence for multidimensional indexing is deprecated; use `arr[tuple(seq)]` instead of `arr[seq]`. In the future this will be interpreted as an array index, `arr[np.array(seq)]`, which will result either in an error or a different result.\n",
      "  return np.add.reduce(sorted[indexer] * weights, axis=axis) / sumval\n"
     ]
    },
    {
     "data": {
      "text/plain": [
       "<matplotlib.legend.Legend at 0x7f18183b00>"
      ]
     },
     "execution_count": 53,
     "metadata": {},
     "output_type": "execute_result"
    },
    {
     "data": {
      "image/png": "[encoded data removed]",
      "text/plain": [
       "<Figure size 576x288 with 2 Axes>"
      ]
     },
     "metadata": {},
     "output_type": "display_data"
    }
   ],
   "source": [
    "g = sns.FacetGrid(agent, col='culture', hue=\"agent\", aspect=1, size=4, palette=\"tab10\", legend_out=True, sharex=False,)\n",
    "g.map(sns.distplot, \"status\")\n",
    "\n",
    "#g.map(sns.distplot, \"masculinity\")\n",
    "#g.map(sns.distplot, \"attractiveness\")\n",
    "# bins=10, )\n",
    "plt.xlabel('Status', fontsize=12)\n",
    "plt.ylabel('Frequency', fontsize=12)\n",
    "plt.title(\"Distribution\")\n",
    "plt.legend(fontsize=12) \n",
    "\n",
    "#scale on y and x axes\n",
    "#plt.ylim(0, 100)\n",
    "#plt.xlim(-3, 2.5)\n",
    "\n",
    "#g.savefig(\"rozklad_wiek0.png\", dpi = (300))\n",
    "#sns.plt.show()"
   ]
  },
  {
   "cell_type": "code",
   "execution_count": 217,
   "metadata": {},
   "outputs": [
    {
     "name": "stdout",
     "output_type": "stream",
     "text": [
      "Possible values are: Accent, Accent_r, Blues, Blues_r, BrBG, BrBG_r, BuGn, BuGn_r, BuPu, BuPu_r, CMRmap, CMRmap_r, Dark2, Dark2_r, GnBu, GnBu_r, Greens, Greens_r, Greys, Greys_r, OrRd, OrRd_r, Oranges, Oranges_r, PRGn, PRGn_r, Paired, Paired_r, Pastel1, Pastel1_r, Pastel2, Pastel2_r, PiYG, PiYG_r, PuBu, PuBuGn, PuBuGn_r, PuBu_r, PuOr, PuOr_r, PuRd, PuRd_r, Purples, Purples_r, RdBu, RdBu_r, RdGy, RdGy_r, RdPu, RdPu_r, RdYlBu, RdYlBu_r, RdYlGn, RdYlGn_r, Reds, Reds_r, Set1, Set1_r, Set2, Set2_r, Set3, Set3_r, Spectral, Spectral_r, Vega10, Vega10_r, Vega20, Vega20_r, Vega20b, Vega20b_r, Vega20c, Vega20c_r, Wistia, Wistia_r, YlGn, YlGnBu, YlGnBu_r, YlGn_r, YlOrBr, YlOrBr_r, YlOrRd, YlOrRd_r, afmhot, afmhot_r, autumn, autumn_r, binary, binary_r, bone, bone_r, brg, brg_r, bwr, bwr_r, cool, cool_r, coolwarm, coolwarm_r, copper, copper_r, cubehelix, cubehelix_r, flag, flag_r, gist_earth, gist_earth_r, gist_gray, gist_gray_r, gist_heat, gist_heat_r, gist_ncar, gist_ncar_r, gist_rainbow, gist_rainbow_r, gist_stern, gist_stern_r, gist_yarg, gist_yarg_r, gnuplot, gnuplot2, gnuplot2_r, gnuplot_r, gray, gray_r, hot, hot_r, hsv, hsv_r, icefire, icefire_r, inferno, inferno_r, jet, jet_r, magma, magma_r, mako, mako_r, nipy_spectral, nipy_spectral_r, ocean, ocean_r, pink, pink_r, plasma, plasma_r, prism, prism_r, rainbow, rainbow_r, rocket, rocket_r, seismic, seismic_r, spectral, spectral_r, spring, spring_r, summer, summer_r, tab10, tab10_r, tab20, tab20_r, tab20b, tab20b_r, tab20c, tab20c_r, terrain, terrain_r, viridis, viridis_r, vlag, vlag_r, winter, winter_r\n"
     ]
    }
   ],
   "source": [
    " print(\"Possible values are: Accent, Accent_r, Blues, Blues_r, BrBG, BrBG_r, BuGn, BuGn_r, BuPu, BuPu_r, CMRmap, CMRmap_r, Dark2, Dark2_r, GnBu, GnBu_r, Greens, Greens_r, Greys, Greys_r, OrRd, OrRd_r, Oranges, Oranges_r, PRGn, PRGn_r, Paired, Paired_r, Pastel1, Pastel1_r, Pastel2, Pastel2_r, PiYG, PiYG_r, PuBu, PuBuGn, PuBuGn_r, PuBu_r, PuOr, PuOr_r, PuRd, PuRd_r, Purples, Purples_r, RdBu, RdBu_r, RdGy, RdGy_r, RdPu, RdPu_r, RdYlBu, RdYlBu_r, RdYlGn, RdYlGn_r, Reds, Reds_r, Set1, Set1_r, Set2, Set2_r, Set3, Set3_r, Spectral, Spectral_r, Vega10, Vega10_r, Vega20, Vega20_r, Vega20b, Vega20b_r, Vega20c, Vega20c_r, Wistia, Wistia_r, YlGn, YlGnBu, YlGnBu_r, YlGn_r, YlOrBr, YlOrBr_r, YlOrRd, YlOrRd_r, afmhot, afmhot_r, autumn, autumn_r, binary, binary_r, bone, bone_r, brg, brg_r, bwr, bwr_r, cool, cool_r, coolwarm, coolwarm_r, copper, copper_r, cubehelix, cubehelix_r, flag, flag_r, gist_earth, gist_earth_r, gist_gray, gist_gray_r, gist_heat, gist_heat_r, gist_ncar, gist_ncar_r, gist_rainbow, gist_rainbow_r, gist_stern, gist_stern_r, gist_yarg, gist_yarg_r, gnuplot, gnuplot2, gnuplot2_r, gnuplot_r, gray, gray_r, hot, hot_r, hsv, hsv_r, icefire, icefire_r, inferno, inferno_r, jet, jet_r, magma, magma_r, mako, mako_r, nipy_spectral, nipy_spectral_r, ocean, ocean_r, pink, pink_r, plasma, plasma_r, prism, prism_r, rainbow, rainbow_r, rocket, rocket_r, seismic, seismic_r, spectral, spectral_r, spring, spring_r, summer, summer_r, tab10, tab10_r, tab20, tab20_r, tab20b, tab20b_r, tab20c, tab20c_r, terrain, terrain_r, viridis, viridis_r, vlag, vlag_r, winter, winter_r\")\n",
    "    "
   ]
  },
  {
   "cell_type": "code",
   "execution_count": 218,
   "metadata": {},
   "outputs": [
    {
     "data": {
      "text/plain": [
       "<matplotlib.legend.Legend at 0x32317afb00>"
      ]
     },
     "execution_count": 218,
     "metadata": {},
     "output_type": "execute_result"
    },
    {
     "data": {
      "text/plain": [
       "<matplotlib.figure.Figure at 0x322f8ad748>"
      ]
     },
     "metadata": {},
     "output_type": "display_data"
    },
    {
     "data": {
      "image/png": "[encoded data removed]",
      "text/plain": [
       "<matplotlib.figure.Figure at 0x32317af668>"
      ]
     },
     "metadata": {},
     "output_type": "display_data"
    }
   ],
   "source": [
    "mt.style.use('seaborn-paper')\n",
    "\n",
    "\n",
    "f = plt.figure(figsize=(12,6))\n",
    "\n",
    "agent.boxplot(column='status', \n",
    "            by=['agent', 'culture'], \n",
    "            fontsize=14, \n",
    "            rot=0, \n",
    "            grid=False, \n",
    "            figsize=(8,6), \n",
    "            return_type='dict')\n",
    "\n",
    "ax = plt.gca()\n",
    "ax.spines['right'].set_visible(False)\n",
    "ax.spines['top'].set_visible(False)\n",
    "# Only show ticks on the left and bottom spines\n",
    "ax.yaxis.set_ticks_position('left')\n",
    "ax.xaxis.set_ticks_position('bottom')\n",
    "\n",
    "plt.xlabel('Agent', fontsize=14)\n",
    "plt.ylabel('Perceived social status (M)', fontsize = 14)\n",
    "plt.xticks(fontsize = 14)\n",
    "plt.yticks([0, 25, 50, 75,100], fontsize=8)\n",
    "#plt.ylim(-5, 100)\n",
    "#plt.xlim(-3, 2.5)\n",
    "\n",
    "#legend\n",
    "plt.legend(('Offers accepted', 'Offers rejected'), \n",
    "           loc=[0.7, 0.7], fontsize=14)\n",
    "\n",
    "#f.savefig('acceptedReject.png', transparent=True, figsize=(8,6))"
   ]
  },
  {
   "cell_type": "code",
   "execution_count": 65,
   "metadata": {},
   "outputs": [],
   "source": [
    "agent.plot?"
   ]
  },
  {
   "cell_type": "code",
   "execution_count": 221,
   "metadata": {},
   "outputs": [
    {
     "name": "stderr",
     "output_type": "stream",
     "text": [
      "C:\\Users\\Justyna\\Anaconda3\\lib\\site-packages\\seaborn\\categorical.py:3666: UserWarning: The `factorplot` function has been renamed to `catplot`. The original name will be removed in a future release. Please update your code. Note that the default `kind` in `factorplot` (`'point'`) has changed `'strip'` in `catplot`.\n",
      "  warnings.warn(msg)\n"
     ]
    },
    {
     "data": {
      "image/png": "[encoded data removed]",
      "text/plain": [
       "<matplotlib.figure.Figure at 0x322ff04fd0>"
      ]
     },
     "metadata": {},
     "output_type": "display_data"
    }
   ],
   "source": [
    "mt.style.use('seaborn-paper')\n",
    "\n",
    "sns.factorplot(x=\"agent\", \n",
    "                   y=\"status\", \n",
    "                   hue=\"culture\", \n",
    "                   data=agent, \n",
    "                   ci=95, \n",
    "                   n_boot=1000, \n",
    "                   kind='box', \n",
    "                   height=7, \n",
    "                   aspect=1.1, \n",
    "                   color=\"#FFFFFF\", \n",
    "                   palette=pal,\n",
    "                   #legend=True, \n",
    "                   legend_out=False, \n",
    "                   sharex=True, \n",
    "                   sharey=False, \n",
    "                   margin_titles=False)\n",
    "\n",
    "\n",
    "ax = plt.gca()\n",
    "ax.spines['right'].set_visible(False)\n",
    "ax.spines['top'].set_visible(False)\n",
    "# Only show ticks on the left and bottom spines\n",
    "ax.yaxis.set_ticks_position('left')\n",
    "ax.xaxis.set_ticks_position('bottom')\n",
    "\n",
    "plt.xlabel('Agent', fontsize=16)\n",
    "plt.ylabel('Status estimation', fontsize=16)\n",
    "plt.xticks(fontsize=16)\n",
    "plt.yticks([0, 25, 50, 75,100], fontsize=16)\n",
    "#plt.ylim(-5, 100)\n",
    "#plt.xlim(-3, 2.5)\n",
    "\n",
    "#legend\n",
    "plt.legend(('Catalan','Polish'), \n",
    "           loc=[0.7, 0.8], \n",
    "           fontsize=16)\n",
    "\n",
    "\n",
    "plt.show()"
   ]
  },
  {
   "cell_type": "code",
   "execution_count": 222,
   "metadata": {},
   "outputs": [],
   "source": [
    "from seaborn import catplot"
   ]
  },
  {
   "cell_type": "code",
   "execution_count": 223,
   "metadata": {},
   "outputs": [
    {
     "data": {
      "image/png": "[encoded data removed]",
      "text/plain": [
       "<matplotlib.figure.Figure at 0x322ff3a7b8>"
      ]
     },
     "metadata": {},
     "output_type": "display_data"
    }
   ],
   "source": [
    "a  = sns.barplot(x=\"agent\", y=\"status\", hue= \"culture\", data= agent, color=\"#FFFFFF\", \n",
    "                 palette=pal, ci = \"sd\", \n",
    "                 saturation=0.9, \n",
    "                 errcolor='.26')\n",
    "plt.show()"
   ]
  },
  {
   "cell_type": "code",
   "execution_count": 69,
   "metadata": {},
   "outputs": [],
   "source": [
    "sns.barplot?"
   ]
  },
  {
   "cell_type": "code",
   "execution_count": 227,
   "metadata": {},
   "outputs": [
    {
     "data": {
      "text/plain": [
       "<matplotlib.axes._subplots.AxesSubplot at 0x322ff3af60>"
      ]
     },
     "execution_count": 227,
     "metadata": {},
     "output_type": "execute_result"
    },
    {
     "data": {
      "image/png": "[encoded data removed]",
      "text/plain": [
       "<matplotlib.figure.Figure at 0x322f8e2390>"
      ]
     },
     "metadata": {},
     "output_type": "display_data"
    }
   ],
   "source": [
    "sns.countplot(y=\"whatemotion\", hue = \"agent\", data=agent[agent[\"culture\"] == \"Catalan\"], \n",
    "                  order=[\"joy\", \"surprise\", \"fear\", \"anger\", \"digust\", \"sadness\", \"none\"], hue_order=None, orient=\"h\", \n",
    "                  color=None, palette=pal, saturation=0.9)"
   ]
  },
  {
   "cell_type": "code",
   "execution_count": 229,
   "metadata": {},
   "outputs": [
    {
     "data": {
      "text/plain": [
       "<matplotlib.axes._subplots.AxesSubplot at 0x322c219cf8>"
      ]
     },
     "execution_count": 229,
     "metadata": {},
     "output_type": "execute_result"
    },
    {
     "data": {
      "image/png": "[encoded data removed]",
      "text/plain": [
       "<matplotlib.figure.Figure at 0x322ffa0e10>"
      ]
     },
     "metadata": {},
     "output_type": "display_data"
    }
   ],
   "source": [
    "sns.countplot(y=\"whatemotion\", hue = \"agent\", data=agent[agent[\"culture\"] == \"Polish\"], \n",
    "                  order=[\"joy\", \"surprise\", \"fear\", \"anger\", \"digust\", \"sadness\", \"none\"], hue_order=None, orient=\"h\", \n",
    "                  color=None, palette=pal, saturation=0.9, \n",
    "                  dodge=True, ax=None)"
   ]
  },
  {
   "cell_type": "code",
   "execution_count": 230,
   "metadata": {},
   "outputs": [],
   "source": [
    "from seaborn import catplot"
   ]
  },
  {
   "cell_type": "code",
   "execution_count": 231,
   "metadata": {},
   "outputs": [],
   "source": [
    "##ustawienie czcionki \n",
    "font = {'family' : 'Dejavu Sans',\n",
    "        'weight' : 'normal',\n",
    "        'size'   : 16}\n",
    "plt.rc('font', **font)"
   ]
  },
  {
   "cell_type": "code",
   "execution_count": 162,
   "metadata": {},
   "outputs": [
    {
     "data": {
      "text/plain": [
       "<Figure size 576x432 with 0 Axes>"
      ]
     },
     "metadata": {},
     "output_type": "display_data"
    },
    {
     "data": {
      "image/png": "[encoded data removed]",
      "text/plain": [
       "<Figure size 432x360 with 2 Axes>"
      ]
     },
     "metadata": {},
     "output_type": "display_data"
    }
   ],
   "source": [
    "sns.set(font_scale=1.3)\n",
    "\n",
    "g = plt.figure(figsize=(8,6))#, frameon=False)\n",
    "\n",
    "\n",
    "g = sns.catplot(x=\"agent\", y=\"status\", col=\"culture\", data=agent, saturation=1.3,\n",
    "                kind=\"boxen\", ci=\"sd\", aspect=0.6, palette = pal, legend = True, \n",
    "                legend_out = True, margin_titles=False, height=5, sharex=False, sharey=True)\n",
    "g.set_axis_labels(\"agent\", \"Assessed status\").set_xticklabels()\n",
    "\n",
    "\n",
    "ax = plt.gca()\n",
    "ax.spines['right'].set_visible(False)\n",
    "ax.spines['top'].set_visible(False)\n",
    "# Only show ticks on the left and bottom spines\n",
    "ax.yaxis.set_ticks_position('left')\n",
    "ax.xaxis.set_ticks_position('bottom')\n",
    "\n",
    "plt.yticks([0, 25, 50, 75,100], fontsize=14)\n",
    "plt.ylim(0, 120)\n",
    "\n",
    "\n",
    "\n",
    "\n",
    "g.savefig('status.png', transparent=True, figsize=(7,6), dpi = 300)"
   ]
  },
  {
   "cell_type": "code",
   "execution_count": 174,
   "metadata": {},
   "outputs": [],
   "source": [
    "sns.catplot?"
   ]
  },
  {
   "cell_type": "code",
   "execution_count": 166,
   "metadata": {},
   "outputs": [
    {
     "data": {
      "text/plain": [
       "<Figure size 576x432 with 0 Axes>"
      ]
     },
     "metadata": {},
     "output_type": "display_data"
    },
    {
     "data": {
      "image/png": "[encoded data removed]",
      "text/plain": [
       "<Figure size 432x360 with 2 Axes>"
      ]
     },
     "metadata": {},
     "output_type": "display_data"
    }
   ],
   "source": [
    "sns.set(font_scale=1.3)\n",
    "\n",
    "g = plt.figure(figsize=(8,6))#, frameon=False)\n",
    "\n",
    "\n",
    "g = sns.catplot(x=\"agent\", y=\"masculinity\", col=\"culture\", data=ap, saturation=1.3,\n",
    "                kind=\"boxen\", ci=\"sd\", aspect=0.6, palette = pal, legend = True, \n",
    "                legend_out = True, margin_titles=False, height=5, sharex=False, sharey=True)\n",
    "g.set_axis_labels(\"agent\", \"Assessed masculinity\").set_xticklabels()\n",
    "\n",
    "\n",
    "ax = plt.gca()\n",
    "ax.spines['right'].set_visible(False)\n",
    "ax.spines['top'].set_visible(False)\n",
    "# Only show ticks on the left and bottom spines\n",
    "ax.yaxis.set_ticks_position('left')\n",
    "ax.xaxis.set_ticks_position('bottom')\n",
    "\n",
    "plt.yticks([0, 25, 50, 75,100], fontsize=14)\n",
    "plt.ylim(0, 120)\n",
    "\n",
    "\n",
    "\n",
    "g.savefig('masculinity.png', transparent=True, figsize=(7,6), dpi = 300)"
   ]
  },
  {
   "cell_type": "code",
   "execution_count": 164,
   "metadata": {},
   "outputs": [
    {
     "data": {
      "text/plain": [
       "<Figure size 576x432 with 0 Axes>"
      ]
     },
     "metadata": {},
     "output_type": "display_data"
    },
    {
     "data": {
      "image/png": "[encoded data removed]",
      "text/plain": [
       "<Figure size 432x360 with 2 Axes>"
      ]
     },
     "metadata": {},
     "output_type": "display_data"
    }
   ],
   "source": [
    "sns.set(font_scale=1.3)\n",
    "\n",
    "g = plt.figure(figsize=(8,6))#, frameon=False)\n",
    "\n",
    "\n",
    "g = sns.catplot(x=\"agent\", y=\"attractiveness\", col=\"culture\", data=ap, saturation=1.3,\n",
    "                kind=\"boxen\", ci=\"sd\", aspect=0.6, palette = pal, legend = True, \n",
    "                legend_out = True, margin_titles=False, height=5, sharex=False, sharey=True)\n",
    "g.set_axis_labels(\"agent\", \"Assessed attractiveness\").set_xticklabels()\n",
    "\n",
    "\n",
    "ax = plt.gca()\n",
    "ax.spines['right'].set_visible(False)\n",
    "ax.spines['top'].set_visible(False)\n",
    "# Only show ticks on the left and bottom spines\n",
    "ax.yaxis.set_ticks_position('left')\n",
    "ax.xaxis.set_ticks_position('bottom')\n",
    "\n",
    "plt.yticks([0, 25, 50, 75,100], fontsize=14)\n",
    "plt.ylim(0, 120)\n",
    "\n",
    "\n",
    "g.savefig('attractiveness.png', transparent=True, figsize=(7,6), dpi = 300)"
   ]
  },
  {
   "cell_type": "code",
   "execution_count": 168,
   "metadata": {},
   "outputs": [],
   "source": [
    "sns.FacetGrid?"
   ]
  },
  {
   "cell_type": "code",
   "execution_count": null,
   "metadata": {},
   "outputs": [],
   "source": []
  }
 ],
 "metadata": {
  "kernelspec": {
   "display_name": "Python 3",
   "language": "python",
   "name": "python3"
  },
  "language_info": {
   "codemirror_mode": {
    "name": "ipython",
    "version": 3
   },
   "file_extension": ".py",
   "mimetype": "text/x-python",
   "name": "python",
   "nbconvert_exporter": "python",
   "pygments_lexer": "ipython3",
   "version": "3.6.4"
  }
 },
 "nbformat": 4,
 "nbformat_minor": 2
}
