{
 "cells": [
  {
   "cell_type": "code",
   "execution_count": 66,
   "metadata": {},
   "outputs": [],
   "source": [
    "import pandas as pd\n",
    "import numpy as np \n",
    "import seaborn as sn\n",
    "import matplotlib as mt\n",
    "import sklearn as sk\n",
    "import scipy as sc\n",
    "import statsmodels as st\n",
    "import statsmodels.api as sm\n",
    "import matplotlib.pyplot as plt\n",
    "import statsmodels.formula.api as smf\n",
    "\n",
    "from scipy import stats\n",
    "from statsmodels import stats\n",
    "from statsmodels.formula.api import logit, probit, poisson, ols\n",
    "from sklearn.linear_model import LogisticRegression"
   ]
  },
  {
   "cell_type": "code",
   "execution_count": 67,
   "metadata": {},
   "outputs": [],
   "source": [
    "#all = pd.read_excel(\"C:\\\\Users\\\\swidrak\\\\OneDrive\\\\python\\\\ultimatum2\\\\data\\\\allupdated.xlsx\")\n",
    "all = pd.read_excel(\"C:\\\\Users\\\\Justyna\\\\Python Scripts\\\\ultimatum2\\\\data\\\\ultimatum2.xlsx\")"
   ]
  },
  {
   "cell_type": "code",
   "execution_count": 68,
   "metadata": {},
   "outputs": [],
   "source": [
    "all = all[all[\"cut\"] == \"keep\"]\n",
    "all = all[all[\"cut2\"] == \"keep\"]"
   ]
  },
  {
   "cell_type": "code",
   "execution_count": 69,
   "metadata": {},
   "outputs": [],
   "source": [
    "#new columns\n",
    "all.loc[:,'name'] = all.loc[:,'agent'].apply(lambda x: \"low status\" if x == 0 else \"high status\")\n",
    "\n",
    "all['touchN'] = all.loc[:,('touch')].apply(lambda x: 0 if x == 0.0 else 1)\n",
    "\n",
    "all['cult'] = all.loc[:,('country')].apply(lambda x: 1 if x == \"pl\" else 0)\n",
    "\n",
    "all['offerParC'] = all.loc[:,'offerPar'].apply(lambda x: \"unfair\" if x < 36 else (\"fair\" if x > 36 and x < 46 else \"generous\"))\n"
   ]
  },
  {
   "cell_type": "code",
   "execution_count": 70,
   "metadata": {},
   "outputs": [],
   "source": [
    "pro = all[all[\"parPro\"] == 1]\n",
    "res = all[all[\"parPro\"] == 0]\n",
    "\n",
    "pl = all[all[\"country\"] == \"pl\"]\n",
    "ca = all[all[\"country\"] == \"cat\"]\n",
    "\n",
    "plpro = pl[pl[\"parPro\"] == 1]\n",
    "capro = ca[ca[\"parPro\"] == 1]\n",
    "\n",
    "plres = pl[pl[\"parPro\"] == 0]\n",
    "cares = ca[ca[\"parPro\"] == 0]"
   ]
  },
  {
   "cell_type": "code",
   "execution_count": 71,
   "metadata": {},
   "outputs": [],
   "source": [
    "#all.to_excel(\"C:\\\\Users\\\\Justyna\\\\Python Scripts\\\\ultimatum2\\\\data\\\\allupdated.xlsx\")"
   ]
  },
  {
   "cell_type": "code",
   "execution_count": 72,
   "metadata": {},
   "outputs": [],
   "source": [
    "#res.head(10)"
   ]
  },
  {
   "cell_type": "markdown",
   "metadata": {},
   "source": [
    "# ??"
   ]
  },
  {
   "cell_type": "code",
   "execution_count": 73,
   "metadata": {},
   "outputs": [],
   "source": [
    "crl = all[all['round'] == 1] "
   ]
  },
  {
   "cell_type": "code",
   "execution_count": 74,
   "metadata": {},
   "outputs": [
    {
     "data": {
      "text/html": [
       "<div>\n",
       "<style scoped>\n",
       "    .dataframe tbody tr th:only-of-type {\n",
       "        vertical-align: middle;\n",
       "    }\n",
       "\n",
       "    .dataframe tbody tr th {\n",
       "        vertical-align: top;\n",
       "    }\n",
       "\n",
       "    .dataframe thead th {\n",
       "        text-align: right;\n",
       "    }\n",
       "</style>\n",
       "<table border=\"1\" class=\"dataframe\">\n",
       "  <thead>\n",
       "    <tr style=\"text-align: right;\">\n",
       "      <th></th>\n",
       "      <th></th>\n",
       "      <th>Zstat</th>\n",
       "      <th>Zatg</th>\n",
       "      <th>Zemb</th>\n",
       "      <th>ZsocPres</th>\n",
       "    </tr>\n",
       "    <tr>\n",
       "      <th>cult</th>\n",
       "      <th></th>\n",
       "      <th></th>\n",
       "      <th></th>\n",
       "      <th></th>\n",
       "      <th></th>\n",
       "    </tr>\n",
       "  </thead>\n",
       "  <tbody>\n",
       "    <tr>\n",
       "      <th rowspan=\"4\" valign=\"top\">0</th>\n",
       "      <th>Zstat</th>\n",
       "      <td>1.000000</td>\n",
       "      <td>0.414064</td>\n",
       "      <td>-0.134192</td>\n",
       "      <td>-0.106214</td>\n",
       "    </tr>\n",
       "    <tr>\n",
       "      <th>Zatg</th>\n",
       "      <td>0.414064</td>\n",
       "      <td>1.000000</td>\n",
       "      <td>-0.261974</td>\n",
       "      <td>-0.196960</td>\n",
       "    </tr>\n",
       "    <tr>\n",
       "      <th>Zemb</th>\n",
       "      <td>-0.134192</td>\n",
       "      <td>-0.261974</td>\n",
       "      <td>1.000000</td>\n",
       "      <td>0.583175</td>\n",
       "    </tr>\n",
       "    <tr>\n",
       "      <th>ZsocPres</th>\n",
       "      <td>-0.106214</td>\n",
       "      <td>-0.196960</td>\n",
       "      <td>0.583175</td>\n",
       "      <td>1.000000</td>\n",
       "    </tr>\n",
       "    <tr>\n",
       "      <th rowspan=\"4\" valign=\"top\">1</th>\n",
       "      <th>Zstat</th>\n",
       "      <td>1.000000</td>\n",
       "      <td>0.072433</td>\n",
       "      <td>-0.101499</td>\n",
       "      <td>0.669021</td>\n",
       "    </tr>\n",
       "    <tr>\n",
       "      <th>Zatg</th>\n",
       "      <td>0.072433</td>\n",
       "      <td>1.000000</td>\n",
       "      <td>0.051406</td>\n",
       "      <td>-0.016406</td>\n",
       "    </tr>\n",
       "    <tr>\n",
       "      <th>Zemb</th>\n",
       "      <td>-0.101499</td>\n",
       "      <td>0.051406</td>\n",
       "      <td>1.000000</td>\n",
       "      <td>-0.376007</td>\n",
       "    </tr>\n",
       "    <tr>\n",
       "      <th>ZsocPres</th>\n",
       "      <td>0.669021</td>\n",
       "      <td>-0.016406</td>\n",
       "      <td>-0.376007</td>\n",
       "      <td>1.000000</td>\n",
       "    </tr>\n",
       "  </tbody>\n",
       "</table>\n",
       "</div>"
      ],
      "text/plain": [
       "                  Zstat      Zatg      Zemb  ZsocPres\n",
       "cult                                                 \n",
       "0    Zstat     1.000000  0.414064 -0.134192 -0.106214\n",
       "     Zatg      0.414064  1.000000 -0.261974 -0.196960\n",
       "     Zemb     -0.134192 -0.261974  1.000000  0.583175\n",
       "     ZsocPres -0.106214 -0.196960  0.583175  1.000000\n",
       "1    Zstat     1.000000  0.072433 -0.101499  0.669021\n",
       "     Zatg      0.072433  1.000000  0.051406 -0.016406\n",
       "     Zemb     -0.101499  0.051406  1.000000 -0.376007\n",
       "     ZsocPres  0.669021 -0.016406 -0.376007  1.000000"
      ]
     },
     "execution_count": 74,
     "metadata": {},
     "output_type": "execute_result"
    }
   ],
   "source": [
    "# no correlation between scales - independent cov structure?\n",
    "\n",
    "crl.groupby(\"cult\")[[ \"Zstat\", \"Zatg\", \"Zemb\",\"ZsocPres\"]].corr()"
   ]
  },
  {
   "cell_type": "code",
   "execution_count": 77,
   "metadata": {},
   "outputs": [
    {
     "name": "stdout",
     "output_type": "stream",
     "text": [
      "                               GEE Regression Results                              \n",
      "===================================================================================\n",
      "Dep. Variable:                    accepted   No. Observations:                  624\n",
      "Model:                                 GEE   No. clusters:                       52\n",
      "Method:                        Generalized   Min. cluster size:                  12\n",
      "                      Estimating Equations   Max. cluster size:                  12\n",
      "Family:                           Binomial   Mean cluster size:                12.0\n",
      "Dependence structure:       Autoregressive   Num. iterations:                     9\n",
      "Date:                     Mon, 27 Aug 2018   Scale:                           1.000\n",
      "Covariance type:                    robust   Time:                         18:49:56\n",
      "====================================================================================\n",
      "                       coef    std err          z      P>|z|      [0.025      0.975]\n",
      "------------------------------------------------------------------------------------\n",
      "Intercept           -1.2654      0.291     -4.350      0.000      -1.836      -0.695\n",
      "touch                0.7275      0.273      2.667      0.008       0.193       1.262\n",
      "agent                0.1237      0.345      0.359      0.720      -0.552       0.799\n",
      "touch:agent          0.0530      0.349      0.152      0.879      -0.631       0.737\n",
      "cult                -0.4761      0.411     -1.158      0.247      -1.282       0.330\n",
      "touch:cult           0.5307      0.369      1.439      0.150      -0.192       1.254\n",
      "agent:cult           0.5561      0.488      1.139      0.255      -0.401       1.513\n",
      "touch:agent:cult    -0.6988      0.498     -1.402      0.161      -1.676       0.278\n",
      "Zatg                -0.5179      0.292     -1.775      0.076      -1.090       0.054\n",
      "cult:Zatg            1.1120      0.346      3.216      0.001       0.434       1.790\n",
      "Zstat                0.1170      0.155      0.753      0.452      -0.188       0.421\n",
      "cult:Zstat          -0.2254      0.231     -0.977      0.329      -0.678       0.227\n",
      "Zemb                 0.1150      0.129      0.894      0.371      -0.137       0.367\n",
      "ZsocPres            -0.2913      0.155     -1.879      0.060      -0.595       0.013\n",
      "==============================================================================\n",
      "Skew:                          0.4417   Kurtosis:                      -1.4191\n",
      "Centered skew:                 0.3712   Centered kurtosis:             -0.9751\n",
      "==============================================================================\n",
      "Autoregressive(1) dependence parameter: 0.156\n",
      "\n",
      "                       chi2                  P>chi2  df constraint\n",
      "Intercept         18.918411  1.3642961659613646e-05              1\n",
      "touch              7.113662    0.007649867304434733              1\n",
      "agent              0.128892      0.7195834994451794              1\n",
      "touch:agent        0.023076      0.8792599957281658              1\n",
      "cult               1.341291     0.24680636513347892              1\n",
      "touch:cult         2.069521     0.15026874683195118              1\n",
      "agent:cult         1.298160     0.25454958457240046              1\n",
      "touch:agent:cult   1.966379     0.16083271350151257              1\n",
      "Zatg               3.148998     0.07597358883714349              1\n",
      "cult:Zatg         10.340475   0.0013014448382691322              1\n",
      "Zstat              0.566882     0.45150077740515115              1\n",
      "cult:Zstat         0.954477      0.3285822753891644              1\n",
      "Zemb               0.800060       0.371075364839655              1\n",
      "ZsocPres           3.529593     0.06028259137453616              1\n"
     ]
    }
   ],
   "source": [
    "data = res\n",
    "fam = sm.families.Binomial()\n",
    "\n",
    "gor = sm.genmod.cov_struct.Autoregressive()\n",
    "mod = smf.gee(\"accepted ~ touch*agent*cult + cult*Zatg + cult*Zstat + Zemb + ZsocPres\", \"ID\", data, cov_struct=gor, family=fam)\n",
    "\n",
    "results = mod.fit()\n",
    "print(results.summary())\n",
    "print(gor.summary())\n",
    "\n",
    "## tutaj cala tabela razem z uwzglednieniem interakcji\n",
    "print(results.wald_test_terms())\n",
    "#z combine terms wyszczegolnionym, jesli w mod nie uwzgledniamy interakcji tylko oddzielne predyktory\n",
    "#print(results.wald_test_terms(combine_terms=(\"touch\",\"agent\")))"
   ]
  },
  {
   "cell_type": "markdown",
   "metadata": {},
   "source": [
    "# IN THE PAPER"
   ]
  },
  {
   "cell_type": "code",
   "execution_count": 83,
   "metadata": {},
   "outputs": [
    {
     "name": "stdout",
     "output_type": "stream",
     "text": [
      "                               GEE Regression Results                              \n",
      "===================================================================================\n",
      "Dep. Variable:                    accepted   No. Observations:                  624\n",
      "Model:                                 GEE   No. clusters:                       52\n",
      "Method:                        Generalized   Min. cluster size:                  12\n",
      "                      Estimating Equations   Max. cluster size:                  12\n",
      "Family:                           Binomial   Mean cluster size:                12.0\n",
      "Dependence structure:       Autoregressive   Num. iterations:                     9\n",
      "Date:                     Mon, 27 Aug 2018   Scale:                           1.000\n",
      "Covariance type:                    robust   Time:                         18:52:12\n",
      "====================================================================================\n",
      "                       coef    std err          z      P>|z|      [0.025      0.975]\n",
      "------------------------------------------------------------------------------------\n",
      "Intercept           -1.2654      0.291     -4.350      0.000      -1.836      -0.695\n",
      "touch                0.7275      0.273      2.667      0.008       0.193       1.262\n",
      "agent                0.1237      0.345      0.359      0.720      -0.552       0.799\n",
      "touch:agent          0.0530      0.349      0.152      0.879      -0.631       0.737\n",
      "cult                -0.4761      0.411     -1.158      0.247      -1.282       0.330\n",
      "touch:cult           0.5307      0.369      1.439      0.150      -0.192       1.254\n",
      "agent:cult           0.5561      0.488      1.139      0.255      -0.401       1.513\n",
      "touch:agent:cult    -0.6988      0.498     -1.402      0.161      -1.676       0.278\n",
      "Zatg                -0.5179      0.292     -1.775      0.076      -1.090       0.054\n",
      "Zatg:cult            1.1120      0.346      3.216      0.001       0.434       1.790\n",
      "Zstat                0.1170      0.155      0.753      0.452      -0.188       0.421\n",
      "Zstat:cult          -0.2254      0.231     -0.977      0.329      -0.678       0.227\n",
      "Zemb                 0.1150      0.129      0.894      0.371      -0.137       0.367\n",
      "ZsocPres            -0.2913      0.155     -1.879      0.060      -0.595       0.013\n",
      "==============================================================================\n",
      "Skew:                          0.4417   Kurtosis:                      -1.4191\n",
      "Centered skew:                 0.3712   Centered kurtosis:             -0.9751\n",
      "==============================================================================\n",
      "Autoregressive(1) dependence parameter: 0.156\n",
      "\n",
      "                       chi2                  P>chi2  df constraint\n",
      "Intercept         18.918411  1.3642961659613646e-05              1\n",
      "touch              7.113662    0.007649867304434733              1\n",
      "agent              0.128892      0.7195834994451794              1\n",
      "touch:agent        0.023076      0.8792599957281658              1\n",
      "cult               1.341291     0.24680636513347892              1\n",
      "touch:cult         2.069521     0.15026874683195118              1\n",
      "agent:cult         1.298160     0.25454958457240046              1\n",
      "touch:agent:cult   1.966379     0.16083271350151257              1\n",
      "Zatg               3.148998     0.07597358883714349              1\n",
      "Zatg:cult         10.340475   0.0013014448382691322              1\n",
      "Zstat              0.566882     0.45150077740515115              1\n",
      "Zstat:cult         0.954477      0.3285822753891644              1\n",
      "Zemb               0.800060       0.371075364839655              1\n",
      "ZsocPres           3.529593     0.06028259137453616              1\n"
     ]
    }
   ],
   "source": [
    "data = res\n",
    "fam = sm.families.Binomial()\n",
    "\n",
    "gor = sm.cov_struct.Autoregressive()\n",
    "mod = smf.gee(\"accepted ~ touch*agent*cult + Zatg*cult + Zstat*cult + Zemb + ZsocPres\",\n",
    "              \"ID\", data, cov_struct=gor, family=fam)\n",
    "\n",
    "#summ = sm.genmod.cov_struct.GlobalOddsRatio(\"nominal\")\n",
    "\n",
    "results = mod.fit()\n",
    "print(results.summary())\n",
    "print(gor.summary())\n",
    "print(results.wald_test_terms())"
   ]
  },
  {
   "cell_type": "code",
   "execution_count": null,
   "metadata": {},
   "outputs": [],
   "source": []
  },
  {
   "cell_type": "code",
   "execution_count": 27,
   "metadata": {},
   "outputs": [
    {
     "data": {
      "text/plain": [
       "[<matplotlib.lines.Line2D at 0x4a0ab6e7b8>]"
      ]
     },
     "execution_count": 27,
     "metadata": {},
     "output_type": "execute_result"
    },
    {
     "data": {
      "image/png": "[encoded data removed]",
      "text/plain": [
       "<Figure size 432x288 with 1 Axes>"
      ]
     },
     "metadata": {},
     "output_type": "display_data"
    }
   ],
   "source": [
    "plt.plot([np.sqrt(np.sum(x**2)) for x in results.fit_history['score']])"
   ]
  },
  {
   "cell_type": "markdown",
   "metadata": {},
   "source": [
    "# Linear Mixed Effects Models"
   ]
  },
  {
   "cell_type": "markdown",
   "metadata": {},
   "source": [
    "## participant proposer"
   ]
  },
  {
   "cell_type": "code",
   "execution_count": 65,
   "metadata": {},
   "outputs": [
    {
     "name": "stdout",
     "output_type": "stream",
     "text": [
      "         Mixed Linear Model Regression Results\n",
      "=======================================================\n",
      "Model:            MixedLM Dependent Variable: offerAg  \n",
      "No. Observations: 260     Method:             REML     \n",
      "No. Groups:       52      Scale:              44.6078  \n",
      "Min. group size:  5       Likelihood:         -888.0409\n",
      "Max. group size:  5       Converged:          Yes      \n",
      "Mean group size:  5.0                                  \n",
      "-------------------------------------------------------\n",
      "             Coef.  Std.Err.   z    P>|z| [0.025 0.975]\n",
      "-------------------------------------------------------\n",
      "Intercept    44.950    2.052 21.910 0.000 40.929 48.971\n",
      "agent        -1.463    1.173 -1.247 0.212 -3.763  0.837\n",
      "cult         -2.576    2.680 -0.961 0.337 -7.829  2.677\n",
      "agent:cult    2.683    1.692  1.585 0.113 -0.634  6.000\n",
      "Zatg         -0.465    2.595 -0.179 0.858 -5.550  4.621\n",
      "Zatg:cult     3.090    2.928  1.055 0.291 -2.650  8.830\n",
      "Zstat         1.698    1.228  1.383 0.167 -0.708  4.104\n",
      "Zstat:cult   -4.911    2.000 -2.455 0.014 -8.832 -0.990\n",
      "Zemb          2.868    0.980  2.927 0.003  0.948  4.788\n",
      "ZsocPres      0.223    0.986  0.226 0.821 -1.709  2.154\n",
      "Group Var    36.473    1.596                           \n",
      "=======================================================\n",
      "\n",
      "                  chi2                  P>chi2  df constraint\n",
      "Intercept   480.028820  2.106068878903975e-106              1\n",
      "agent         1.554538     0.21246675759794567              1\n",
      "cult          0.923567     0.33654022875913747              1\n",
      "agent:cult    2.513626     0.11286595247221609              1\n",
      "Zatg          0.032092      0.8578267071858483              1\n",
      "Zatg:cult     1.113414      0.2913410562171221              1\n",
      "Zstat         1.913923      0.1665281496888828              1\n",
      "Zstat:cult    6.027020    0.014088499461695783              1\n",
      "Zemb          8.569370    0.003418654947632448              1\n",
      "ZsocPres      0.051047       0.821251124983672              1\n",
      "<F test: F=array([[3.22178481]]), p=0.0006372234829315827, df_denom=250, df_num=10>\n"
     ]
    }
   ],
   "source": [
    "# comparison with GEE model (below)\n",
    "\n",
    "data = pro\n",
    "mod_lme = sm.MixedLM.from_formula(\"offerAg ~ agent*cult + Zatg*cult + Zstat*cult + Zemb + ZsocPres\", \n",
    "                                  data, groups=data[\"ID\"], use_sqrt=True)\n",
    "results = mod_lme.fit()\n",
    "print(results.summary())\n",
    "print(results.wald_test_terms())\n",
    "\n",
    "A = np.identity(len(results.params))\n",
    "A = A[1:,:]\n",
    "print(results.f_test(A))"
   ]
  },
  {
   "cell_type": "markdown",
   "metadata": {},
   "source": [
    "## in the paper so far"
   ]
  },
  {
   "cell_type": "code",
   "execution_count": 89,
   "metadata": {},
   "outputs": [
    {
     "name": "stdout",
     "output_type": "stream",
     "text": [
      "                               GEE Regression Results                              \n",
      "===================================================================================\n",
      "Dep. Variable:                     offerAg   No. Observations:                  260\n",
      "Model:                                 GEE   No. clusters:                       52\n",
      "Method:                        Generalized   Min. cluster size:                   5\n",
      "                      Estimating Equations   Max. cluster size:                   5\n",
      "Family:                           Gaussian   Mean cluster size:                 5.0\n",
      "Dependence structure:       Autoregressive   Num. iterations:                     9\n",
      "Date:                     Mon, 27 Aug 2018   Scale:                          76.870\n",
      "Covariance type:                    robust   Time:                         19:24:01\n",
      "==============================================================================\n",
      "                 coef    std err          z      P>|z|      [0.025      0.975]\n",
      "------------------------------------------------------------------------------\n",
      "Intercept     44.8732      1.619     27.718      0.000      41.700      48.046\n",
      "agent         -1.4907      1.356     -1.099      0.272      -4.148       1.167\n",
      "cult          -2.3070      2.319     -0.995      0.320      -6.852       2.238\n",
      "agent:cult     2.5814      1.798      1.435      0.151      -0.944       6.106\n",
      "Zatg          -0.1606      1.899     -0.085      0.933      -3.883       3.562\n",
      "Zatg:cult      2.5734      2.257      1.140      0.254      -1.850       6.997\n",
      "Zstat          1.5046      0.793      1.898      0.058      -0.049       3.058\n",
      "Zstat:cult    -4.3735      1.471     -2.974      0.003      -7.256      -1.491\n",
      "Zemb           2.7458      1.305      2.104      0.035       0.188       5.303\n",
      "ZsocPres       0.1037      0.968      0.107      0.915      -1.793       2.000\n",
      "==============================================================================\n",
      "Skew:                         -0.3553   Kurtosis:                       7.0978\n",
      "Centered skew:                 0.9382   Centered kurtosis:              7.2069\n",
      "==============================================================================\n",
      "Autoregressive(1) dependence parameter: 0.532\n",
      "\n",
      "                  chi2                  P>chi2  df constraint\n",
      "Intercept   480.028820  2.106068878903975e-106              1\n",
      "agent         1.554538     0.21246675759794567              1\n",
      "cult          0.923567     0.33654022875913747              1\n",
      "agent:cult    2.513626     0.11286595247221609              1\n",
      "Zatg          0.032092      0.8578267071858483              1\n",
      "Zatg:cult     1.113414      0.2913410562171221              1\n",
      "Zstat         1.913923      0.1665281496888828              1\n",
      "Zstat:cult    6.027020    0.014088499461695783              1\n",
      "Zemb          8.569370    0.003418654947632448              1\n",
      "ZsocPres      0.051047       0.821251124983672              1\n",
      "Autoregressive(1) dependence parameter: 0.532\n",
      "\n"
     ]
    }
   ],
   "source": [
    "ind = sm.cov_struct.Autoregressive()\n",
    "fml = \"offerAg ~ agent*cult + Zatg*cult + Zstat*cult + Zemb + ZsocPres\"\n",
    "mod_gee = sm.GEE.from_formula(fml, groups=pro[\"ID\"], cov_struct=ind, data=pro)\n",
    "mod_gee = mod_gee.fit()\n",
    "\n",
    "print(mod_gee.summary())\n",
    "print(mod_gee.cov_struct.summary())\n",
    "print(results.wald_test_terms())\n",
    "print(ind.summary())\n",
    "\n",
    "# http://nbviewer.jupyter.org/urls/umich.box.com/shared/static/lc6uf6dmabmitjbup3yt.ipynb"
   ]
  },
  {
   "cell_type": "code",
   "execution_count": 87,
   "metadata": {},
   "outputs": [
    {
     "name": "stdout",
     "output_type": "stream",
     "text": [
      "         Mixed Linear Model Regression Results\n",
      "=======================================================\n",
      "Model:            MixedLM Dependent Variable: offerAg  \n",
      "No. Observations: 260     Method:             REML     \n",
      "No. Groups:       52      Scale:              44.6078  \n",
      "Min. group size:  5       Likelihood:         -888.0409\n",
      "Max. group size:  5       Converged:          Yes      \n",
      "Mean group size:  5.0                                  \n",
      "-------------------------------------------------------\n",
      "             Coef.  Std.Err.   z    P>|z| [0.025 0.975]\n",
      "-------------------------------------------------------\n",
      "Intercept    44.950    2.052 21.910 0.000 40.929 48.971\n",
      "agent        -1.463    1.173 -1.247 0.212 -3.763  0.837\n",
      "cult         -2.576    2.680 -0.961 0.337 -7.829  2.677\n",
      "agent:cult    2.683    1.692  1.585 0.113 -0.634  6.000\n",
      "Zatg         -0.465    2.595 -0.179 0.858 -5.550  4.621\n",
      "Zatg:cult     3.090    2.928  1.055 0.291 -2.650  8.830\n",
      "Zstat         1.698    1.228  1.383 0.167 -0.708  4.104\n",
      "Zstat:cult   -4.911    2.000 -2.455 0.014 -8.832 -0.990\n",
      "Zemb          2.868    0.980  2.927 0.003  0.948  4.788\n",
      "ZsocPres      0.223    0.986  0.226 0.821 -1.709  2.154\n",
      "Group Var    36.473    1.596                           \n",
      "=======================================================\n",
      "\n",
      "                  chi2                  P>chi2  df constraint\n",
      "Intercept   480.028820  2.106068878903975e-106              1\n",
      "agent         1.554538     0.21246675759794567              1\n",
      "cult          0.923567     0.33654022875913747              1\n",
      "agent:cult    2.513626     0.11286595247221609              1\n",
      "Zatg          0.032092      0.8578267071858483              1\n",
      "Zatg:cult     1.113414      0.2913410562171221              1\n",
      "Zstat         1.913923      0.1665281496888828              1\n",
      "Zstat:cult    6.027020    0.014088499461695783              1\n",
      "Zemb          8.569370    0.003418654947632448              1\n",
      "ZsocPres      0.051047       0.821251124983672              1\n",
      "<F test: F=array([[3.22178481]]), p=0.0006372234829315827, df_denom=250, df_num=10>\n"
     ]
    }
   ],
   "source": [
    "# linear mixed effects model\n",
    "data = pro\n",
    "mod_lme = sm.MixedLM.from_formula(\"offerAg ~ agent*cult + Zatg*cult + Zstat*cult + Zemb + ZsocPres\", \n",
    "                                  data, groups=data[\"ID\"], use_sqrt=True)\n",
    "results = mod_lme.fit()\n",
    "print(results.summary())\n",
    "print(results.wald_test_terms())\n",
    "\n",
    "A = np.identity(len(results.params))\n",
    "A = A[1:,:]\n",
    "print(results.f_test(A))"
   ]
  },
  {
   "cell_type": "code",
   "execution_count": null,
   "metadata": {},
   "outputs": [],
   "source": []
  }
 ],
 "metadata": {
  "kernelspec": {
   "display_name": "Python 3",
   "language": "python",
   "name": "python3"
  },
  "language_info": {
   "codemirror_mode": {
    "name": "ipython",
    "version": 3
   },
   "file_extension": ".py",
   "mimetype": "text/x-python",
   "name": "python",
   "nbconvert_exporter": "python",
   "pygments_lexer": "ipython3",
   "version": "3.6.4"
  }
 },
 "nbformat": 4,
 "nbformat_minor": 2
}
